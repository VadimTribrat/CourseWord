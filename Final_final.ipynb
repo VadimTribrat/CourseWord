{
 "cells": [
  {
   "cell_type": "code",
   "execution_count": 1,
   "metadata": {},
   "outputs": [
    {
     "name": "stderr",
     "output_type": "stream",
     "text": [
      "C:\\Users\\vdtri\\anaconda3\\lib\\site-packages\\scipy\\sparse\\sparsetools.py:21: DeprecationWarning: `scipy.sparse.sparsetools` is deprecated!\n",
      "scipy.sparse.sparsetools is a private module for scipy.sparse, and should not be used.\n",
      "  _deprecated()\n",
      "C:\\Users\\vdtri\\anaconda3\\lib\\site-packages\\sklearn\\feature_extraction\\image.py:172: DeprecationWarning: `np.int` is a deprecated alias for the builtin `int`. To silence this warning, use `int` by itself. Doing this will not modify any behavior and is safe. When replacing `np.int`, you may wish to use e.g. `np.int64` or `np.int32` to specify the precision. If you wish to review your current use, check the release note link for additional information.\n",
      "Deprecated in NumPy 1.20; for more details and guidance: https://numpy.org/devdocs/release/1.20.0-notes.html#deprecations\n",
      "  dtype=np.int):\n"
     ]
    }
   ],
   "source": [
    "import pandas as pd\n",
    "import numpy as np\n",
    "import re\n",
    "from umap import UMAP\n",
    "from math import log\n",
    "import os\n",
    "from tqdm import tqdm\n",
    "from stop_words import get_stop_words\n",
    "stop_words = get_stop_words('ru')\n",
    "from pymystem3 import Mystem\n",
    "from collections import defaultdict\n",
    "import artm\n",
    "import math\n",
    "import top2vec\n",
    "from top2vec import Top2Vec\n",
    "from scipy.spatial import distance\n",
    "%matplotlib inline\n",
    "import glob\n",
    "import gensim\n",
    "from sklearn.mixture import GaussianMixture\n",
    "import logging\n",
    "from gensim.models import Word2Vec\n",
    "from gensim.models.callbacks import CallbackAny2Vec\n",
    "import hdbscan\n",
    "from sklearn.feature_extraction.text import TfidfVectorizer,HashingVectorizer\n",
    "import matplotlib.pyplot as plt\n",
    "from statistics import median, variance\n",
    "import pickle\n",
    "import warnings\n",
    "warnings.filterwarnings('ignore')\n",
    "with warnings.catch_warnings():\n",
    "    warnings.filterwarnings(\"ignore\",category=DeprecationWarning)"
   ]
  },
  {
   "cell_type": "markdown",
   "metadata": {},
   "source": [
    "# Functions"
   ]
  },
  {
   "cell_type": "code",
   "execution_count": 2,
   "metadata": {},
   "outputs": [],
   "source": [
    "pattern = re.compile(\"[а-яА-ЯёЁ]+\")\n",
    "m = Mystem()\n",
    "model_path = r'C:\\Users\\vdtri\\Documents\\ВКР\\Программа\\models\\\\'\n",
    "path_to_prog = r'C:\\Users\\vdtri\\Documents\\ВКР\\Программа\\\\'\n",
    "\n",
    "def stemming(text, m):\n",
    "    lemmas = m.lemmatize(text)\n",
    "    return ''.join(lemmas)\n",
    "\n",
    "def sem_close_ARTM(model_artm):\n",
    "    sem = list()\n",
    "    for topic_name in model_artm.topic_names:\n",
    "#         print(topic_name + ': ')\n",
    "        temp = model_artm.score_tracker['TopTokensScore'].last_tokens[topic_name]\n",
    "        sum_ = 0\n",
    "        for ind, word1 in enumerate(temp):\n",
    "            for word2 in temp:\n",
    "                try:\n",
    "                    sum_ += distance.cosine(w2v[word1], w2v[word2])\n",
    "                except:\n",
    "                    sum_ +=1.0\n",
    "        sem.append(sum_/len(temp))\n",
    "#    return sum(sem)/len(sem)\n",
    "    return sem\n",
    "\n",
    "def doc2vow(text):\n",
    "    text = text.split(sep='.')\n",
    "    temp_block = list()\n",
    "    for pred in text:\n",
    "        temp_block.append(' '.join(re.findall(pattern, pred)))\n",
    "    text = temp_block   \n",
    "    text = stemming(' . '.join(text), m).split(sep = '.')\n",
    "    \n",
    "    vow = str()\n",
    "    defdict = defaultdict(int)\n",
    "    new_text = str()\n",
    "    for word in''.join(text).replace('\\n', '').split():\n",
    "        if len(word)>2 and word not in stop_words:\n",
    "            defdict[word] += 1\n",
    "    vow += 'doc' + ' '\n",
    "    for key, elem in defdict.items():\n",
    "        vow += key + ':' + str(elem) + ' '\n",
    "    vow += '\\n'\n",
    "    with open('vow_test.txt', 'w+', encoding='utf-8') as file:\n",
    "        file.write(vow)\n",
    "    batch_vectorizer_test = artm.BatchVectorizer(data_path='vow_test.txt',\n",
    "                                        data_format='vowpal_wabbit',\n",
    "                                        target_folder='batch_test')\n",
    "    return batch_vectorizer_test\n",
    "\n",
    "def get_theta(model, batch):\n",
    "    return model.transform(batch_vectorizer=batch)\n",
    "\n",
    "def bestTopics(vector, topics):\n",
    "    new_vec = list()\n",
    "    for ind, item in enumerate(topics):\n",
    "        new_vec.append(vector[topics[ind]])\n",
    "    return new_vec\n",
    "\n",
    "def sem_close_Top2vec(model):\n",
    "    sem = list()\n",
    "    for i in range(model.get_num_topics()):\n",
    "        temp = model.topic_words[i][:6]\n",
    "        sum_ = 0\n",
    "        for ind, word1 in enumerate(temp):\n",
    "            for word2 in temp:\n",
    "                try:\n",
    "                    sum_ += distance.cosine(navec[word1], navec[word2])\n",
    "                except:\n",
    "                    sum_ +=0.7\n",
    "        sem.append(sum_/len(temp))\n",
    "#    return sum(sem)/len(sem)\n",
    "    return sem\n",
    "\n",
    "def topic_probs(doc, topic_vecs, k):\n",
    "    results = list()\n",
    "    ind = 0\n",
    "    for i in topic_vecs:\n",
    "        results.append(1/(distance.euclidean(doc, i) ** k))\n",
    "    return np.array(results)/sum(results)\n",
    "\n",
    "# def dist_top10(item, items_list):\n",
    "#     res = list()\n",
    "#     for i in tqdm(items_list):\n",
    "#         res.append(distance.cosine(item, list(i)))\n",
    "#     return sorted(zip(range(len(items_list)), res), key = lambda x: x[1])\n",
    "\n",
    "def dist_top10(item, items_list):\n",
    "    res = list()\n",
    "    for i in items_list:\n",
    "        res.append(distance.cosine(item, i))\n",
    "    return sorted(zip(range(len(res)), res), key = lambda x: x[1])[1:11]\n",
    "\n",
    "def prec(pred, k, num):\n",
    "    s = 0\n",
    "    for i in range(k):\n",
    "        if pred[i] < num + 11 and pred[i]>num:\n",
    "            s += 1\n",
    "    return s/k\n",
    "\n",
    "def clean_data(text):\n",
    "    text = text.split(sep='.')\n",
    "    temp_block = list()\n",
    "    for pred in text:\n",
    "        temp_block.append(' '.join(re.findall(pattern, pred)))\n",
    "    text = temp_block   \n",
    "    text = stemming(' . '.join(text), m).split(sep = '.')\n",
    "    new_text = str()\n",
    "    for word in ''.join(text).replace('\\n', '').split():\n",
    "        if len(word)>2 and word not in stop_words:\n",
    "            new_text += word + ' '\n",
    "    return new_text\n",
    "\n",
    "def create_dict(texts):\n",
    "    list_of_dicts = list()\n",
    "    dict_ = defaultdict(int)\n",
    "    for text in tqdm(texts):\n",
    "        list_of_dicts.append(defaultdict(int))\n",
    "        for word in text.split():\n",
    "            list_of_dicts[-1][word] += 1\n",
    "            dict_[word] += 1\n",
    "    return (list_of_dicts, dict_)"
   ]
  },
  {
   "cell_type": "markdown",
   "metadata": {},
   "source": [
    "# Preprocessing"
   ]
  },
  {
   "cell_type": "code",
   "execution_count": 4,
   "metadata": {},
   "outputs": [],
   "source": [
    "os.chdir(r'C:\\Users\\vdtri\\Documents\\ВКР\\Программа\\wiki_18k')\n",
    "\n",
    "texts = list()\n",
    "path = r'C:\\Users\\vdtri\\Documents\\ВКР\\Программа\\wiki_18k'\n",
    "for file in tqdm(os.listdir(path)):\n",
    "    with open(file, 'r', encoding='utf-8') as file_handler:\n",
    "        texts.append(file_handler.read())\n",
    "texts = list(set(texts))"
   ]
  },
  {
   "cell_type": "code",
   "execution_count": 5,
   "metadata": {},
   "outputs": [],
   "source": [
    "os.chdir(r'C:\\Users\\vdtri\\Documents\\ВКР\\Программа')\n",
    "habr = pd.read_csv(\"habr_posts.csv\")\n",
    "habr = list(habr['text'].values)\n",
    "habr_texts = list()\n",
    "for i in tqdm(habr):\n",
    "    try:\n",
    "        if len(i.split())>500:\n",
    "            habr_texts.append(i)\n",
    "    except:\n",
    "        pass\n",
    "habr_texts = list(set(habr_texts))\n",
    "len(habr_texts)"
   ]
  },
  {
   "cell_type": "code",
   "execution_count": 6,
   "metadata": {},
   "outputs": [],
   "source": [
    "all_texts = list()\n",
    "all_texts = texts + habr_texts\n",
    "print(len(all_texts))"
   ]
  },
  {
   "cell_type": "code",
   "execution_count": 7,
   "metadata": {},
   "outputs": [],
   "source": [
    "for i, item in enumerate(all_texts):\n",
    "    all_texts[i] = all_texts[i].split(sep='.')\n",
    "for i in tqdm(range(len(all_texts))):\n",
    "    temp_block = list()\n",
    "    for pred in all_texts[i]:\n",
    "        temp_block.append(' '.join(re.findall(pattern, pred)))\n",
    "    new_str = str()\n",
    "    for word in ' '.join(temp_block).split():\n",
    "        if word not in stop_words and len(word)>2:\n",
    "            new_str = new_str + word + ' '\n",
    "    all_texts[i] = new_str"
   ]
  },
  {
   "cell_type": "code",
   "execution_count": 8,
   "metadata": {},
   "outputs": [],
   "source": [
    "for i in tqdm(range(len(all_texts))):\n",
    "    temp_block = list() \n",
    "    all_texts[i] = stemming(' . '.join(all_texts[i]), m).split(sep = '.')"
   ]
  },
  {
   "cell_type": "markdown",
   "metadata": {},
   "source": [
    "with open('entry.pickle', 'wb') as f: pickle.dump(all_texts, f)"
   ]
  },
  {
   "cell_type": "markdown",
   "metadata": {},
   "source": [
    "Vowpal wabbit"
   ]
  },
  {
   "cell_type": "code",
   "execution_count": 9,
   "metadata": {},
   "outputs": [],
   "source": [
    "vow_list = list()\n",
    "for i in tqdm(range(len(all_texts_clean))):\n",
    "    vow = str()\n",
    "    defdict = defaultdict(int)\n",
    "    new_text = str()\n",
    "    for word in all_texts_clean[i].replace('\\n', '').split():\n",
    "        if len(word)>2 and word not in stop_words:\n",
    "            defdict[word] += 1\n",
    "    vow += 'doc' + str(i) + ' '\n",
    "    for key, elem in defdict.items():\n",
    "        vow += key + ':' + str(elem) + ' '\n",
    "    vow_list.append(vow)\n",
    "#    vow += '\\n'"
   ]
  },
  {
   "cell_type": "markdown",
   "metadata": {},
   "source": [
    "with open('vow.txt', 'w+', encoding='utf-8') as file_handler:\n",
    "    for i in tqdm(range(len(vow_list))):\n",
    "        file_handler.write(vow_list[i] + '\\n')"
   ]
  },
  {
   "cell_type": "markdown",
   "metadata": {},
   "source": [
    "Uci bag of words"
   ]
  },
  {
   "cell_type": "code",
   "execution_count": 12,
   "metadata": {},
   "outputs": [],
   "source": [
    "list_of_dicts, dict_ = create_dict(all_texts_clean)\n",
    "\n",
    "wordID = defaultdict(int)\n",
    "i = 1\n",
    "for key, value in list(dict_.items()):\n",
    "    wordID[key] = i\n",
    "    i += 1\n",
    "    \n",
    "triplet_list = list()\n",
    "for i, text in enumerate(all_texts_clean):\n",
    "    for word in text.split():\n",
    "        triplet_list.append((i, wordID[word], list_of_dicts[i][word]))\n",
    "len(triplet_list)\n",
    "\n",
    "with open('docword.UCI_dataset', mode = 'w+', encoding='utf-8') as file_handler:\n",
    "    file_handler.write(str(len(all_texts_clean)) + '\\n')\n",
    "    file_handler.write(str(len(dict_.keys())) + '\\n')  \n",
    "    sum = 0\n",
    "    for key, value in list(dict_.items()):\n",
    "        sum += value\n",
    "    file_handler.write(str(sum) + '\\n') \n",
    "    for item1, item2, item3 in tqdm(triplet_list):\n",
    "        file_handler.write(str(item1) + ' ' + str(item2) + ' ' + str(item3) + '\\n')"
   ]
  },
  {
   "cell_type": "markdown",
   "metadata": {},
   "source": [
    "with open(r'C:\\Users\\vdtri\\Documents\\ВКР\\Программа\\vocab.UCI_dataset.txt', mode = 'w+', encoding='utf-8') as file_handler: \n",
    "    for key, value in list(dict_.items()): \n",
    "        file_handler.write(str(key) + '\\n')"
   ]
  },
  {
   "cell_type": "code",
   "execution_count": 14,
   "metadata": {},
   "outputs": [],
   "source": [
    "UCI_data = str()\n",
    "with open('UCI_dataset', mode = 'r', encoding='utf-8') as file_handler:\n",
    "    UCI_data = file_handler.read()"
   ]
  },
  {
   "cell_type": "markdown",
   "metadata": {},
   "source": [
    "without noise"
   ]
  },
  {
   "cell_type": "code",
   "execution_count": 28,
   "metadata": {},
   "outputs": [
    {
     "name": "stderr",
     "output_type": "stream",
     "text": [
      "100%|██████████████████████████████████████████████████████████████████████████| 20930/20930 [00:14<00:00, 1418.86it/s]\n",
      "100%|██████████████████████████████████████████████████████████████████| 14057233/14057233 [00:34<00:00, 408126.76it/s]\n"
     ]
    }
   ],
   "source": [
    "list_of_dicts, dict_ = create_dict(new_doc)\n",
    "\n",
    "wordID = defaultdict(int)\n",
    "i = 1\n",
    "for key, value in list(dict_.items()):\n",
    "    wordID[key] = i\n",
    "    i += 1\n",
    "    \n",
    "triplet_list = list()\n",
    "for i, text in enumerate(new_doc):\n",
    "    for word in text.split():\n",
    "        triplet_list.append((i, wordID[word], list_of_dicts[i][word]))\n",
    "len(triplet_list)\n",
    "\n",
    "with open('docword_noise.UCI_dataset', mode = 'w+', encoding='utf-8') as file_handler:\n",
    "    file_handler.write(str(len(new_doc)) + '\\n')\n",
    "    file_handler.write(str(len(dict_.keys())) + '\\n')  \n",
    "    sum = 0\n",
    "    for key, value in list(dict_.items()):\n",
    "        sum += value\n",
    "    file_handler.write(str(sum) + '\\n') \n",
    "    for item1, item2, item3 in tqdm(triplet_list):\n",
    "        file_handler.write(str(item1) + ' ' + str(item2) + ' ' + str(item3) + '\\n')"
   ]
  },
  {
   "cell_type": "code",
   "execution_count": 29,
   "metadata": {},
   "outputs": [],
   "source": [
    "with open(r'C:\\Users\\vdtri\\Documents\\ВКР\\Программа\\vocab_noise.UCI_dataset.txt', mode = 'w+', encoding='utf-8') as file_handler: \n",
    "    for key, value in list(dict_.items()): \n",
    "        file_handler.write(str(key) + '\\n')"
   ]
  },
  {
   "cell_type": "code",
   "execution_count": null,
   "metadata": {},
   "outputs": [],
   "source": [
    "UCI_data_noise = str()\n",
    "with open('UCI_dataset', mode = 'r', encoding='utf-8') as file_handler:\n",
    "    UCI_data = file_handler.read()"
   ]
  },
  {
   "cell_type": "code",
   "execution_count": 135,
   "metadata": {},
   "outputs": [],
   "source": [
    "train, val, test = sentences_1[:-550], sentences_1[-550:-330], sentences_1[-330:]"
   ]
  },
  {
   "cell_type": "markdown",
   "metadata": {},
   "source": [
    "# SCDV"
   ]
  },
  {
   "cell_type": "code",
   "execution_count": 3,
   "metadata": {},
   "outputs": [],
   "source": [
    "class EpochLogger(CallbackAny2Vec):\n",
    "    '''Callback to log information about training'''\n",
    "\n",
    "    def __init__(self):\n",
    "        self.epoch = 0\n",
    "\n",
    "    def on_epoch_begin(self, model):\n",
    "        print(\"Epoch #{} start\".format(self.epoch))\n",
    "\n",
    "    def on_epoch_end(self, model):\n",
    "        print(\"Epoch #{} end\".format(self.epoch))\n",
    "        self.epoch += 1\n",
    "\n",
    "epoch_logger = EpochLogger()"
   ]
  },
  {
   "cell_type": "code",
   "execution_count": 4,
   "metadata": {},
   "outputs": [],
   "source": [
    "class SCDV:\n",
    "    \n",
    "    def __init__(self, data, w2v):\n",
    "        self.data = data\n",
    "        self.w2v = w2v\n",
    "        self.gmm_word = GaussianMixture(n_components=120,\n",
    "                                        max_iter = 50)\n",
    "        self.gmm_text = GaussianMixture(n_components=180, \n",
    "                                        max_iter = 80, \n",
    "                                        covariance_type = 'tied')\n",
    "        umap_default_args = {'n_neighbors': 30,\n",
    "             'n_components': 15,\n",
    "             'metric': 'cosine'}\n",
    "        self.n_features = 120\n",
    "        self.umap_word = UMAP(**umap_default_args)\n",
    "        self.umap_text = UMAP(**umap_default_args)\n",
    "        self.soft_clusters = None\n",
    "        self.soft_clustersKD = None\n",
    "        \n",
    "    def fit(self,\n",
    "            tune_umap_word = False, \n",
    "            tune_gmm_word = False, \n",
    "            tune_umap_text = False,\n",
    "            tune_gmm_text = False,  \n",
    "            val_data = None):\n",
    "        self.idfs = self._get_idfs()\n",
    "        self.keys= list()\n",
    "        self.word_vectors = list()\n",
    "        for i, _ in tqdm(self.idfs.items()):\n",
    "            try:\n",
    "                self.word_vectors.append(w2v[i])\n",
    "                self.keys.append(i)\n",
    "            except:\n",
    "                pass\n",
    "        if tune_umap_word:\n",
    "            self._tune_umap_word(val_data)\n",
    "        else:\n",
    "            self.umap_word.fit(np.array(self.word_vectors))\n",
    "        if tune_gmm_word:\n",
    "            self._tune_gmm_word(val_data)\n",
    "        else:\n",
    "            self.gmm_word.fit(self.umap_word.embedding_)\n",
    "        self.soft_clusters = self._get_soft_clusters()\n",
    "        self.soft_clustersKD = self._get_soft_clustersKD()\n",
    "        if tune_umap_text:\n",
    "            self._tune_umap_text(val_data)\n",
    "        for counter, elem in enumerate(self.umap_text.embedding_):\n",
    "            i = 1\n",
    "            for a in elem:\n",
    "                if math.isnan(a):\n",
    "                    self.umap_text.embedding_[counter] = [0]*length\n",
    "        if tune_gmm_text:\n",
    "            self._tune_gmm_text(val_data)\n",
    "        \n",
    "        text_vectors = list()\n",
    "        length = len(self.umap_word.embedding_[0])*self.n_features\n",
    "        for elem in self.data:\n",
    "            sum_ = np.array([0]*length)\n",
    "            counter = 0\n",
    "            for word in elem.split():\n",
    "                try:\n",
    "                    sum_ = sum_ + np.array(self.soft_clustersKD[word])\n",
    "                    counter = counter + 1\n",
    "                except:\n",
    "                    pass\n",
    "            text_vectors.append(sum_/counter)\n",
    "\n",
    "        counter = 0\n",
    "        i = 1\n",
    "        for counter, elem in enumerate(text_vectors):\n",
    "            i = 1\n",
    "            for a in elem:\n",
    "                if math.isnan(a):\n",
    "                    text_vectors[counter] = [0]*length\n",
    "        if tune_umap_text == False:\n",
    "            self.umap_text.fit(text_vectors)\n",
    "        for counter, elem in enumerate(self.umap_text.embedding_):\n",
    "            i = 1\n",
    "            for a in elem:\n",
    "                if math.isnan(a):\n",
    "                    self.umap_text.embedding_[counter] = [0]*length\n",
    "        if tune_gmm_text == False:\n",
    "            self.gmm_text.fit(self.umap_text.embedding_)\n",
    "    \n",
    "    def _get_soft_clusters(self):\n",
    "        pred = self.gmm_word.predict_proba(self.umap_word.embedding_)\n",
    "        soft_clusters = dict(zip(self.keys, pred))\n",
    "        return soft_clusters\n",
    "        \n",
    "    def _get_soft_clustersKD(self):\n",
    "        i = 0\n",
    "        soft_clustersKD = defaultdict(list)\n",
    "        for key in self.keys:\n",
    "            new_list = list()\n",
    "            for k in self.soft_clusters[key]:\n",
    "                new_list = new_list + list(np.array(self.umap_word.embedding_[i])*k)\n",
    "            soft_clustersKD[key] = np.array(new_list)*self.idfs[key]\n",
    "            i = i + 1\n",
    "        return soft_clustersKD\n",
    "        \n",
    "        \n",
    "    def _get_idfs(self):\n",
    "        tfv = TfidfVectorizer(min_df = 2)\n",
    "        tfidfmatrix_traindata = tfv.fit_transform(self.data)\n",
    "        featurenames = tfv.get_feature_names()\n",
    "        idf = tfv._tfidf.idf_\n",
    "        return dict(zip(featurenames, idf))        \n",
    "        \n",
    "    def _tune_umap_text(self, val_data):\n",
    "        print(\"tune umap text\\n\")\n",
    "        scores = list()        \n",
    "        text_vectors = list()\n",
    "        length = len(self.umap_word.embedding_[0])*self.n_features\n",
    "        for elem in self.data:\n",
    "            sum_ = np.array([0]*length)\n",
    "            counter = 0\n",
    "            for word in elem.split():\n",
    "                try:\n",
    "                    sum_ = sum_ + np.array(self.soft_clustersKD[word])\n",
    "                    counter = counter + 1\n",
    "                except:\n",
    "                    pass\n",
    "            text_vectors.append(sum_/counter)\n",
    "\n",
    "        counter = 0\n",
    "        i = 1\n",
    "        for counter, elem in enumerate(text_vectors):\n",
    "            i = 1\n",
    "            for a in elem:\n",
    "                if math.isnan(a):\n",
    "                    text_vectors[counter] = [0]*length\n",
    "                    \n",
    "        for i in tqdm(range(2, 15)):\n",
    "            umap_args = {'n_neighbors': 30,\n",
    "                 'n_components': i,\n",
    "                 'metric': 'cosine'}\n",
    "            self.umap_text = UMAP(**umap_args)\n",
    "            self.umap_text.fit(text_vectors)\n",
    "            for counter, elem in enumerate(self.umap_text.embedding_):\n",
    "                i = 1\n",
    "                for a in elem:\n",
    "                    if math.isnan(a):\n",
    "                        self.umap_text.embedding_[counter] = [0]*len(self.umap_text.embedding_[0])\n",
    "            self.gmm_text.fit(self.umap_text.embedding_)\n",
    "            va = self._compute_score_pred(val_data)\n",
    "            print(va)\n",
    "            scores.append(va)\n",
    "        param = sorted(zip(scores, range(2, 15)), \n",
    "                       key = lambda x: x[0], \n",
    "                       reverse = True)[0][1]\n",
    "        umap_args = {'n_neighbors': 30,\n",
    "                     'n_components': param,\n",
    "                     'metric': 'cosine'}\n",
    "        self.umap_text.fit(np.array(text_vectors))\n",
    "        \n",
    "    def _tune_umap_word(self, val_data):\n",
    "        print(\"tune umap word\\n\")\n",
    "        scores = list()\n",
    "        for i in tqdm(range(15, 16)):\n",
    "            umap_args = {'n_neighbors': 30,\n",
    "                 'n_components': i,\n",
    "                 'metric': 'cosine'}\n",
    "            self.umap_word = UMAP(**umap_args)\n",
    "            self.umap_word.fit(np.array(self.word_vectors))\n",
    "            self.gmm_word.fit(self.umap_word.embedding_)\n",
    "            self.soft_clusters = self._get_soft_clusters()\n",
    "            self.soft_clustersKD = self._get_soft_clustersKD() \n",
    "            \n",
    "            text_vectors = list()\n",
    "            length = len(self.umap_word.embedding_[0])*self.n_features\n",
    "            for elem in self.data:\n",
    "                sum_ = np.array([0]*length)\n",
    "                counter = 0\n",
    "                for word in elem.split():\n",
    "                    try:\n",
    "                        sum_ = sum_ + np.array(self.soft_clustersKD[word])\n",
    "                        counter = counter + 1\n",
    "                    except:\n",
    "                        pass\n",
    "                text_vectors.append(sum_/counter)\n",
    "                \n",
    "            counter = 0\n",
    "            i = 1\n",
    "            for counter, elem in enumerate(text_vectors):\n",
    "                i = 1\n",
    "                for a in elem:\n",
    "                    if math.isnan(a):\n",
    "                        text_vectors[counter] = [0]*length\n",
    "            self.umap_text.fit(text_vectors)\n",
    "            for counter, elem in enumerate(self.umap_text.embedding_):\n",
    "                i = 1\n",
    "                for a in elem:\n",
    "                    if math.isnan(a):\n",
    "                        self.umap_text.embedding_[counter] = [0]*length\n",
    "            self.gmm_text.fit(self.umap_text.embedding_)\n",
    "            print(\"brefore score\")\n",
    "            va = self._compute_score_pred(val_data)\n",
    "            print(va)\n",
    "            scores.append(va)\n",
    "        param = sorted(zip(scores, range(2, 15)), \n",
    "                       key = lambda x: x[0], \n",
    "                       reverse = True)[0][1]\n",
    "        umap_args = {'n_neighbors': 30,\n",
    "                     'n_components': param,\n",
    "                     'metric': 'cosine'}\n",
    "        self.umap_word.fit(np.array(self.word_vectors))\n",
    "            \n",
    "        \n",
    "    def _tune_gmm_word(self, val_data):\n",
    "        print(\"tune gmm word\\n\")\n",
    "        scores = list()\n",
    "        for i in tqdm(range(20, 140, 20)):\n",
    "            self.gmm_word = GaussianMixture(\n",
    "                n_components=i,\n",
    "                max_iter = 50)\n",
    "            self.n_features = i\n",
    "            self.gmm_word.fit(self.umap_word.embedding_)\n",
    "            self.soft_clusters = self._get_soft_clusters()\n",
    "            self.soft_clustersKD = self._get_soft_clustersKD() \n",
    "            \n",
    "            text_vectors = list()\n",
    "            length = len(self.umap_word.embedding_[0])*self.n_features\n",
    "            for elem in self.data:\n",
    "                sum_ = np.array([0]*length)\n",
    "                counter = 0\n",
    "                for word in elem.split():\n",
    "                    try:\n",
    "                        sum_ = sum_ + np.array(self.soft_clustersKD[word])\n",
    "                        counter = counter + 1\n",
    "                    except:\n",
    "                        pass\n",
    "                text_vectors.append(sum_/counter)\n",
    "                \n",
    "            counter = 0\n",
    "            i = 1\n",
    "            for counter, elem in enumerate(text_vectors):\n",
    "                i = 1\n",
    "                for a in elem:\n",
    "                    if math.isnan(a):\n",
    "                        text_vectors[counter] = [0]*length\n",
    "            self.umap_text.fit(text_vectors)\n",
    "            for counter, elem in enumerate(self.umap_text.embedding_):\n",
    "                i = 1\n",
    "                for a in elem:\n",
    "                    if math.isnan(a):\n",
    "                        self.umap_text.embedding_[counter] = [0]*length\n",
    "            self.gmm_text.fit(self.umap_text.embedding_)\n",
    "            va = self._compute_score_pred(val_data)\n",
    "            print(va)\n",
    "            scores.append(va)\n",
    "        param = sorted(zip(scores, range(20, 140, 20)), \n",
    "                       key = lambda x: x[0], \n",
    "                       reverse = True)[0][1]\n",
    "        self.gmm_word = GaussianMixture(\n",
    "            n_components=param,\n",
    "            max_iter = 50)\n",
    "        self.gmm_word.fit(self.umap_word.embedding_)\n",
    "        \n",
    "    def _tune_gmm_text(self, val_data):\n",
    "        print(\"tune gmm text\\n\")\n",
    "        scores = list()        \n",
    "        text_vectors = list()\n",
    "#        length = len(w2v['диск'])*len(self.soft_clustersKD[\"диск\"])\n",
    "        length = len(self.umap_word.embedding_[0])*self.n_features\n",
    "        for elem in self.data:\n",
    "            sum_ = np.array([0]*length)\n",
    "            counter = 0\n",
    "            for word in elem.split():\n",
    "                try:\n",
    "                    sum_ = sum_ + np.array(self.soft_clustersKD[word])\n",
    "                    counter = counter + 1\n",
    "                except:\n",
    "                    pass\n",
    "            text_vectors.append(sum_/counter)\n",
    "\n",
    "        counter = 0\n",
    "        i = 1\n",
    "        for counter, elem in enumerate(text_vectors):\n",
    "            i = 1\n",
    "            for a in elem:\n",
    "                if math.isnan(a):\n",
    "                    text_vectors[counter] = [0]*length\n",
    "                    \n",
    "        for i in tqdm(range(40, 220, 20)):\n",
    "            self.gmm_text = GaussianMixture(n_components=i, \n",
    "                                max_iter = 80, \n",
    "                                covariance_type = 'tied')\n",
    "            self.gmm_text.fit(self.umap_text.embedding_)\n",
    "            va = self._compute_score(val_data)\n",
    "            print(va)\n",
    "            scores.append(va)\n",
    "        param = sorted(zip(scores, range(40, 220, 20)), \n",
    "                       key = lambda x: x[0], \n",
    "                       reverse = True)[0][1]\n",
    "        self.gmm_text = GaussianMixture(n_components=param, \n",
    "                            max_iter = 80, \n",
    "                            covariance_type = 'tied')\n",
    "        self.gmm_text.fit(self.umap_text.embedding_)\n",
    "        \n",
    "    def _compute_score(self, val_data):\n",
    "        test_vectors = list()\n",
    "        length = len(self.umap_word.embedding_[0])*self.n_features\n",
    "        for text in val_data:\n",
    "            sum_ = np.array([0]*length)\n",
    "            counter = 0\n",
    "            for word in text.split():\n",
    "                try:\n",
    "                    sum_ = sum_ + np.array(self.soft_clustersKD[word])\n",
    "                    counter = counter + 1\n",
    "                except:\n",
    "                    pass\n",
    "            test_vectors.append(sum_/counter)\n",
    "        for counter, elem in enumerate(test_vectors):\n",
    "            for a in elem:\n",
    "                if (math.isnan(a)):\n",
    "                    test_vectors[counter] = [0]*length\n",
    "\n",
    "        pred_prob = self.umap_text.transform(test_vectors)\n",
    "        for counter, elem in enumerate(pred_prob):\n",
    "            for a in elem:\n",
    "                if math.isnan(a):\n",
    "                    pred_prob[counter] = [0]*len(self.umap_text.embedding_[0])\n",
    "        new_test_vecs = self.gmm_text.predict_proba(pred_prob)\n",
    "        \n",
    "        big_res = list()\n",
    "        for s in range(len(val_data) // 100):\n",
    "            results = list()\n",
    "            for i in [i*11 for i in range(10)]:\n",
    "                results.append(dist_top10(new_test_vecs[110*s:110*(s+1)][i], \n",
    "                                          new_test_vecs[110*s:110*(s+1)]))\n",
    "\n",
    "            leest = list()\n",
    "            for i in range(10):\n",
    "                leest.append(prec(list(map(lambda x: x[0], results[i])), 10, i*11))\n",
    "            big_res.append(sum(leest)/len(leest))\n",
    "        return sum(big_res)/len(big_res)\n",
    "    \n",
    "    def _compute_score_pred(self, val_data):\n",
    "        test_vectors = list()\n",
    "        \n",
    "        length = len(self.umap_word.embedding_[0])*self.n_features\n",
    "        \n",
    "        for text in val_data:\n",
    "            sum_ = np.array([0]*length)\n",
    "            counter = 0\n",
    "            for word in text.split():\n",
    "                try:\n",
    "                    sum_ = sum_ + np.array(self.soft_clustersKD[word])\n",
    "                    counter = counter + 1\n",
    "                except:\n",
    "                    pass\n",
    "            test_vectors.append(sum_/counter)\n",
    "        for counter, elem in enumerate(test_vectors):\n",
    "            for a in elem:\n",
    "                if (math.isnan(a)):\n",
    "                    test_vectors[counter] = [0]*length\n",
    "            \n",
    "\n",
    "        pred_prob = self.umap_text.transform(test_vectors)\n",
    "        \n",
    "        big_res = list()\n",
    "        for s in range(len(val_data) // 100):\n",
    "            results = list()\n",
    "            for i in [i*11 for i in range(10)]:\n",
    "                results.append(dist_top10(pred_prob[110*s:110*(s+1)][i], \n",
    "                                          pred_prob[110*s:110*(s+1)]))\n",
    "\n",
    "            leest = list()\n",
    "            for i in range(10):\n",
    "                leest.append(prec(list(map(lambda x: x[0], results[i])), 10, i*11))\n",
    "            big_res.append(sum(leest)/len(leest))\n",
    "        return sum(big_res)/len(big_res)\n",
    "    \n",
    "    def get_vectors(self, texts):\n",
    "        vectors = list()\n",
    "        length = len(self.umap_word.embedding_[0])*self.n_features\n",
    "        for text in texts:\n",
    "            sum_ = np.array([0]*length)\n",
    "            counter = 0\n",
    "            for word in text.split():\n",
    "                try:\n",
    "                    sum_ = sum_ + np.array(self.soft_clustersKD[word])\n",
    "                    counter = counter + 1\n",
    "                except:\n",
    "                    pass\n",
    "            vectors.append(sum_/counter)\n",
    "        for counter, elem in enumerate(vectors):\n",
    "            for a in elem:\n",
    "                if (math.isnan(a)):\n",
    "                    vectors[counter] = [0]*length\n",
    "        pred_prob = self.umap_text.transform(vectors)\n",
    "        new_test_vecs_1 = self.gmm_text.predict_proba(pred_prob)\n",
    "        return new_test_vecs_1\n"
   ]
  },
  {
   "cell_type": "code",
   "execution_count": 5,
   "metadata": {},
   "outputs": [],
   "source": [
    "from gensim.models.fasttext import FastTextKeyedVectors\n",
    "from gensim.models import KeyedVectors\n",
    "w2v = FastTextKeyedVectors.load(r'C:\\Users\\vdtri\\Documents\\ВКР\\Программа\\213\\\\' + 'model.model')\n",
    "#w2v = KeyedVectors.load(model_path + 'word2vec_hard_06.model')"
   ]
  },
  {
   "cell_type": "code",
   "execution_count": 6,
   "metadata": {},
   "outputs": [],
   "source": [
    "with open(r'C:\\Users\\vdtri\\Documents\\ВКР\\Программа\\models\\SCDV\\sen_1', 'rb') as f:\n",
    "    sentences_1 = pickle.load(f)"
   ]
  },
  {
   "cell_type": "code",
   "execution_count": 7,
   "metadata": {},
   "outputs": [],
   "source": []
  },
  {
   "cell_type": "code",
   "execution_count": 136,
   "metadata": {},
   "outputs": [],
   "source": [
    "scdv_dr = SCDV(train, w2v)"
   ]
  },
  {
   "cell_type": "code",
   "execution_count": 11,
   "metadata": {},
   "outputs": [],
   "source": [
    "with open(r'C:\\Users\\vdtri\\Documents\\ВКР\\Программа\\models\\SCDV\\umap_word', 'rb') as f: \n",
    "    umap_word = pickle.load(f)\n",
    "with open(r'C:\\Users\\vdtri\\Documents\\ВКР\\Программа\\models\\SCDV\\gmm_word', 'rb') as f: \n",
    "    gmm_word = pickle.load(f)\n",
    "with open(r'C:\\Users\\vdtri\\Documents\\ВКР\\Программа\\models\\SCDV\\soft_clusters', 'rb') as f: \n",
    "    soft_clusters = pickle.load(f)\n",
    "with open(r'C:\\Users\\vdtri\\Documents\\ВКР\\Программа\\models\\SCDV\\soft_clustersKD', 'rb') as f: \n",
    "    soft_clustersKD = pickle.load(f)\n",
    "with open(r'C:\\Users\\vdtri\\Documents\\ВКР\\Программа\\models\\SCDV\\umap_text', 'rb') as f: \n",
    "    umap_text = pickle.load(f)\n",
    "with open(r'C:\\Users\\vdtri\\Documents\\ВКР\\Программа\\models\\SCDV\\gmm_text', 'rb') as f: \n",
    "    gmm_text = pickle.load(f)"
   ]
  },
  {
   "cell_type": "code",
   "execution_count": 12,
   "metadata": {},
   "outputs": [],
   "source": [
    "scdv.soft_clusters = soft_clusters\n",
    "scdv.soft_clustersKD = soft_clustersKD\n",
    "scdv.umap_text = umap_text\n",
    "scdv.gmm_text = gmm_text\n",
    "scdv.umap_word = umap_word\n",
    "scdv.gmm_word = gmm_word"
   ]
  },
  {
   "cell_type": "code",
   "execution_count": 55,
   "metadata": {
    "scrolled": true
   },
   "outputs": [
    {
     "name": "stderr",
     "output_type": "stream",
     "text": [
      "100%|███████████████████████████████████████████████████████████████████████| 109531/109531 [00:08<00:00, 13084.00it/s]\n"
     ]
    }
   ],
   "source": [
    "scdv.fit(False, False, False, False, val)"
   ]
  },
  {
   "cell_type": "code",
   "execution_count": 14,
   "metadata": {},
   "outputs": [],
   "source": [
    "scdv.w2v = w2v"
   ]
  },
  {
   "cell_type": "code",
   "execution_count": 85,
   "metadata": {},
   "outputs": [],
   "source": [
    "with open(r'C:\\Users\\vdtri\\Documents\\ВКР\\Программа\\models\\SCDV\\scdv_obj', 'wb') as f: \n",
    "    pickle.dump(scdv, f)"
   ]
  },
  {
   "cell_type": "code",
   "execution_count": null,
   "metadata": {},
   "outputs": [],
   "source": [
    "with open(r'C:\\Users\\vdtri\\Documents\\ВКР\\Программа\\models\\SCDV\\scdv_obj', 'rb') as f: \n",
    "    scdv = pickle.load(f)"
   ]
  },
  {
   "cell_type": "markdown",
   "metadata": {},
   "source": [
    "# SCDV without noise"
   ]
  },
  {
   "cell_type": "code",
   "execution_count": 74,
   "metadata": {},
   "outputs": [],
   "source": [
    "scdv_noise = SCDV(new_doc, w2v)"
   ]
  },
  {
   "cell_type": "code",
   "execution_count": 75,
   "metadata": {},
   "outputs": [
    {
     "name": "stderr",
     "output_type": "stream",
     "text": [
      "100%|██████████████████████████████████████████████████████████████████████████| 87869/87869 [00:52<00:00, 1676.17it/s]\n"
     ]
    },
    {
     "name": "stdout",
     "output_type": "stream",
     "text": [
      "tune umap text\n",
      "\n"
     ]
    },
    {
     "name": "stderr",
     "output_type": "stream",
     "text": [
      "  8%|██████▎                                                                           | 1/13 [02:12<26:30, 132.57s/it]"
     ]
    },
    {
     "name": "stdout",
     "output_type": "stream",
     "text": [
      "0.536\n"
     ]
    },
    {
     "name": "stderr",
     "output_type": "stream",
     "text": [
      "\r",
      " 15%|████████████▊                                                                      | 2/13 [03:02<15:23, 83.99s/it]"
     ]
    },
    {
     "name": "stdout",
     "output_type": "stream",
     "text": [
      "0.632\n"
     ]
    },
    {
     "name": "stderr",
     "output_type": "stream",
     "text": [
      "\r",
      " 23%|███████████████████▏                                                               | 3/13 [04:13<13:01, 78.12s/it]"
     ]
    },
    {
     "name": "stdout",
     "output_type": "stream",
     "text": [
      "0.662\n"
     ]
    },
    {
     "name": "stderr",
     "output_type": "stream",
     "text": [
      "\r",
      " 31%|█████████████████████████▌                                                         | 4/13 [05:11<10:30, 70.06s/it]"
     ]
    },
    {
     "name": "stdout",
     "output_type": "stream",
     "text": [
      "0.6859999999999999\n"
     ]
    },
    {
     "name": "stderr",
     "output_type": "stream",
     "text": [
      "\r",
      " 38%|███████████████████████████████▉                                                   | 5/13 [06:10<08:49, 66.21s/it]"
     ]
    },
    {
     "name": "stdout",
     "output_type": "stream",
     "text": [
      "0.702\n"
     ]
    },
    {
     "name": "stderr",
     "output_type": "stream",
     "text": [
      "\r",
      " 46%|██████████████████████████████████████▎                                            | 6/13 [07:37<08:32, 73.26s/it]"
     ]
    },
    {
     "name": "stdout",
     "output_type": "stream",
     "text": [
      "0.696\n"
     ]
    },
    {
     "name": "stderr",
     "output_type": "stream",
     "text": [
      "\r",
      " 54%|████████████████████████████████████████████▋                                      | 7/13 [08:43<07:05, 70.90s/it]"
     ]
    },
    {
     "name": "stdout",
     "output_type": "stream",
     "text": [
      "0.716\n"
     ]
    },
    {
     "name": "stderr",
     "output_type": "stream",
     "text": [
      "\r",
      " 62%|███████████████████████████████████████████████████                                | 8/13 [10:23<06:40, 80.05s/it]"
     ]
    },
    {
     "name": "stdout",
     "output_type": "stream",
     "text": [
      "0.722\n"
     ]
    },
    {
     "name": "stderr",
     "output_type": "stream",
     "text": [
      "\r",
      " 69%|█████████████████████████████████████████████████████████▍                         | 9/13 [11:42<05:19, 79.75s/it]"
     ]
    },
    {
     "name": "stdout",
     "output_type": "stream",
     "text": [
      "0.7\n"
     ]
    },
    {
     "name": "stderr",
     "output_type": "stream",
     "text": [
      "\r",
      " 77%|███████████████████████████████████████████████████████████████                   | 10/13 [13:16<04:12, 84.15s/it]"
     ]
    },
    {
     "name": "stdout",
     "output_type": "stream",
     "text": [
      "0.7\n"
     ]
    },
    {
     "name": "stderr",
     "output_type": "stream",
     "text": [
      "\r",
      " 85%|█████████████████████████████████████████████████████████████████████▍            | 11/13 [14:49<02:53, 86.84s/it]"
     ]
    },
    {
     "name": "stdout",
     "output_type": "stream",
     "text": [
      "0.72\n"
     ]
    },
    {
     "name": "stderr",
     "output_type": "stream",
     "text": [
      "\r",
      " 92%|███████████████████████████████████████████████████████████████████████████▋      | 12/13 [16:23<01:29, 89.17s/it]"
     ]
    },
    {
     "name": "stdout",
     "output_type": "stream",
     "text": [
      "0.72\n"
     ]
    },
    {
     "name": "stderr",
     "output_type": "stream",
     "text": [
      "100%|██████████████████████████████████████████████████████████████████████████████████| 13/13 [18:02<00:00, 83.29s/it]"
     ]
    },
    {
     "name": "stdout",
     "output_type": "stream",
     "text": [
      "0.712\n"
     ]
    },
    {
     "name": "stderr",
     "output_type": "stream",
     "text": [
      "\n"
     ]
    },
    {
     "name": "stdout",
     "output_type": "stream",
     "text": [
      "tune gmm text\n",
      "\n"
     ]
    },
    {
     "name": "stderr",
     "output_type": "stream",
     "text": [
      " 11%|█████████▎                                                                          | 1/9 [00:27<03:41, 27.73s/it]"
     ]
    },
    {
     "name": "stdout",
     "output_type": "stream",
     "text": [
      "0.158\n"
     ]
    },
    {
     "name": "stderr",
     "output_type": "stream",
     "text": [
      "\r",
      " 22%|██████████████████▋                                                                 | 2/9 [00:54<03:08, 26.97s/it]"
     ]
    },
    {
     "name": "stdout",
     "output_type": "stream",
     "text": [
      "0.11000000000000001\n"
     ]
    },
    {
     "name": "stderr",
     "output_type": "stream",
     "text": [
      "\r",
      " 33%|████████████████████████████                                                        | 3/9 [01:31<03:10, 31.74s/it]"
     ]
    },
    {
     "name": "stdout",
     "output_type": "stream",
     "text": [
      "0.162\n"
     ]
    },
    {
     "name": "stderr",
     "output_type": "stream",
     "text": [
      "\r",
      " 44%|█████████████████████████████████████▎                                              | 4/9 [02:24<03:20, 40.05s/it]"
     ]
    },
    {
     "name": "stdout",
     "output_type": "stream",
     "text": [
      "0.16799999999999998\n"
     ]
    },
    {
     "name": "stderr",
     "output_type": "stream",
     "text": [
      " 44%|█████████████████████████████████████▎                                              | 4/9 [03:38<04:32, 54.57s/it]\n",
      "ERROR:root:Internal Python error in the inspect module.\n",
      "Below is the traceback from this internal error.\n",
      "\n"
     ]
    },
    {
     "ename": "KeyboardInterrupt",
     "evalue": "",
     "output_type": "error",
     "traceback": [
      "\u001b[1;31m---------------------------------------------------------------------------\u001b[0m",
      "\u001b[1;31mKeyboardInterrupt\u001b[0m                         Traceback (most recent call last)",
      "    \u001b[1;31m[... skipping hidden 1 frame]\u001b[0m\n",
      "\u001b[1;32m<ipython-input-75-074e4ca958ef>\u001b[0m in \u001b[0;36m<module>\u001b[1;34m\u001b[0m\n\u001b[1;32m----> 1\u001b[1;33m \u001b[0mscdv_noise\u001b[0m\u001b[1;33m.\u001b[0m\u001b[0mfit\u001b[0m\u001b[1;33m(\u001b[0m\u001b[1;32mFalse\u001b[0m\u001b[1;33m,\u001b[0m \u001b[1;32mFalse\u001b[0m\u001b[1;33m,\u001b[0m \u001b[1;32mTrue\u001b[0m\u001b[1;33m,\u001b[0m \u001b[1;32mTrue\u001b[0m\u001b[1;33m,\u001b[0m \u001b[0mval\u001b[0m\u001b[1;33m)\u001b[0m\u001b[1;33m\u001b[0m\u001b[1;33m\u001b[0m\u001b[0m\n\u001b[0m",
      "\u001b[1;32m<ipython-input-73-150577ab1d06>\u001b[0m in \u001b[0;36mfit\u001b[1;34m(self, tune_umap_word, tune_gmm_word, tune_umap_text, tune_gmm_text, val_data)\u001b[0m\n\u001b[0;32m     52\u001b[0m         \u001b[1;32mif\u001b[0m \u001b[0mtune_gmm_text\u001b[0m\u001b[1;33m:\u001b[0m\u001b[1;33m\u001b[0m\u001b[1;33m\u001b[0m\u001b[0m\n\u001b[1;32m---> 53\u001b[1;33m             \u001b[0mself\u001b[0m\u001b[1;33m.\u001b[0m\u001b[0m_tune_gmm_text\u001b[0m\u001b[1;33m(\u001b[0m\u001b[0mval_data\u001b[0m\u001b[1;33m)\u001b[0m\u001b[1;33m\u001b[0m\u001b[1;33m\u001b[0m\u001b[0m\n\u001b[0m\u001b[0;32m     54\u001b[0m \u001b[1;33m\u001b[0m\u001b[0m\n",
      "\u001b[1;32m<ipython-input-73-150577ab1d06>\u001b[0m in \u001b[0;36m_tune_gmm_text\u001b[1;34m(self, val_data)\u001b[0m\n\u001b[0;32m    288\u001b[0m             \u001b[0mself\u001b[0m\u001b[1;33m.\u001b[0m\u001b[0mgmm_text\u001b[0m\u001b[1;33m.\u001b[0m\u001b[0mfit\u001b[0m\u001b[1;33m(\u001b[0m\u001b[0mself\u001b[0m\u001b[1;33m.\u001b[0m\u001b[0mumap_text\u001b[0m\u001b[1;33m.\u001b[0m\u001b[0membedding_\u001b[0m\u001b[1;33m)\u001b[0m\u001b[1;33m\u001b[0m\u001b[1;33m\u001b[0m\u001b[0m\n\u001b[1;32m--> 289\u001b[1;33m             \u001b[0mva\u001b[0m \u001b[1;33m=\u001b[0m \u001b[0mself\u001b[0m\u001b[1;33m.\u001b[0m\u001b[0m_compute_score\u001b[0m\u001b[1;33m(\u001b[0m\u001b[0mval_data\u001b[0m\u001b[1;33m)\u001b[0m\u001b[1;33m\u001b[0m\u001b[1;33m\u001b[0m\u001b[0m\n\u001b[0m\u001b[0;32m    290\u001b[0m             \u001b[0mprint\u001b[0m\u001b[1;33m(\u001b[0m\u001b[0mva\u001b[0m\u001b[1;33m)\u001b[0m\u001b[1;33m\u001b[0m\u001b[1;33m\u001b[0m\u001b[0m\n",
      "\u001b[1;32m<ipython-input-73-150577ab1d06>\u001b[0m in \u001b[0;36m_compute_score\u001b[1;34m(self, val_data)\u001b[0m\n\u001b[0;32m    317\u001b[0m \u001b[1;33m\u001b[0m\u001b[0m\n\u001b[1;32m--> 318\u001b[1;33m         \u001b[0mpred_prob\u001b[0m \u001b[1;33m=\u001b[0m \u001b[0mself\u001b[0m\u001b[1;33m.\u001b[0m\u001b[0mumap_text\u001b[0m\u001b[1;33m.\u001b[0m\u001b[0mtransform\u001b[0m\u001b[1;33m(\u001b[0m\u001b[0mtest_vectors\u001b[0m\u001b[1;33m)\u001b[0m\u001b[1;33m\u001b[0m\u001b[1;33m\u001b[0m\u001b[0m\n\u001b[0m\u001b[0;32m    319\u001b[0m         \u001b[1;32mfor\u001b[0m \u001b[0mcounter\u001b[0m\u001b[1;33m,\u001b[0m \u001b[0melem\u001b[0m \u001b[1;32min\u001b[0m \u001b[0menumerate\u001b[0m\u001b[1;33m(\u001b[0m\u001b[0mpred_prob\u001b[0m\u001b[1;33m)\u001b[0m\u001b[1;33m:\u001b[0m\u001b[1;33m\u001b[0m\u001b[1;33m\u001b[0m\u001b[0m\n",
      "\u001b[1;32m~\\anaconda3\\lib\\site-packages\\umap\\umap_.py\u001b[0m in \u001b[0;36mtransform\u001b[1;34m(self, X)\u001b[0m\n\u001b[0;32m   2778\u001b[0m         \u001b[1;32mif\u001b[0m \u001b[0mself\u001b[0m\u001b[1;33m.\u001b[0m\u001b[0moutput_metric\u001b[0m \u001b[1;33m==\u001b[0m \u001b[1;34m\"euclidean\"\u001b[0m\u001b[1;33m:\u001b[0m\u001b[1;33m\u001b[0m\u001b[1;33m\u001b[0m\u001b[0m\n\u001b[1;32m-> 2779\u001b[1;33m             embedding = optimize_layout_euclidean(\n\u001b[0m\u001b[0;32m   2780\u001b[0m                 \u001b[0membedding\u001b[0m\u001b[1;33m,\u001b[0m\u001b[1;33m\u001b[0m\u001b[1;33m\u001b[0m\u001b[0m\n",
      "\u001b[1;32m~\\anaconda3\\lib\\site-packages\\umap\\layouts.py\u001b[0m in \u001b[0;36moptimize_layout_euclidean\u001b[1;34m(head_embedding, tail_embedding, head, tail, n_epochs, n_vertices, epochs_per_sample, a, b, rng_state, gamma, initial_alpha, negative_sample_rate, parallel, verbose, densmap, densmap_kwds)\u001b[0m\n\u001b[0;32m    343\u001b[0m \u001b[1;33m\u001b[0m\u001b[0m\n\u001b[1;32m--> 344\u001b[1;33m         optimize_fn(\n\u001b[0m\u001b[0;32m    345\u001b[0m             \u001b[0mhead_embedding\u001b[0m\u001b[1;33m,\u001b[0m\u001b[1;33m\u001b[0m\u001b[1;33m\u001b[0m\u001b[0m\n",
      "\u001b[1;32m~\\anaconda3\\lib\\site-packages\\numba\\core\\dispatcher.py\u001b[0m in \u001b[0;36m_compile_for_args\u001b[1;34m(self, *args, **kws)\u001b[0m\n\u001b[0;32m    366\u001b[0m         \u001b[1;32mtry\u001b[0m\u001b[1;33m:\u001b[0m\u001b[1;33m\u001b[0m\u001b[1;33m\u001b[0m\u001b[0m\n\u001b[1;32m--> 367\u001b[1;33m             \u001b[1;32mreturn\u001b[0m \u001b[0mself\u001b[0m\u001b[1;33m.\u001b[0m\u001b[0mcompile\u001b[0m\u001b[1;33m(\u001b[0m\u001b[0mtuple\u001b[0m\u001b[1;33m(\u001b[0m\u001b[0margtypes\u001b[0m\u001b[1;33m)\u001b[0m\u001b[1;33m)\u001b[0m\u001b[1;33m\u001b[0m\u001b[1;33m\u001b[0m\u001b[0m\n\u001b[0m\u001b[0;32m    368\u001b[0m         \u001b[1;32mexcept\u001b[0m \u001b[0merrors\u001b[0m\u001b[1;33m.\u001b[0m\u001b[0mForceLiteralArg\u001b[0m \u001b[1;32mas\u001b[0m \u001b[0me\u001b[0m\u001b[1;33m:\u001b[0m\u001b[1;33m\u001b[0m\u001b[1;33m\u001b[0m\u001b[0m\n",
      "\u001b[1;32m~\\anaconda3\\lib\\site-packages\\numba\\core\\compiler_lock.py\u001b[0m in \u001b[0;36m_acquire_compile_lock\u001b[1;34m(*args, **kwargs)\u001b[0m\n\u001b[0;32m     31\u001b[0m             \u001b[1;32mwith\u001b[0m \u001b[0mself\u001b[0m\u001b[1;33m:\u001b[0m\u001b[1;33m\u001b[0m\u001b[1;33m\u001b[0m\u001b[0m\n\u001b[1;32m---> 32\u001b[1;33m                 \u001b[1;32mreturn\u001b[0m \u001b[0mfunc\u001b[0m\u001b[1;33m(\u001b[0m\u001b[1;33m*\u001b[0m\u001b[0margs\u001b[0m\u001b[1;33m,\u001b[0m \u001b[1;33m**\u001b[0m\u001b[0mkwargs\u001b[0m\u001b[1;33m)\u001b[0m\u001b[1;33m\u001b[0m\u001b[1;33m\u001b[0m\u001b[0m\n\u001b[0m\u001b[0;32m     33\u001b[0m         \u001b[1;32mreturn\u001b[0m \u001b[0m_acquire_compile_lock\u001b[0m\u001b[1;33m\u001b[0m\u001b[1;33m\u001b[0m\u001b[0m\n",
      "\u001b[1;32m~\\anaconda3\\lib\\site-packages\\numba\\core\\dispatcher.py\u001b[0m in \u001b[0;36mcompile\u001b[1;34m(self, sig)\u001b[0m\n\u001b[0;32m    818\u001b[0m             \u001b[1;32mtry\u001b[0m\u001b[1;33m:\u001b[0m\u001b[1;33m\u001b[0m\u001b[1;33m\u001b[0m\u001b[0m\n\u001b[1;32m--> 819\u001b[1;33m                 \u001b[0mcres\u001b[0m \u001b[1;33m=\u001b[0m \u001b[0mself\u001b[0m\u001b[1;33m.\u001b[0m\u001b[0m_compiler\u001b[0m\u001b[1;33m.\u001b[0m\u001b[0mcompile\u001b[0m\u001b[1;33m(\u001b[0m\u001b[0margs\u001b[0m\u001b[1;33m,\u001b[0m \u001b[0mreturn_type\u001b[0m\u001b[1;33m)\u001b[0m\u001b[1;33m\u001b[0m\u001b[1;33m\u001b[0m\u001b[0m\n\u001b[0m\u001b[0;32m    820\u001b[0m             \u001b[1;32mexcept\u001b[0m \u001b[0merrors\u001b[0m\u001b[1;33m.\u001b[0m\u001b[0mForceLiteralArg\u001b[0m \u001b[1;32mas\u001b[0m \u001b[0me\u001b[0m\u001b[1;33m:\u001b[0m\u001b[1;33m\u001b[0m\u001b[1;33m\u001b[0m\u001b[0m\n",
      "\u001b[1;32m~\\anaconda3\\lib\\site-packages\\numba\\core\\dispatcher.py\u001b[0m in \u001b[0;36mcompile\u001b[1;34m(self, args, return_type)\u001b[0m\n\u001b[0;32m     77\u001b[0m     \u001b[1;32mdef\u001b[0m \u001b[0mcompile\u001b[0m\u001b[1;33m(\u001b[0m\u001b[0mself\u001b[0m\u001b[1;33m,\u001b[0m \u001b[0margs\u001b[0m\u001b[1;33m,\u001b[0m \u001b[0mreturn_type\u001b[0m\u001b[1;33m)\u001b[0m\u001b[1;33m:\u001b[0m\u001b[1;33m\u001b[0m\u001b[1;33m\u001b[0m\u001b[0m\n\u001b[1;32m---> 78\u001b[1;33m         \u001b[0mstatus\u001b[0m\u001b[1;33m,\u001b[0m \u001b[0mretval\u001b[0m \u001b[1;33m=\u001b[0m \u001b[0mself\u001b[0m\u001b[1;33m.\u001b[0m\u001b[0m_compile_cached\u001b[0m\u001b[1;33m(\u001b[0m\u001b[0margs\u001b[0m\u001b[1;33m,\u001b[0m \u001b[0mreturn_type\u001b[0m\u001b[1;33m)\u001b[0m\u001b[1;33m\u001b[0m\u001b[1;33m\u001b[0m\u001b[0m\n\u001b[0m\u001b[0;32m     79\u001b[0m         \u001b[1;32mif\u001b[0m \u001b[0mstatus\u001b[0m\u001b[1;33m:\u001b[0m\u001b[1;33m\u001b[0m\u001b[1;33m\u001b[0m\u001b[0m\n",
      "\u001b[1;32m~\\anaconda3\\lib\\site-packages\\numba\\core\\dispatcher.py\u001b[0m in \u001b[0;36m_compile_cached\u001b[1;34m(self, args, return_type)\u001b[0m\n\u001b[0;32m     91\u001b[0m         \u001b[1;32mtry\u001b[0m\u001b[1;33m:\u001b[0m\u001b[1;33m\u001b[0m\u001b[1;33m\u001b[0m\u001b[0m\n\u001b[1;32m---> 92\u001b[1;33m             \u001b[0mretval\u001b[0m \u001b[1;33m=\u001b[0m \u001b[0mself\u001b[0m\u001b[1;33m.\u001b[0m\u001b[0m_compile_core\u001b[0m\u001b[1;33m(\u001b[0m\u001b[0margs\u001b[0m\u001b[1;33m,\u001b[0m \u001b[0mreturn_type\u001b[0m\u001b[1;33m)\u001b[0m\u001b[1;33m\u001b[0m\u001b[1;33m\u001b[0m\u001b[0m\n\u001b[0m\u001b[0;32m     93\u001b[0m         \u001b[1;32mexcept\u001b[0m \u001b[0merrors\u001b[0m\u001b[1;33m.\u001b[0m\u001b[0mTypingError\u001b[0m \u001b[1;32mas\u001b[0m \u001b[0me\u001b[0m\u001b[1;33m:\u001b[0m\u001b[1;33m\u001b[0m\u001b[1;33m\u001b[0m\u001b[0m\n",
      "\u001b[1;32m~\\anaconda3\\lib\\site-packages\\numba\\core\\dispatcher.py\u001b[0m in \u001b[0;36m_compile_core\u001b[1;34m(self, args, return_type)\u001b[0m\n\u001b[0;32m    104\u001b[0m         \u001b[0mimpl\u001b[0m \u001b[1;33m=\u001b[0m \u001b[0mself\u001b[0m\u001b[1;33m.\u001b[0m\u001b[0m_get_implementation\u001b[0m\u001b[1;33m(\u001b[0m\u001b[0margs\u001b[0m\u001b[1;33m,\u001b[0m \u001b[1;33m{\u001b[0m\u001b[1;33m}\u001b[0m\u001b[1;33m)\u001b[0m\u001b[1;33m\u001b[0m\u001b[1;33m\u001b[0m\u001b[0m\n\u001b[1;32m--> 105\u001b[1;33m         cres = compiler.compile_extra(self.targetdescr.typing_context,\n\u001b[0m\u001b[0;32m    106\u001b[0m                                       \u001b[0mself\u001b[0m\u001b[1;33m.\u001b[0m\u001b[0mtargetdescr\u001b[0m\u001b[1;33m.\u001b[0m\u001b[0mtarget_context\u001b[0m\u001b[1;33m,\u001b[0m\u001b[1;33m\u001b[0m\u001b[1;33m\u001b[0m\u001b[0m\n",
      "\u001b[1;32m~\\anaconda3\\lib\\site-packages\\numba\\core\\compiler.py\u001b[0m in \u001b[0;36mcompile_extra\u001b[1;34m(typingctx, targetctx, func, args, return_type, flags, locals, library, pipeline_class)\u001b[0m\n\u001b[0;32m    626\u001b[0m                               args, return_type, flags, locals)\n\u001b[1;32m--> 627\u001b[1;33m     \u001b[1;32mreturn\u001b[0m \u001b[0mpipeline\u001b[0m\u001b[1;33m.\u001b[0m\u001b[0mcompile_extra\u001b[0m\u001b[1;33m(\u001b[0m\u001b[0mfunc\u001b[0m\u001b[1;33m)\u001b[0m\u001b[1;33m\u001b[0m\u001b[1;33m\u001b[0m\u001b[0m\n\u001b[0m\u001b[0;32m    628\u001b[0m \u001b[1;33m\u001b[0m\u001b[0m\n",
      "\u001b[1;32m~\\anaconda3\\lib\\site-packages\\numba\\core\\compiler.py\u001b[0m in \u001b[0;36mcompile_extra\u001b[1;34m(self, func)\u001b[0m\n\u001b[0;32m    352\u001b[0m         \u001b[1;32mtry\u001b[0m\u001b[1;33m:\u001b[0m\u001b[1;33m\u001b[0m\u001b[1;33m\u001b[0m\u001b[0m\n\u001b[1;32m--> 353\u001b[1;33m             \u001b[0mExtractByteCode\u001b[0m\u001b[1;33m(\u001b[0m\u001b[1;33m)\u001b[0m\u001b[1;33m.\u001b[0m\u001b[0mrun_pass\u001b[0m\u001b[1;33m(\u001b[0m\u001b[0mself\u001b[0m\u001b[1;33m.\u001b[0m\u001b[0mstate\u001b[0m\u001b[1;33m)\u001b[0m\u001b[1;33m\u001b[0m\u001b[1;33m\u001b[0m\u001b[0m\n\u001b[0m\u001b[0;32m    354\u001b[0m         \u001b[1;32mexcept\u001b[0m \u001b[0mException\u001b[0m \u001b[1;32mas\u001b[0m \u001b[0me\u001b[0m\u001b[1;33m:\u001b[0m\u001b[1;33m\u001b[0m\u001b[1;33m\u001b[0m\u001b[0m\n",
      "\u001b[1;32m~\\anaconda3\\lib\\site-packages\\numba\\core\\untyped_passes.py\u001b[0m in \u001b[0;36mrun_pass\u001b[1;34m(self, state)\u001b[0m\n\u001b[0;32m     63\u001b[0m         \u001b[0mfunc_id\u001b[0m \u001b[1;33m=\u001b[0m \u001b[0mstate\u001b[0m\u001b[1;33m[\u001b[0m\u001b[1;34m'func_id'\u001b[0m\u001b[1;33m]\u001b[0m\u001b[1;33m\u001b[0m\u001b[1;33m\u001b[0m\u001b[0m\n\u001b[1;32m---> 64\u001b[1;33m         \u001b[0mbc\u001b[0m \u001b[1;33m=\u001b[0m \u001b[0mbytecode\u001b[0m\u001b[1;33m.\u001b[0m\u001b[0mByteCode\u001b[0m\u001b[1;33m(\u001b[0m\u001b[0mfunc_id\u001b[0m\u001b[1;33m)\u001b[0m\u001b[1;33m\u001b[0m\u001b[1;33m\u001b[0m\u001b[0m\n\u001b[0m\u001b[0;32m     65\u001b[0m         \u001b[1;32mif\u001b[0m \u001b[0mconfig\u001b[0m\u001b[1;33m.\u001b[0m\u001b[0mDUMP_BYTECODE\u001b[0m\u001b[1;33m:\u001b[0m\u001b[1;33m\u001b[0m\u001b[1;33m\u001b[0m\u001b[0m\n",
      "\u001b[1;32m~\\anaconda3\\lib\\site-packages\\numba\\core\\bytecode.py\u001b[0m in \u001b[0;36m__init__\u001b[1;34m(self, func_id)\u001b[0m\n\u001b[0;32m    202\u001b[0m         \u001b[1;31m# A map of {offset: ByteCodeInst}\u001b[0m\u001b[1;33m\u001b[0m\u001b[1;33m\u001b[0m\u001b[1;33m\u001b[0m\u001b[0m\n\u001b[1;32m--> 203\u001b[1;33m         \u001b[0mtable\u001b[0m \u001b[1;33m=\u001b[0m \u001b[0mOrderedDict\u001b[0m\u001b[1;33m(\u001b[0m\u001b[0mByteCodeIter\u001b[0m\u001b[1;33m(\u001b[0m\u001b[0mcode\u001b[0m\u001b[1;33m)\u001b[0m\u001b[1;33m)\u001b[0m\u001b[1;33m\u001b[0m\u001b[1;33m\u001b[0m\u001b[0m\n\u001b[0m\u001b[0;32m    204\u001b[0m         \u001b[0mself\u001b[0m\u001b[1;33m.\u001b[0m\u001b[0m_compute_lineno\u001b[0m\u001b[1;33m(\u001b[0m\u001b[0mtable\u001b[0m\u001b[1;33m,\u001b[0m \u001b[0mcode\u001b[0m\u001b[1;33m)\u001b[0m\u001b[1;33m\u001b[0m\u001b[1;33m\u001b[0m\u001b[0m\n",
      "\u001b[1;32m~\\anaconda3\\lib\\site-packages\\numba\\core\\bytecode.py\u001b[0m in \u001b[0;36mnext\u001b[1;34m(self)\u001b[0m\n\u001b[0;32m    174\u001b[0m     \u001b[1;32mdef\u001b[0m \u001b[0mnext\u001b[0m\u001b[1;33m(\u001b[0m\u001b[0mself\u001b[0m\u001b[1;33m)\u001b[0m\u001b[1;33m:\u001b[0m\u001b[1;33m\u001b[0m\u001b[1;33m\u001b[0m\u001b[0m\n\u001b[1;32m--> 175\u001b[1;33m         \u001b[0moffset\u001b[0m\u001b[1;33m,\u001b[0m \u001b[0mopcode\u001b[0m\u001b[1;33m,\u001b[0m \u001b[0marg\u001b[0m\u001b[1;33m,\u001b[0m \u001b[0mnextoffset\u001b[0m \u001b[1;33m=\u001b[0m \u001b[0mself\u001b[0m\u001b[1;33m.\u001b[0m\u001b[0m_fetch_opcode\u001b[0m\u001b[1;33m(\u001b[0m\u001b[1;33m)\u001b[0m\u001b[1;33m\u001b[0m\u001b[1;33m\u001b[0m\u001b[0m\n\u001b[0m\u001b[0;32m    176\u001b[0m         return offset, ByteCodeInst(offset=offset, opcode=opcode, arg=arg,\n",
      "\u001b[1;32m~\\anaconda3\\lib\\site-packages\\numba\\core\\bytecode.py\u001b[0m in \u001b[0;36m_fetch_opcode\u001b[1;34m(self)\u001b[0m\n\u001b[0;32m    171\u001b[0m     \u001b[1;32mdef\u001b[0m \u001b[0m_fetch_opcode\u001b[0m\u001b[1;33m(\u001b[0m\u001b[0mself\u001b[0m\u001b[1;33m)\u001b[0m\u001b[1;33m:\u001b[0m\u001b[1;33m\u001b[0m\u001b[1;33m\u001b[0m\u001b[0m\n\u001b[1;32m--> 172\u001b[1;33m         \u001b[1;32mreturn\u001b[0m \u001b[0mnext\u001b[0m\u001b[1;33m(\u001b[0m\u001b[0mself\u001b[0m\u001b[1;33m.\u001b[0m\u001b[0miter\u001b[0m\u001b[1;33m)\u001b[0m\u001b[1;33m\u001b[0m\u001b[1;33m\u001b[0m\u001b[0m\n\u001b[0m\u001b[0;32m    173\u001b[0m \u001b[1;33m\u001b[0m\u001b[0m\n",
      "\u001b[1;32m~\\anaconda3\\lib\\site-packages\\numba\\core\\bytecode.py\u001b[0m in \u001b[0;36m_patched_opargs\u001b[1;34m(bc_stream)\u001b[0m\n\u001b[0;32m    155\u001b[0m     \u001b[1;31m# Adjust bytecode offset for the rest of the stream\u001b[0m\u001b[1;33m\u001b[0m\u001b[1;33m\u001b[0m\u001b[1;33m\u001b[0m\u001b[0m\n\u001b[1;32m--> 156\u001b[1;33m     \u001b[1;32mfor\u001b[0m \u001b[0moffset\u001b[0m\u001b[1;33m,\u001b[0m \u001b[0mopcode\u001b[0m\u001b[1;33m,\u001b[0m \u001b[0marg\u001b[0m\u001b[1;33m,\u001b[0m \u001b[0mnextoffset\u001b[0m \u001b[1;32min\u001b[0m \u001b[0mbc_stream\u001b[0m\u001b[1;33m:\u001b[0m\u001b[1;33m\u001b[0m\u001b[1;33m\u001b[0m\u001b[0m\n\u001b[0m\u001b[0;32m    157\u001b[0m         \u001b[1;31m# If the opcode has an absolute jump target, adjust it.\u001b[0m\u001b[1;33m\u001b[0m\u001b[1;33m\u001b[0m\u001b[1;33m\u001b[0m\u001b[0m\n",
      "\u001b[1;32m~\\anaconda3\\lib\\site-packages\\numba\\core\\bytecode.py\u001b[0m in \u001b[0;36m_unpack_opargs\u001b[1;34m(code)\u001b[0m\n\u001b[0;32m    129\u001b[0m         \u001b[0mop\u001b[0m \u001b[1;33m=\u001b[0m \u001b[0mcode\u001b[0m\u001b[1;33m[\u001b[0m\u001b[0mi\u001b[0m\u001b[1;33m]\u001b[0m\u001b[1;33m\u001b[0m\u001b[1;33m\u001b[0m\u001b[0m\n\u001b[1;32m--> 130\u001b[1;33m         \u001b[0mi\u001b[0m \u001b[1;33m+=\u001b[0m \u001b[0mCODE_LEN\u001b[0m\u001b[1;33m\u001b[0m\u001b[1;33m\u001b[0m\u001b[0m\n\u001b[0m\u001b[0;32m    131\u001b[0m         \u001b[1;32mif\u001b[0m \u001b[0mop\u001b[0m \u001b[1;33m>=\u001b[0m \u001b[0mHAVE_ARGUMENT\u001b[0m\u001b[1;33m:\u001b[0m\u001b[1;33m\u001b[0m\u001b[1;33m\u001b[0m\u001b[0m\n",
      "\u001b[1;31mKeyboardInterrupt\u001b[0m: ",
      "\nDuring handling of the above exception, another exception occurred:\n",
      "\u001b[1;31mAttributeError\u001b[0m                            Traceback (most recent call last)",
      "\u001b[1;32m~\\anaconda3\\lib\\site-packages\\IPython\\core\\interactiveshell.py\u001b[0m in \u001b[0;36mshowtraceback\u001b[1;34m(self, exc_tuple, filename, tb_offset, exception_only, running_compiled_code)\u001b[0m\n\u001b[0;32m   2043\u001b[0m                         \u001b[1;31m# in the engines. This should return a list of strings.\u001b[0m\u001b[1;33m\u001b[0m\u001b[1;33m\u001b[0m\u001b[1;33m\u001b[0m\u001b[0m\n\u001b[1;32m-> 2044\u001b[1;33m                         \u001b[0mstb\u001b[0m \u001b[1;33m=\u001b[0m \u001b[0mvalue\u001b[0m\u001b[1;33m.\u001b[0m\u001b[0m_render_traceback_\u001b[0m\u001b[1;33m(\u001b[0m\u001b[1;33m)\u001b[0m\u001b[1;33m\u001b[0m\u001b[1;33m\u001b[0m\u001b[0m\n\u001b[0m\u001b[0;32m   2045\u001b[0m                     \u001b[1;32mexcept\u001b[0m \u001b[0mException\u001b[0m\u001b[1;33m:\u001b[0m\u001b[1;33m\u001b[0m\u001b[1;33m\u001b[0m\u001b[0m\n",
      "\u001b[1;31mAttributeError\u001b[0m: 'KeyboardInterrupt' object has no attribute '_render_traceback_'",
      "\nDuring handling of the above exception, another exception occurred:\n",
      "\u001b[1;31mKeyboardInterrupt\u001b[0m                         Traceback (most recent call last)",
      "\u001b[1;32m~\\anaconda3\\lib\\site-packages\\IPython\\core\\ultratb.py\u001b[0m in \u001b[0;36mget_records\u001b[1;34m(self, etb, number_of_lines_of_context, tb_offset)\u001b[0m\n\u001b[0;32m   1168\u001b[0m             \u001b[1;31m# (5 blanks lines) where none should be returned.\u001b[0m\u001b[1;33m\u001b[0m\u001b[1;33m\u001b[0m\u001b[1;33m\u001b[0m\u001b[0m\n\u001b[1;32m-> 1169\u001b[1;33m             \u001b[1;32mreturn\u001b[0m \u001b[0m_fixed_getinnerframes\u001b[0m\u001b[1;33m(\u001b[0m\u001b[0metb\u001b[0m\u001b[1;33m,\u001b[0m \u001b[0mnumber_of_lines_of_context\u001b[0m\u001b[1;33m,\u001b[0m \u001b[0mtb_offset\u001b[0m\u001b[1;33m)\u001b[0m\u001b[1;33m\u001b[0m\u001b[1;33m\u001b[0m\u001b[0m\n\u001b[0m\u001b[0;32m   1170\u001b[0m         \u001b[1;32mexcept\u001b[0m \u001b[0mUnicodeDecodeError\u001b[0m\u001b[1;33m:\u001b[0m\u001b[1;33m\u001b[0m\u001b[1;33m\u001b[0m\u001b[0m\n",
      "\u001b[1;32m~\\anaconda3\\lib\\site-packages\\IPython\\core\\ultratb.py\u001b[0m in \u001b[0;36mwrapped\u001b[1;34m(*args, **kwargs)\u001b[0m\n\u001b[0;32m    315\u001b[0m         \u001b[1;32mtry\u001b[0m\u001b[1;33m:\u001b[0m\u001b[1;33m\u001b[0m\u001b[1;33m\u001b[0m\u001b[0m\n\u001b[1;32m--> 316\u001b[1;33m             \u001b[1;32mreturn\u001b[0m \u001b[0mf\u001b[0m\u001b[1;33m(\u001b[0m\u001b[1;33m*\u001b[0m\u001b[0margs\u001b[0m\u001b[1;33m,\u001b[0m \u001b[1;33m**\u001b[0m\u001b[0mkwargs\u001b[0m\u001b[1;33m)\u001b[0m\u001b[1;33m\u001b[0m\u001b[1;33m\u001b[0m\u001b[0m\n\u001b[0m\u001b[0;32m    317\u001b[0m         \u001b[1;32mfinally\u001b[0m\u001b[1;33m:\u001b[0m\u001b[1;33m\u001b[0m\u001b[1;33m\u001b[0m\u001b[0m\n",
      "\u001b[1;32m~\\anaconda3\\lib\\site-packages\\IPython\\core\\ultratb.py\u001b[0m in \u001b[0;36m_fixed_getinnerframes\u001b[1;34m(etb, context, tb_offset)\u001b[0m\n\u001b[0;32m    349\u001b[0m \u001b[1;33m\u001b[0m\u001b[0m\n\u001b[1;32m--> 350\u001b[1;33m     \u001b[0mrecords\u001b[0m \u001b[1;33m=\u001b[0m \u001b[0mfix_frame_records_filenames\u001b[0m\u001b[1;33m(\u001b[0m\u001b[0minspect\u001b[0m\u001b[1;33m.\u001b[0m\u001b[0mgetinnerframes\u001b[0m\u001b[1;33m(\u001b[0m\u001b[0metb\u001b[0m\u001b[1;33m,\u001b[0m \u001b[0mcontext\u001b[0m\u001b[1;33m)\u001b[0m\u001b[1;33m)\u001b[0m\u001b[1;33m\u001b[0m\u001b[1;33m\u001b[0m\u001b[0m\n\u001b[0m\u001b[0;32m    351\u001b[0m     \u001b[1;31m# If the error is at the console, don't build any context, since it would\u001b[0m\u001b[1;33m\u001b[0m\u001b[1;33m\u001b[0m\u001b[1;33m\u001b[0m\u001b[0m\n",
      "\u001b[1;32m~\\anaconda3\\lib\\inspect.py\u001b[0m in \u001b[0;36mgetinnerframes\u001b[1;34m(tb, context)\u001b[0m\n\u001b[0;32m   1502\u001b[0m     \u001b[1;32mwhile\u001b[0m \u001b[0mtb\u001b[0m\u001b[1;33m:\u001b[0m\u001b[1;33m\u001b[0m\u001b[1;33m\u001b[0m\u001b[0m\n\u001b[1;32m-> 1503\u001b[1;33m         \u001b[0mframeinfo\u001b[0m \u001b[1;33m=\u001b[0m \u001b[1;33m(\u001b[0m\u001b[0mtb\u001b[0m\u001b[1;33m.\u001b[0m\u001b[0mtb_frame\u001b[0m\u001b[1;33m,\u001b[0m\u001b[1;33m)\u001b[0m \u001b[1;33m+\u001b[0m \u001b[0mgetframeinfo\u001b[0m\u001b[1;33m(\u001b[0m\u001b[0mtb\u001b[0m\u001b[1;33m,\u001b[0m \u001b[0mcontext\u001b[0m\u001b[1;33m)\u001b[0m\u001b[1;33m\u001b[0m\u001b[1;33m\u001b[0m\u001b[0m\n\u001b[0m\u001b[0;32m   1504\u001b[0m         \u001b[0mframelist\u001b[0m\u001b[1;33m.\u001b[0m\u001b[0mappend\u001b[0m\u001b[1;33m(\u001b[0m\u001b[0mFrameInfo\u001b[0m\u001b[1;33m(\u001b[0m\u001b[1;33m*\u001b[0m\u001b[0mframeinfo\u001b[0m\u001b[1;33m)\u001b[0m\u001b[1;33m)\u001b[0m\u001b[1;33m\u001b[0m\u001b[1;33m\u001b[0m\u001b[0m\n",
      "\u001b[1;32m~\\anaconda3\\lib\\inspect.py\u001b[0m in \u001b[0;36mgetframeinfo\u001b[1;34m(frame, context)\u001b[0m\n\u001b[0;32m   1460\u001b[0m \u001b[1;33m\u001b[0m\u001b[0m\n\u001b[1;32m-> 1461\u001b[1;33m     \u001b[0mfilename\u001b[0m \u001b[1;33m=\u001b[0m \u001b[0mgetsourcefile\u001b[0m\u001b[1;33m(\u001b[0m\u001b[0mframe\u001b[0m\u001b[1;33m)\u001b[0m \u001b[1;32mor\u001b[0m \u001b[0mgetfile\u001b[0m\u001b[1;33m(\u001b[0m\u001b[0mframe\u001b[0m\u001b[1;33m)\u001b[0m\u001b[1;33m\u001b[0m\u001b[1;33m\u001b[0m\u001b[0m\n\u001b[0m\u001b[0;32m   1462\u001b[0m     \u001b[1;32mif\u001b[0m \u001b[0mcontext\u001b[0m \u001b[1;33m>\u001b[0m \u001b[1;36m0\u001b[0m\u001b[1;33m:\u001b[0m\u001b[1;33m\u001b[0m\u001b[1;33m\u001b[0m\u001b[0m\n",
      "\u001b[1;32m~\\anaconda3\\lib\\inspect.py\u001b[0m in \u001b[0;36mgetsourcefile\u001b[1;34m(object)\u001b[0m\n\u001b[0;32m    704\u001b[0m         \u001b[1;32mreturn\u001b[0m \u001b[1;32mNone\u001b[0m\u001b[1;33m\u001b[0m\u001b[1;33m\u001b[0m\u001b[0m\n\u001b[1;32m--> 705\u001b[1;33m     \u001b[1;32mif\u001b[0m \u001b[0mos\u001b[0m\u001b[1;33m.\u001b[0m\u001b[0mpath\u001b[0m\u001b[1;33m.\u001b[0m\u001b[0mexists\u001b[0m\u001b[1;33m(\u001b[0m\u001b[0mfilename\u001b[0m\u001b[1;33m)\u001b[0m\u001b[1;33m:\u001b[0m\u001b[1;33m\u001b[0m\u001b[1;33m\u001b[0m\u001b[0m\n\u001b[0m\u001b[0;32m    706\u001b[0m         \u001b[1;32mreturn\u001b[0m \u001b[0mfilename\u001b[0m\u001b[1;33m\u001b[0m\u001b[1;33m\u001b[0m\u001b[0m\n",
      "\u001b[1;32m~\\anaconda3\\lib\\genericpath.py\u001b[0m in \u001b[0;36mexists\u001b[1;34m(path)\u001b[0m\n\u001b[0;32m     18\u001b[0m     \u001b[1;32mtry\u001b[0m\u001b[1;33m:\u001b[0m\u001b[1;33m\u001b[0m\u001b[1;33m\u001b[0m\u001b[0m\n\u001b[1;32m---> 19\u001b[1;33m         \u001b[0mos\u001b[0m\u001b[1;33m.\u001b[0m\u001b[0mstat\u001b[0m\u001b[1;33m(\u001b[0m\u001b[0mpath\u001b[0m\u001b[1;33m)\u001b[0m\u001b[1;33m\u001b[0m\u001b[1;33m\u001b[0m\u001b[0m\n\u001b[0m\u001b[0;32m     20\u001b[0m     \u001b[1;32mexcept\u001b[0m \u001b[1;33m(\u001b[0m\u001b[0mOSError\u001b[0m\u001b[1;33m,\u001b[0m \u001b[0mValueError\u001b[0m\u001b[1;33m)\u001b[0m\u001b[1;33m:\u001b[0m\u001b[1;33m\u001b[0m\u001b[1;33m\u001b[0m\u001b[0m\n",
      "\u001b[1;31mKeyboardInterrupt\u001b[0m: ",
      "\nDuring handling of the above exception, another exception occurred:\n",
      "\u001b[1;31mKeyboardInterrupt\u001b[0m                         Traceback (most recent call last)",
      "\u001b[1;32m~\\anaconda3\\lib\\site-packages\\IPython\\core\\interactiveshell.py\u001b[0m in \u001b[0;36mshowtraceback\u001b[1;34m(self, exc_tuple, filename, tb_offset, exception_only, running_compiled_code)\u001b[0m\n\u001b[0;32m   2045\u001b[0m                     \u001b[1;32mexcept\u001b[0m \u001b[0mException\u001b[0m\u001b[1;33m:\u001b[0m\u001b[1;33m\u001b[0m\u001b[1;33m\u001b[0m\u001b[0m\n\u001b[1;32m-> 2046\u001b[1;33m                         stb = self.InteractiveTB.structured_traceback(etype,\n\u001b[0m\u001b[0;32m   2047\u001b[0m                                             value, tb, tb_offset=tb_offset)\n",
      "\u001b[1;32m~\\anaconda3\\lib\\site-packages\\IPython\\core\\ultratb.py\u001b[0m in \u001b[0;36mstructured_traceback\u001b[1;34m(self, etype, value, tb, tb_offset, number_of_lines_of_context)\u001b[0m\n\u001b[0;32m   1434\u001b[0m             \u001b[0mself\u001b[0m\u001b[1;33m.\u001b[0m\u001b[0mtb\u001b[0m \u001b[1;33m=\u001b[0m \u001b[0mtb\u001b[0m\u001b[1;33m\u001b[0m\u001b[1;33m\u001b[0m\u001b[0m\n\u001b[1;32m-> 1435\u001b[1;33m         return FormattedTB.structured_traceback(\n\u001b[0m\u001b[0;32m   1436\u001b[0m             self, etype, value, tb, tb_offset, number_of_lines_of_context)\n",
      "\u001b[1;32m~\\anaconda3\\lib\\site-packages\\IPython\\core\\ultratb.py\u001b[0m in \u001b[0;36mstructured_traceback\u001b[1;34m(self, etype, value, tb, tb_offset, number_of_lines_of_context)\u001b[0m\n\u001b[0;32m   1334\u001b[0m             \u001b[1;31m# Verbose modes need a full traceback\u001b[0m\u001b[1;33m\u001b[0m\u001b[1;33m\u001b[0m\u001b[1;33m\u001b[0m\u001b[0m\n\u001b[1;32m-> 1335\u001b[1;33m             return VerboseTB.structured_traceback(\n\u001b[0m\u001b[0;32m   1336\u001b[0m                 \u001b[0mself\u001b[0m\u001b[1;33m,\u001b[0m \u001b[0metype\u001b[0m\u001b[1;33m,\u001b[0m \u001b[0mvalue\u001b[0m\u001b[1;33m,\u001b[0m \u001b[0mtb\u001b[0m\u001b[1;33m,\u001b[0m \u001b[0mtb_offset\u001b[0m\u001b[1;33m,\u001b[0m \u001b[0mnumber_of_lines_of_context\u001b[0m\u001b[1;33m\u001b[0m\u001b[1;33m\u001b[0m\u001b[0m\n",
      "\u001b[1;32m~\\anaconda3\\lib\\site-packages\\IPython\\core\\ultratb.py\u001b[0m in \u001b[0;36mstructured_traceback\u001b[1;34m(self, etype, evalue, etb, tb_offset, number_of_lines_of_context)\u001b[0m\n\u001b[0;32m   1191\u001b[0m \u001b[1;33m\u001b[0m\u001b[0m\n\u001b[1;32m-> 1192\u001b[1;33m         formatted_exception = self.format_exception_as_a_whole(etype, evalue, etb, number_of_lines_of_context,\n\u001b[0m\u001b[0;32m   1193\u001b[0m                                                                tb_offset)\n",
      "\u001b[1;32m~\\anaconda3\\lib\\site-packages\\IPython\\core\\ultratb.py\u001b[0m in \u001b[0;36mformat_exception_as_a_whole\u001b[1;34m(self, etype, evalue, etb, number_of_lines_of_context, tb_offset)\u001b[0m\n\u001b[0;32m   1146\u001b[0m         \u001b[0mhead\u001b[0m \u001b[1;33m=\u001b[0m \u001b[0mself\u001b[0m\u001b[1;33m.\u001b[0m\u001b[0mprepare_header\u001b[0m\u001b[1;33m(\u001b[0m\u001b[0metype\u001b[0m\u001b[1;33m,\u001b[0m \u001b[0mself\u001b[0m\u001b[1;33m.\u001b[0m\u001b[0mlong_header\u001b[0m\u001b[1;33m)\u001b[0m\u001b[1;33m\u001b[0m\u001b[1;33m\u001b[0m\u001b[0m\n\u001b[1;32m-> 1147\u001b[1;33m         \u001b[0mrecords\u001b[0m \u001b[1;33m=\u001b[0m \u001b[0mself\u001b[0m\u001b[1;33m.\u001b[0m\u001b[0mget_records\u001b[0m\u001b[1;33m(\u001b[0m\u001b[0metb\u001b[0m\u001b[1;33m,\u001b[0m \u001b[0mnumber_of_lines_of_context\u001b[0m\u001b[1;33m,\u001b[0m \u001b[0mtb_offset\u001b[0m\u001b[1;33m)\u001b[0m\u001b[1;33m\u001b[0m\u001b[1;33m\u001b[0m\u001b[0m\n\u001b[0m\u001b[0;32m   1148\u001b[0m \u001b[1;33m\u001b[0m\u001b[0m\n",
      "\u001b[1;32m~\\anaconda3\\lib\\site-packages\\IPython\\core\\ultratb.py\u001b[0m in \u001b[0;36mget_records\u001b[1;34m(self, etb, number_of_lines_of_context, tb_offset)\u001b[0m\n\u001b[0;32m   1183\u001b[0m             \u001b[0minspect_error\u001b[0m\u001b[1;33m(\u001b[0m\u001b[1;33m)\u001b[0m\u001b[1;33m\u001b[0m\u001b[1;33m\u001b[0m\u001b[0m\n\u001b[1;32m-> 1184\u001b[1;33m             \u001b[0mtraceback\u001b[0m\u001b[1;33m.\u001b[0m\u001b[0mprint_exc\u001b[0m\u001b[1;33m(\u001b[0m\u001b[0mfile\u001b[0m\u001b[1;33m=\u001b[0m\u001b[0mself\u001b[0m\u001b[1;33m.\u001b[0m\u001b[0mostream\u001b[0m\u001b[1;33m)\u001b[0m\u001b[1;33m\u001b[0m\u001b[1;33m\u001b[0m\u001b[0m\n\u001b[0m\u001b[0;32m   1185\u001b[0m             \u001b[0minfo\u001b[0m\u001b[1;33m(\u001b[0m\u001b[1;34m'\\nUnfortunately, your original traceback can not be constructed.\\n'\u001b[0m\u001b[1;33m)\u001b[0m\u001b[1;33m\u001b[0m\u001b[1;33m\u001b[0m\u001b[0m\n",
      "\u001b[1;32m~\\anaconda3\\lib\\traceback.py\u001b[0m in \u001b[0;36mprint_exc\u001b[1;34m(limit, file, chain)\u001b[0m\n\u001b[0;32m    162\u001b[0m     \u001b[1;34m\"\"\"Shorthand for 'print_exception(*sys.exc_info(), limit, file)'.\"\"\"\u001b[0m\u001b[1;33m\u001b[0m\u001b[1;33m\u001b[0m\u001b[0m\n\u001b[1;32m--> 163\u001b[1;33m     \u001b[0mprint_exception\u001b[0m\u001b[1;33m(\u001b[0m\u001b[1;33m*\u001b[0m\u001b[0msys\u001b[0m\u001b[1;33m.\u001b[0m\u001b[0mexc_info\u001b[0m\u001b[1;33m(\u001b[0m\u001b[1;33m)\u001b[0m\u001b[1;33m,\u001b[0m \u001b[0mlimit\u001b[0m\u001b[1;33m=\u001b[0m\u001b[0mlimit\u001b[0m\u001b[1;33m,\u001b[0m \u001b[0mfile\u001b[0m\u001b[1;33m=\u001b[0m\u001b[0mfile\u001b[0m\u001b[1;33m,\u001b[0m \u001b[0mchain\u001b[0m\u001b[1;33m=\u001b[0m\u001b[0mchain\u001b[0m\u001b[1;33m)\u001b[0m\u001b[1;33m\u001b[0m\u001b[1;33m\u001b[0m\u001b[0m\n\u001b[0m\u001b[0;32m    164\u001b[0m \u001b[1;33m\u001b[0m\u001b[0m\n",
      "\u001b[1;32m~\\anaconda3\\lib\\traceback.py\u001b[0m in \u001b[0;36mprint_exception\u001b[1;34m(etype, value, tb, limit, file, chain)\u001b[0m\n\u001b[0;32m    102\u001b[0m         \u001b[0mfile\u001b[0m \u001b[1;33m=\u001b[0m \u001b[0msys\u001b[0m\u001b[1;33m.\u001b[0m\u001b[0mstderr\u001b[0m\u001b[1;33m\u001b[0m\u001b[1;33m\u001b[0m\u001b[0m\n\u001b[1;32m--> 103\u001b[1;33m     for line in TracebackException(\n\u001b[0m\u001b[0;32m    104\u001b[0m             type(value), value, tb, limit=limit).format(chain=chain):\n",
      "\u001b[1;32m~\\anaconda3\\lib\\traceback.py\u001b[0m in \u001b[0;36m__init__\u001b[1;34m(self, exc_type, exc_value, exc_traceback, limit, lookup_lines, capture_locals, _seen)\u001b[0m\n\u001b[0;32m    508\u001b[0m         \u001b[1;31m# TODO: locals.\u001b[0m\u001b[1;33m\u001b[0m\u001b[1;33m\u001b[0m\u001b[1;33m\u001b[0m\u001b[0m\n\u001b[1;32m--> 509\u001b[1;33m         self.stack = StackSummary.extract(\n\u001b[0m\u001b[0;32m    510\u001b[0m             \u001b[0mwalk_tb\u001b[0m\u001b[1;33m(\u001b[0m\u001b[0mexc_traceback\u001b[0m\u001b[1;33m)\u001b[0m\u001b[1;33m,\u001b[0m \u001b[0mlimit\u001b[0m\u001b[1;33m=\u001b[0m\u001b[0mlimit\u001b[0m\u001b[1;33m,\u001b[0m \u001b[0mlookup_lines\u001b[0m\u001b[1;33m=\u001b[0m\u001b[0mlookup_lines\u001b[0m\u001b[1;33m,\u001b[0m\u001b[1;33m\u001b[0m\u001b[1;33m\u001b[0m\u001b[0m\n",
      "\u001b[1;32m~\\anaconda3\\lib\\traceback.py\u001b[0m in \u001b[0;36mextract\u001b[1;34m(klass, frame_gen, limit, lookup_lines, capture_locals)\u001b[0m\n\u001b[0;32m    365\u001b[0m             \u001b[1;32mfor\u001b[0m \u001b[0mf\u001b[0m \u001b[1;32min\u001b[0m \u001b[0mresult\u001b[0m\u001b[1;33m:\u001b[0m\u001b[1;33m\u001b[0m\u001b[1;33m\u001b[0m\u001b[0m\n\u001b[1;32m--> 366\u001b[1;33m                 \u001b[0mf\u001b[0m\u001b[1;33m.\u001b[0m\u001b[0mline\u001b[0m\u001b[1;33m\u001b[0m\u001b[1;33m\u001b[0m\u001b[0m\n\u001b[0m\u001b[0;32m    367\u001b[0m         \u001b[1;32mreturn\u001b[0m \u001b[0mresult\u001b[0m\u001b[1;33m\u001b[0m\u001b[1;33m\u001b[0m\u001b[0m\n",
      "\u001b[1;32m~\\anaconda3\\lib\\traceback.py\u001b[0m in \u001b[0;36mline\u001b[1;34m(self)\u001b[0m\n\u001b[0;32m    287\u001b[0m         \u001b[1;32mif\u001b[0m \u001b[0mself\u001b[0m\u001b[1;33m.\u001b[0m\u001b[0m_line\u001b[0m \u001b[1;32mis\u001b[0m \u001b[1;32mNone\u001b[0m\u001b[1;33m:\u001b[0m\u001b[1;33m\u001b[0m\u001b[1;33m\u001b[0m\u001b[0m\n\u001b[1;32m--> 288\u001b[1;33m             \u001b[0mself\u001b[0m\u001b[1;33m.\u001b[0m\u001b[0m_line\u001b[0m \u001b[1;33m=\u001b[0m \u001b[0mlinecache\u001b[0m\u001b[1;33m.\u001b[0m\u001b[0mgetline\u001b[0m\u001b[1;33m(\u001b[0m\u001b[0mself\u001b[0m\u001b[1;33m.\u001b[0m\u001b[0mfilename\u001b[0m\u001b[1;33m,\u001b[0m \u001b[0mself\u001b[0m\u001b[1;33m.\u001b[0m\u001b[0mlineno\u001b[0m\u001b[1;33m)\u001b[0m\u001b[1;33m.\u001b[0m\u001b[0mstrip\u001b[0m\u001b[1;33m(\u001b[0m\u001b[1;33m)\u001b[0m\u001b[1;33m\u001b[0m\u001b[1;33m\u001b[0m\u001b[0m\n\u001b[0m\u001b[0;32m    289\u001b[0m         \u001b[1;32mreturn\u001b[0m \u001b[0mself\u001b[0m\u001b[1;33m.\u001b[0m\u001b[0m_line\u001b[0m\u001b[1;33m\u001b[0m\u001b[1;33m\u001b[0m\u001b[0m\n",
      "\u001b[1;32m~\\anaconda3\\lib\\linecache.py\u001b[0m in \u001b[0;36mgetline\u001b[1;34m(filename, lineno, module_globals)\u001b[0m\n\u001b[0;32m     15\u001b[0m \u001b[1;32mdef\u001b[0m \u001b[0mgetline\u001b[0m\u001b[1;33m(\u001b[0m\u001b[0mfilename\u001b[0m\u001b[1;33m,\u001b[0m \u001b[0mlineno\u001b[0m\u001b[1;33m,\u001b[0m \u001b[0mmodule_globals\u001b[0m\u001b[1;33m=\u001b[0m\u001b[1;32mNone\u001b[0m\u001b[1;33m)\u001b[0m\u001b[1;33m:\u001b[0m\u001b[1;33m\u001b[0m\u001b[1;33m\u001b[0m\u001b[0m\n\u001b[1;32m---> 16\u001b[1;33m     \u001b[0mlines\u001b[0m \u001b[1;33m=\u001b[0m \u001b[0mgetlines\u001b[0m\u001b[1;33m(\u001b[0m\u001b[0mfilename\u001b[0m\u001b[1;33m,\u001b[0m \u001b[0mmodule_globals\u001b[0m\u001b[1;33m)\u001b[0m\u001b[1;33m\u001b[0m\u001b[1;33m\u001b[0m\u001b[0m\n\u001b[0m\u001b[0;32m     17\u001b[0m     \u001b[1;32mif\u001b[0m \u001b[1;36m1\u001b[0m \u001b[1;33m<=\u001b[0m \u001b[0mlineno\u001b[0m \u001b[1;33m<=\u001b[0m \u001b[0mlen\u001b[0m\u001b[1;33m(\u001b[0m\u001b[0mlines\u001b[0m\u001b[1;33m)\u001b[0m\u001b[1;33m:\u001b[0m\u001b[1;33m\u001b[0m\u001b[1;33m\u001b[0m\u001b[0m\n",
      "\u001b[1;32m~\\anaconda3\\lib\\linecache.py\u001b[0m in \u001b[0;36mgetlines\u001b[1;34m(filename, module_globals)\u001b[0m\n\u001b[0;32m     46\u001b[0m     \u001b[1;32mtry\u001b[0m\u001b[1;33m:\u001b[0m\u001b[1;33m\u001b[0m\u001b[1;33m\u001b[0m\u001b[0m\n\u001b[1;32m---> 47\u001b[1;33m         \u001b[1;32mreturn\u001b[0m \u001b[0mupdatecache\u001b[0m\u001b[1;33m(\u001b[0m\u001b[0mfilename\u001b[0m\u001b[1;33m,\u001b[0m \u001b[0mmodule_globals\u001b[0m\u001b[1;33m)\u001b[0m\u001b[1;33m\u001b[0m\u001b[1;33m\u001b[0m\u001b[0m\n\u001b[0m\u001b[0;32m     48\u001b[0m     \u001b[1;32mexcept\u001b[0m \u001b[0mMemoryError\u001b[0m\u001b[1;33m:\u001b[0m\u001b[1;33m\u001b[0m\u001b[1;33m\u001b[0m\u001b[0m\n",
      "\u001b[1;32m~\\anaconda3\\lib\\linecache.py\u001b[0m in \u001b[0;36mupdatecache\u001b[1;34m(filename, module_globals)\u001b[0m\n\u001b[0;32m     94\u001b[0m     \u001b[1;32mtry\u001b[0m\u001b[1;33m:\u001b[0m\u001b[1;33m\u001b[0m\u001b[1;33m\u001b[0m\u001b[0m\n\u001b[1;32m---> 95\u001b[1;33m         \u001b[0mstat\u001b[0m \u001b[1;33m=\u001b[0m \u001b[0mos\u001b[0m\u001b[1;33m.\u001b[0m\u001b[0mstat\u001b[0m\u001b[1;33m(\u001b[0m\u001b[0mfullname\u001b[0m\u001b[1;33m)\u001b[0m\u001b[1;33m\u001b[0m\u001b[1;33m\u001b[0m\u001b[0m\n\u001b[0m\u001b[0;32m     96\u001b[0m     \u001b[1;32mexcept\u001b[0m \u001b[0mOSError\u001b[0m\u001b[1;33m:\u001b[0m\u001b[1;33m\u001b[0m\u001b[1;33m\u001b[0m\u001b[0m\n",
      "\u001b[1;31mKeyboardInterrupt\u001b[0m: ",
      "\nDuring handling of the above exception, another exception occurred:\n",
      "\u001b[1;31mKeyboardInterrupt\u001b[0m                         Traceback (most recent call last)",
      "    \u001b[1;31m[... skipping hidden 1 frame]\u001b[0m\n",
      "\u001b[1;32m~\\anaconda3\\lib\\site-packages\\IPython\\core\\interactiveshell.py\u001b[0m in \u001b[0;36mshowtraceback\u001b[1;34m(self, exc_tuple, filename, tb_offset, exception_only, running_compiled_code)\u001b[0m\n\u001b[0;32m   2057\u001b[0m \u001b[1;33m\u001b[0m\u001b[0m\n\u001b[0;32m   2058\u001b[0m         \u001b[1;32mexcept\u001b[0m \u001b[0mKeyboardInterrupt\u001b[0m\u001b[1;33m:\u001b[0m\u001b[1;33m\u001b[0m\u001b[1;33m\u001b[0m\u001b[0m\n\u001b[1;32m-> 2059\u001b[1;33m             \u001b[0mprint\u001b[0m\u001b[1;33m(\u001b[0m\u001b[1;34m'\\n'\u001b[0m \u001b[1;33m+\u001b[0m \u001b[0mself\u001b[0m\u001b[1;33m.\u001b[0m\u001b[0mget_exception_only\u001b[0m\u001b[1;33m(\u001b[0m\u001b[1;33m)\u001b[0m\u001b[1;33m,\u001b[0m \u001b[0mfile\u001b[0m\u001b[1;33m=\u001b[0m\u001b[0msys\u001b[0m\u001b[1;33m.\u001b[0m\u001b[0mstderr\u001b[0m\u001b[1;33m)\u001b[0m\u001b[1;33m\u001b[0m\u001b[1;33m\u001b[0m\u001b[0m\n\u001b[0m\u001b[0;32m   2060\u001b[0m \u001b[1;33m\u001b[0m\u001b[0m\n\u001b[0;32m   2061\u001b[0m     \u001b[1;32mdef\u001b[0m \u001b[0m_showtraceback\u001b[0m\u001b[1;33m(\u001b[0m\u001b[0mself\u001b[0m\u001b[1;33m,\u001b[0m \u001b[0metype\u001b[0m\u001b[1;33m,\u001b[0m \u001b[0mevalue\u001b[0m\u001b[1;33m,\u001b[0m \u001b[0mstb\u001b[0m\u001b[1;33m)\u001b[0m\u001b[1;33m:\u001b[0m\u001b[1;33m\u001b[0m\u001b[1;33m\u001b[0m\u001b[0m\n",
      "\u001b[1;32m~\\anaconda3\\lib\\site-packages\\IPython\\core\\interactiveshell.py\u001b[0m in \u001b[0;36mget_exception_only\u001b[1;34m(self, exc_tuple)\u001b[0m\n\u001b[0;32m   2002\u001b[0m         \"\"\"\n\u001b[0;32m   2003\u001b[0m         \u001b[0metype\u001b[0m\u001b[1;33m,\u001b[0m \u001b[0mvalue\u001b[0m\u001b[1;33m,\u001b[0m \u001b[0mtb\u001b[0m \u001b[1;33m=\u001b[0m \u001b[0mself\u001b[0m\u001b[1;33m.\u001b[0m\u001b[0m_get_exc_info\u001b[0m\u001b[1;33m(\u001b[0m\u001b[0mexc_tuple\u001b[0m\u001b[1;33m)\u001b[0m\u001b[1;33m\u001b[0m\u001b[1;33m\u001b[0m\u001b[0m\n\u001b[1;32m-> 2004\u001b[1;33m         \u001b[0mmsg\u001b[0m \u001b[1;33m=\u001b[0m \u001b[0mtraceback\u001b[0m\u001b[1;33m.\u001b[0m\u001b[0mformat_exception_only\u001b[0m\u001b[1;33m(\u001b[0m\u001b[0metype\u001b[0m\u001b[1;33m,\u001b[0m \u001b[0mvalue\u001b[0m\u001b[1;33m)\u001b[0m\u001b[1;33m\u001b[0m\u001b[1;33m\u001b[0m\u001b[0m\n\u001b[0m\u001b[0;32m   2005\u001b[0m         \u001b[1;32mreturn\u001b[0m \u001b[1;34m''\u001b[0m\u001b[1;33m.\u001b[0m\u001b[0mjoin\u001b[0m\u001b[1;33m(\u001b[0m\u001b[0mmsg\u001b[0m\u001b[1;33m)\u001b[0m\u001b[1;33m\u001b[0m\u001b[1;33m\u001b[0m\u001b[0m\n\u001b[0;32m   2006\u001b[0m \u001b[1;33m\u001b[0m\u001b[0m\n",
      "\u001b[1;32m~\\anaconda3\\lib\\traceback.py\u001b[0m in \u001b[0;36mformat_exception_only\u001b[1;34m(etype, value)\u001b[0m\n\u001b[0;32m    138\u001b[0m \u001b[1;33m\u001b[0m\u001b[0m\n\u001b[0;32m    139\u001b[0m     \"\"\"\n\u001b[1;32m--> 140\u001b[1;33m     \u001b[1;32mreturn\u001b[0m \u001b[0mlist\u001b[0m\u001b[1;33m(\u001b[0m\u001b[0mTracebackException\u001b[0m\u001b[1;33m(\u001b[0m\u001b[0metype\u001b[0m\u001b[1;33m,\u001b[0m \u001b[0mvalue\u001b[0m\u001b[1;33m,\u001b[0m \u001b[1;32mNone\u001b[0m\u001b[1;33m)\u001b[0m\u001b[1;33m.\u001b[0m\u001b[0mformat_exception_only\u001b[0m\u001b[1;33m(\u001b[0m\u001b[1;33m)\u001b[0m\u001b[1;33m)\u001b[0m\u001b[1;33m\u001b[0m\u001b[1;33m\u001b[0m\u001b[0m\n\u001b[0m\u001b[0;32m    141\u001b[0m \u001b[1;33m\u001b[0m\u001b[0m\n\u001b[0;32m    142\u001b[0m \u001b[1;33m\u001b[0m\u001b[0m\n",
      "\u001b[1;32m~\\anaconda3\\lib\\traceback.py\u001b[0m in \u001b[0;36m__init__\u001b[1;34m(self, exc_type, exc_value, exc_traceback, limit, lookup_lines, capture_locals, _seen)\u001b[0m\n\u001b[0;32m    522\u001b[0m             \u001b[0mself\u001b[0m\u001b[1;33m.\u001b[0m\u001b[0mmsg\u001b[0m \u001b[1;33m=\u001b[0m \u001b[0mexc_value\u001b[0m\u001b[1;33m.\u001b[0m\u001b[0mmsg\u001b[0m\u001b[1;33m\u001b[0m\u001b[1;33m\u001b[0m\u001b[0m\n\u001b[0;32m    523\u001b[0m         \u001b[1;32mif\u001b[0m \u001b[0mlookup_lines\u001b[0m\u001b[1;33m:\u001b[0m\u001b[1;33m\u001b[0m\u001b[1;33m\u001b[0m\u001b[0m\n\u001b[1;32m--> 524\u001b[1;33m             \u001b[0mself\u001b[0m\u001b[1;33m.\u001b[0m\u001b[0m_load_lines\u001b[0m\u001b[1;33m(\u001b[0m\u001b[1;33m)\u001b[0m\u001b[1;33m\u001b[0m\u001b[1;33m\u001b[0m\u001b[0m\n\u001b[0m\u001b[0;32m    525\u001b[0m \u001b[1;33m\u001b[0m\u001b[0m\n\u001b[0;32m    526\u001b[0m     \u001b[1;33m@\u001b[0m\u001b[0mclassmethod\u001b[0m\u001b[1;33m\u001b[0m\u001b[1;33m\u001b[0m\u001b[0m\n",
      "\u001b[1;32m~\\anaconda3\\lib\\traceback.py\u001b[0m in \u001b[0;36m_load_lines\u001b[1;34m(self)\u001b[0m\n\u001b[0;32m    534\u001b[0m             \u001b[0mframe\u001b[0m\u001b[1;33m.\u001b[0m\u001b[0mline\u001b[0m\u001b[1;33m\u001b[0m\u001b[1;33m\u001b[0m\u001b[0m\n\u001b[0;32m    535\u001b[0m         \u001b[1;32mif\u001b[0m \u001b[0mself\u001b[0m\u001b[1;33m.\u001b[0m\u001b[0m__context__\u001b[0m\u001b[1;33m:\u001b[0m\u001b[1;33m\u001b[0m\u001b[1;33m\u001b[0m\u001b[0m\n\u001b[1;32m--> 536\u001b[1;33m             \u001b[0mself\u001b[0m\u001b[1;33m.\u001b[0m\u001b[0m__context__\u001b[0m\u001b[1;33m.\u001b[0m\u001b[0m_load_lines\u001b[0m\u001b[1;33m(\u001b[0m\u001b[1;33m)\u001b[0m\u001b[1;33m\u001b[0m\u001b[1;33m\u001b[0m\u001b[0m\n\u001b[0m\u001b[0;32m    537\u001b[0m         \u001b[1;32mif\u001b[0m \u001b[0mself\u001b[0m\u001b[1;33m.\u001b[0m\u001b[0m__cause__\u001b[0m\u001b[1;33m:\u001b[0m\u001b[1;33m\u001b[0m\u001b[1;33m\u001b[0m\u001b[0m\n\u001b[0;32m    538\u001b[0m             \u001b[0mself\u001b[0m\u001b[1;33m.\u001b[0m\u001b[0m__cause__\u001b[0m\u001b[1;33m.\u001b[0m\u001b[0m_load_lines\u001b[0m\u001b[1;33m(\u001b[0m\u001b[1;33m)\u001b[0m\u001b[1;33m\u001b[0m\u001b[1;33m\u001b[0m\u001b[0m\n",
      "\u001b[1;32m~\\anaconda3\\lib\\traceback.py\u001b[0m in \u001b[0;36m_load_lines\u001b[1;34m(self)\u001b[0m\n\u001b[0;32m    532\u001b[0m         \u001b[1;34m\"\"\"Private API. force all lines in the stack to be loaded.\"\"\"\u001b[0m\u001b[1;33m\u001b[0m\u001b[1;33m\u001b[0m\u001b[0m\n\u001b[0;32m    533\u001b[0m         \u001b[1;32mfor\u001b[0m \u001b[0mframe\u001b[0m \u001b[1;32min\u001b[0m \u001b[0mself\u001b[0m\u001b[1;33m.\u001b[0m\u001b[0mstack\u001b[0m\u001b[1;33m:\u001b[0m\u001b[1;33m\u001b[0m\u001b[1;33m\u001b[0m\u001b[0m\n\u001b[1;32m--> 534\u001b[1;33m             \u001b[0mframe\u001b[0m\u001b[1;33m.\u001b[0m\u001b[0mline\u001b[0m\u001b[1;33m\u001b[0m\u001b[1;33m\u001b[0m\u001b[0m\n\u001b[0m\u001b[0;32m    535\u001b[0m         \u001b[1;32mif\u001b[0m \u001b[0mself\u001b[0m\u001b[1;33m.\u001b[0m\u001b[0m__context__\u001b[0m\u001b[1;33m:\u001b[0m\u001b[1;33m\u001b[0m\u001b[1;33m\u001b[0m\u001b[0m\n\u001b[0;32m    536\u001b[0m             \u001b[0mself\u001b[0m\u001b[1;33m.\u001b[0m\u001b[0m__context__\u001b[0m\u001b[1;33m.\u001b[0m\u001b[0m_load_lines\u001b[0m\u001b[1;33m(\u001b[0m\u001b[1;33m)\u001b[0m\u001b[1;33m\u001b[0m\u001b[1;33m\u001b[0m\u001b[0m\n",
      "\u001b[1;32m~\\anaconda3\\lib\\traceback.py\u001b[0m in \u001b[0;36mline\u001b[1;34m(self)\u001b[0m\n\u001b[0;32m    286\u001b[0m     \u001b[1;32mdef\u001b[0m \u001b[0mline\u001b[0m\u001b[1;33m(\u001b[0m\u001b[0mself\u001b[0m\u001b[1;33m)\u001b[0m\u001b[1;33m:\u001b[0m\u001b[1;33m\u001b[0m\u001b[1;33m\u001b[0m\u001b[0m\n\u001b[0;32m    287\u001b[0m         \u001b[1;32mif\u001b[0m \u001b[0mself\u001b[0m\u001b[1;33m.\u001b[0m\u001b[0m_line\u001b[0m \u001b[1;32mis\u001b[0m \u001b[1;32mNone\u001b[0m\u001b[1;33m:\u001b[0m\u001b[1;33m\u001b[0m\u001b[1;33m\u001b[0m\u001b[0m\n\u001b[1;32m--> 288\u001b[1;33m             \u001b[0mself\u001b[0m\u001b[1;33m.\u001b[0m\u001b[0m_line\u001b[0m \u001b[1;33m=\u001b[0m \u001b[0mlinecache\u001b[0m\u001b[1;33m.\u001b[0m\u001b[0mgetline\u001b[0m\u001b[1;33m(\u001b[0m\u001b[0mself\u001b[0m\u001b[1;33m.\u001b[0m\u001b[0mfilename\u001b[0m\u001b[1;33m,\u001b[0m \u001b[0mself\u001b[0m\u001b[1;33m.\u001b[0m\u001b[0mlineno\u001b[0m\u001b[1;33m)\u001b[0m\u001b[1;33m.\u001b[0m\u001b[0mstrip\u001b[0m\u001b[1;33m(\u001b[0m\u001b[1;33m)\u001b[0m\u001b[1;33m\u001b[0m\u001b[1;33m\u001b[0m\u001b[0m\n\u001b[0m\u001b[0;32m    289\u001b[0m         \u001b[1;32mreturn\u001b[0m \u001b[0mself\u001b[0m\u001b[1;33m.\u001b[0m\u001b[0m_line\u001b[0m\u001b[1;33m\u001b[0m\u001b[1;33m\u001b[0m\u001b[0m\n\u001b[0;32m    290\u001b[0m \u001b[1;33m\u001b[0m\u001b[0m\n",
      "\u001b[1;32m~\\anaconda3\\lib\\linecache.py\u001b[0m in \u001b[0;36mgetline\u001b[1;34m(filename, lineno, module_globals)\u001b[0m\n\u001b[0;32m     14\u001b[0m \u001b[1;33m\u001b[0m\u001b[0m\n\u001b[0;32m     15\u001b[0m \u001b[1;32mdef\u001b[0m \u001b[0mgetline\u001b[0m\u001b[1;33m(\u001b[0m\u001b[0mfilename\u001b[0m\u001b[1;33m,\u001b[0m \u001b[0mlineno\u001b[0m\u001b[1;33m,\u001b[0m \u001b[0mmodule_globals\u001b[0m\u001b[1;33m=\u001b[0m\u001b[1;32mNone\u001b[0m\u001b[1;33m)\u001b[0m\u001b[1;33m:\u001b[0m\u001b[1;33m\u001b[0m\u001b[1;33m\u001b[0m\u001b[0m\n\u001b[1;32m---> 16\u001b[1;33m     \u001b[0mlines\u001b[0m \u001b[1;33m=\u001b[0m \u001b[0mgetlines\u001b[0m\u001b[1;33m(\u001b[0m\u001b[0mfilename\u001b[0m\u001b[1;33m,\u001b[0m \u001b[0mmodule_globals\u001b[0m\u001b[1;33m)\u001b[0m\u001b[1;33m\u001b[0m\u001b[1;33m\u001b[0m\u001b[0m\n\u001b[0m\u001b[0;32m     17\u001b[0m     \u001b[1;32mif\u001b[0m \u001b[1;36m1\u001b[0m \u001b[1;33m<=\u001b[0m \u001b[0mlineno\u001b[0m \u001b[1;33m<=\u001b[0m \u001b[0mlen\u001b[0m\u001b[1;33m(\u001b[0m\u001b[0mlines\u001b[0m\u001b[1;33m)\u001b[0m\u001b[1;33m:\u001b[0m\u001b[1;33m\u001b[0m\u001b[1;33m\u001b[0m\u001b[0m\n\u001b[0;32m     18\u001b[0m         \u001b[1;32mreturn\u001b[0m \u001b[0mlines\u001b[0m\u001b[1;33m[\u001b[0m\u001b[0mlineno\u001b[0m\u001b[1;33m-\u001b[0m\u001b[1;36m1\u001b[0m\u001b[1;33m]\u001b[0m\u001b[1;33m\u001b[0m\u001b[1;33m\u001b[0m\u001b[0m\n",
      "\u001b[1;32m~\\anaconda3\\lib\\linecache.py\u001b[0m in \u001b[0;36mgetlines\u001b[1;34m(filename, module_globals)\u001b[0m\n\u001b[0;32m     45\u001b[0m \u001b[1;33m\u001b[0m\u001b[0m\n\u001b[0;32m     46\u001b[0m     \u001b[1;32mtry\u001b[0m\u001b[1;33m:\u001b[0m\u001b[1;33m\u001b[0m\u001b[1;33m\u001b[0m\u001b[0m\n\u001b[1;32m---> 47\u001b[1;33m         \u001b[1;32mreturn\u001b[0m \u001b[0mupdatecache\u001b[0m\u001b[1;33m(\u001b[0m\u001b[0mfilename\u001b[0m\u001b[1;33m,\u001b[0m \u001b[0mmodule_globals\u001b[0m\u001b[1;33m)\u001b[0m\u001b[1;33m\u001b[0m\u001b[1;33m\u001b[0m\u001b[0m\n\u001b[0m\u001b[0;32m     48\u001b[0m     \u001b[1;32mexcept\u001b[0m \u001b[0mMemoryError\u001b[0m\u001b[1;33m:\u001b[0m\u001b[1;33m\u001b[0m\u001b[1;33m\u001b[0m\u001b[0m\n\u001b[0;32m     49\u001b[0m         \u001b[0mclearcache\u001b[0m\u001b[1;33m(\u001b[0m\u001b[1;33m)\u001b[0m\u001b[1;33m\u001b[0m\u001b[1;33m\u001b[0m\u001b[0m\n",
      "\u001b[1;32m~\\anaconda3\\lib\\linecache.py\u001b[0m in \u001b[0;36mupdatecache\u001b[1;34m(filename, module_globals)\u001b[0m\n\u001b[0;32m    134\u001b[0m             \u001b[1;32mreturn\u001b[0m \u001b[1;33m[\u001b[0m\u001b[1;33m]\u001b[0m\u001b[1;33m\u001b[0m\u001b[1;33m\u001b[0m\u001b[0m\n\u001b[0;32m    135\u001b[0m     \u001b[1;32mtry\u001b[0m\u001b[1;33m:\u001b[0m\u001b[1;33m\u001b[0m\u001b[1;33m\u001b[0m\u001b[0m\n\u001b[1;32m--> 136\u001b[1;33m         \u001b[1;32mwith\u001b[0m \u001b[0mtokenize\u001b[0m\u001b[1;33m.\u001b[0m\u001b[0mopen\u001b[0m\u001b[1;33m(\u001b[0m\u001b[0mfullname\u001b[0m\u001b[1;33m)\u001b[0m \u001b[1;32mas\u001b[0m \u001b[0mfp\u001b[0m\u001b[1;33m:\u001b[0m\u001b[1;33m\u001b[0m\u001b[1;33m\u001b[0m\u001b[0m\n\u001b[0m\u001b[0;32m    137\u001b[0m             \u001b[0mlines\u001b[0m \u001b[1;33m=\u001b[0m \u001b[0mfp\u001b[0m\u001b[1;33m.\u001b[0m\u001b[0mreadlines\u001b[0m\u001b[1;33m(\u001b[0m\u001b[1;33m)\u001b[0m\u001b[1;33m\u001b[0m\u001b[1;33m\u001b[0m\u001b[0m\n\u001b[0;32m    138\u001b[0m     \u001b[1;32mexcept\u001b[0m \u001b[0mOSError\u001b[0m\u001b[1;33m:\u001b[0m\u001b[1;33m\u001b[0m\u001b[1;33m\u001b[0m\u001b[0m\n",
      "\u001b[1;32m~\\anaconda3\\lib\\tokenize.py\u001b[0m in \u001b[0;36mopen\u001b[1;34m(filename)\u001b[0m\n\u001b[0;32m    392\u001b[0m     \u001b[0mbuffer\u001b[0m \u001b[1;33m=\u001b[0m \u001b[0m_builtin_open\u001b[0m\u001b[1;33m(\u001b[0m\u001b[0mfilename\u001b[0m\u001b[1;33m,\u001b[0m \u001b[1;34m'rb'\u001b[0m\u001b[1;33m)\u001b[0m\u001b[1;33m\u001b[0m\u001b[1;33m\u001b[0m\u001b[0m\n\u001b[0;32m    393\u001b[0m     \u001b[1;32mtry\u001b[0m\u001b[1;33m:\u001b[0m\u001b[1;33m\u001b[0m\u001b[1;33m\u001b[0m\u001b[0m\n\u001b[1;32m--> 394\u001b[1;33m         \u001b[0mencoding\u001b[0m\u001b[1;33m,\u001b[0m \u001b[0mlines\u001b[0m \u001b[1;33m=\u001b[0m \u001b[0mdetect_encoding\u001b[0m\u001b[1;33m(\u001b[0m\u001b[0mbuffer\u001b[0m\u001b[1;33m.\u001b[0m\u001b[0mreadline\u001b[0m\u001b[1;33m)\u001b[0m\u001b[1;33m\u001b[0m\u001b[1;33m\u001b[0m\u001b[0m\n\u001b[0m\u001b[0;32m    395\u001b[0m         \u001b[0mbuffer\u001b[0m\u001b[1;33m.\u001b[0m\u001b[0mseek\u001b[0m\u001b[1;33m(\u001b[0m\u001b[1;36m0\u001b[0m\u001b[1;33m)\u001b[0m\u001b[1;33m\u001b[0m\u001b[1;33m\u001b[0m\u001b[0m\n\u001b[0;32m    396\u001b[0m         \u001b[0mtext\u001b[0m \u001b[1;33m=\u001b[0m \u001b[0mTextIOWrapper\u001b[0m\u001b[1;33m(\u001b[0m\u001b[0mbuffer\u001b[0m\u001b[1;33m,\u001b[0m \u001b[0mencoding\u001b[0m\u001b[1;33m,\u001b[0m \u001b[0mline_buffering\u001b[0m\u001b[1;33m=\u001b[0m\u001b[1;32mTrue\u001b[0m\u001b[1;33m)\u001b[0m\u001b[1;33m\u001b[0m\u001b[1;33m\u001b[0m\u001b[0m\n",
      "\u001b[1;32m~\\anaconda3\\lib\\tokenize.py\u001b[0m in \u001b[0;36mdetect_encoding\u001b[1;34m(readline)\u001b[0m\n\u001b[0;32m    361\u001b[0m         \u001b[1;32mreturn\u001b[0m \u001b[0mencoding\u001b[0m\u001b[1;33m\u001b[0m\u001b[1;33m\u001b[0m\u001b[0m\n\u001b[0;32m    362\u001b[0m \u001b[1;33m\u001b[0m\u001b[0m\n\u001b[1;32m--> 363\u001b[1;33m     \u001b[0mfirst\u001b[0m \u001b[1;33m=\u001b[0m \u001b[0mread_or_stop\u001b[0m\u001b[1;33m(\u001b[0m\u001b[1;33m)\u001b[0m\u001b[1;33m\u001b[0m\u001b[1;33m\u001b[0m\u001b[0m\n\u001b[0m\u001b[0;32m    364\u001b[0m     \u001b[1;32mif\u001b[0m \u001b[0mfirst\u001b[0m\u001b[1;33m.\u001b[0m\u001b[0mstartswith\u001b[0m\u001b[1;33m(\u001b[0m\u001b[0mBOM_UTF8\u001b[0m\u001b[1;33m)\u001b[0m\u001b[1;33m:\u001b[0m\u001b[1;33m\u001b[0m\u001b[1;33m\u001b[0m\u001b[0m\n\u001b[0;32m    365\u001b[0m         \u001b[0mbom_found\u001b[0m \u001b[1;33m=\u001b[0m \u001b[1;32mTrue\u001b[0m\u001b[1;33m\u001b[0m\u001b[1;33m\u001b[0m\u001b[0m\n",
      "\u001b[1;32m~\\anaconda3\\lib\\tokenize.py\u001b[0m in \u001b[0;36mread_or_stop\u001b[1;34m()\u001b[0m\n\u001b[0;32m    319\u001b[0m     \u001b[1;32mdef\u001b[0m \u001b[0mread_or_stop\u001b[0m\u001b[1;33m(\u001b[0m\u001b[1;33m)\u001b[0m\u001b[1;33m:\u001b[0m\u001b[1;33m\u001b[0m\u001b[1;33m\u001b[0m\u001b[0m\n\u001b[0;32m    320\u001b[0m         \u001b[1;32mtry\u001b[0m\u001b[1;33m:\u001b[0m\u001b[1;33m\u001b[0m\u001b[1;33m\u001b[0m\u001b[0m\n\u001b[1;32m--> 321\u001b[1;33m             \u001b[1;32mreturn\u001b[0m \u001b[0mreadline\u001b[0m\u001b[1;33m(\u001b[0m\u001b[1;33m)\u001b[0m\u001b[1;33m\u001b[0m\u001b[1;33m\u001b[0m\u001b[0m\n\u001b[0m\u001b[0;32m    322\u001b[0m         \u001b[1;32mexcept\u001b[0m \u001b[0mStopIteration\u001b[0m\u001b[1;33m:\u001b[0m\u001b[1;33m\u001b[0m\u001b[1;33m\u001b[0m\u001b[0m\n\u001b[0;32m    323\u001b[0m             \u001b[1;32mreturn\u001b[0m \u001b[1;34mb''\u001b[0m\u001b[1;33m\u001b[0m\u001b[1;33m\u001b[0m\u001b[0m\n",
      "\u001b[1;31mKeyboardInterrupt\u001b[0m: "
     ]
    }
   ],
   "source": [
    "scdv_noise.fit(False, False, True, True, val)"
   ]
  },
  {
   "cell_type": "code",
   "execution_count": null,
   "metadata": {},
   "outputs": [],
   "source": []
  },
  {
   "cell_type": "code",
   "execution_count": null,
   "metadata": {},
   "outputs": [],
   "source": []
  },
  {
   "cell_type": "markdown",
   "metadata": {},
   "source": [
    "# ARTM"
   ]
  },
  {
   "cell_type": "code",
   "execution_count": 34,
   "metadata": {},
   "outputs": [
    {
     "data": {
      "text/plain": [
       "artm.dictionary.Dictionary"
      ]
     },
     "execution_count": 34,
     "metadata": {},
     "output_type": "execute_result"
    }
   ],
   "source": [
    "os.chdir(r'C:\\Users\\vdtri\\Documents\\ВКР\\Программа')\n",
    "data_path = r''\n",
    "batch_vectorizer = artm.BatchVectorizer(data_path='', data_format='bow_uci',\n",
    "                                        collection_name='UCI_dataset', target_folder='kos_batches')\n",
    "dictionary = batch_vectorizer.dictionary\n",
    "type(dictionary)"
   ]
  },
  {
   "cell_type": "code",
   "execution_count": 24,
   "metadata": {},
   "outputs": [],
   "source": [
    "dictionary = batch_vectorizer.dictionary\n",
    "score_ret = list()\n",
    "scores_1 = list()\n",
    "for T in tqdm(range(30, 310, 20)):\n",
    "    topic_names = ['topic_{}'.format(i) for i in range(T)]\n",
    "    model_artm = artm.ARTM(topic_names=topic_names, cache_theta=True, \n",
    "                           scores=[artm.PerplexityScore(name='PerplexityScore', dictionary=dictionary)], \n",
    "                           regularizers=[artm.SmoothSparseThetaRegularizer(name='SparseTheta', tau=-0.15)])\n",
    "    model_artm.scores.add(artm.SparsityPhiScore(name='SparsityPhiScore'))\n",
    "    model_artm.scores.add(artm.SparsityThetaScore(name='SparsityThetaScore'))\n",
    "    model_artm.scores.add(artm.TopicKernelScore(name='TopicKernelScore',\n",
    "                                                      probability_mass_threshold=0.3))\n",
    "    model_artm.regularizers.add(artm.SmoothSparsePhiRegularizer(name='SparsePhi', tau=-0.1))\n",
    "    model_artm.regularizers.add(artm.DecorrelatorPhiRegularizer(name='DecorrelatorPhi', tau=1.5e+5))\n",
    "    model_artm.scores.add(artm.TopTokensScore(name='TopTokensScore', num_tokens=6))\n",
    "    model_artm.initialize(dictionary=dictionary)\n",
    "    model_artm.num_document_passes = 1\n",
    "    model_artm.fit_offline(batch_vectorizer=batch_vectorizer, num_collection_passes=8)\n",
    "    \n",
    "    s = list()\n",
    "    for ind in range(3, 5):\n",
    "        theta_list_test = list()\n",
    "        for i in (test_data[110*ind:(ind+1)*110]):\n",
    "            theta_list_test.append(get_theta(model_artm, doc2vow(i)))\n",
    "        results = list()\n",
    "        for i in [i*11 for i in range(5)]:\n",
    "            results.append(dist_top10(theta_list_test[i], theta_list_test))\n",
    "        leest = list()\n",
    "        for i in range(5):\n",
    "            leest.append(prec(list(map(lambda x: x[0], results[i])), 10, i*11))\n",
    "        s.append(sum(leest)/len(leest))\n",
    "    score_ret.append(sum(s)/len(s))\n",
    "    print(sum(s)/len(s))\n",
    "         \n",
    "#     model_artm.fit_online(batch_vectorizer=batch_vectorizer, asynchronous=True)\n",
    "    scores_1.append((T, model_artm.score_tracker['PerplexityScore'].last_value, sem_close_ARTM(model_artm)))\n",
    "#    print((T, model_artm.score_tracker['PerplexityScore'].last_value))"
   ]
  },
  {
   "cell_type": "code",
   "execution_count": 35,
   "metadata": {},
   "outputs": [],
   "source": [
    "dictionary = batch_vectorizer.dictionary\n",
    "T = 90\n",
    "topic_names = ['topic_{}'.format(i) for i in range(T)]\n",
    "model_artm = artm.ARTM(topic_names=topic_names, cache_theta=True, \n",
    "                       scores=[artm.PerplexityScore(name='PerplexityScore', dictionary=dictionary)], \n",
    "                       regularizers=[artm.SmoothSparseThetaRegularizer(name='SparseTheta', tau=-0.15)])\n",
    "model_artm.scores.add(artm.SparsityPhiScore(name='SparsityPhiScore'))\n",
    "model_artm.scores.add(artm.SparsityThetaScore(name='SparsityThetaScore'))\n",
    "model_artm.scores.add(artm.TopTokensScore(name='TopTokensScore', num_tokens=6))\n",
    "model_artm.regularizers.add(artm.SmoothSparsePhiRegularizer(name='SparsePhi', tau=-0.1))\n",
    "model_artm.regularizers.add(artm.DecorrelatorPhiRegularizer(name='DecorrelatorPhi', tau=1.5e+5))\n",
    "model_artm.initialize(dictionary=dictionary)\n",
    "# model_artm.num_document_passes = 3\n",
    "# model_artm.fit_offline(batch_vectorizer=batch_vectorizer, num_collection_passes=15)\n",
    "# #    model_artm.fit_online(batch_vectorizer=batch_vectorizer, asynchronous=True)\n",
    "# print(model_artm.score_tracker['PerplexityScore'].last_value)"
   ]
  },
  {
   "cell_type": "markdown",
   "metadata": {},
   "source": [
    "model_artm.save(\"model_artm\")"
   ]
  },
  {
   "cell_type": "code",
   "execution_count": 39,
   "metadata": {},
   "outputs": [],
   "source": [
    "os.chdir(r\"C:\\Users\\vdtri\\Documents\\ВКР\\Программа\\models\")\n",
    "model_artm.load(r'model_artm')\n",
    "os.chdir(r\"C:\\Users\\vdtri\\Documents\\ВКР\\Программа\")"
   ]
  },
  {
   "cell_type": "code",
   "execution_count": 15,
   "metadata": {},
   "outputs": [
    {
     "name": "stdout",
     "output_type": "stream",
     "text": [
      "topic_0: \n"
     ]
    },
    {
     "ename": "KeyError",
     "evalue": "'TopTokensScore'",
     "output_type": "error",
     "traceback": [
      "\u001b[1;31m---------------------------------------------------------------------------\u001b[0m",
      "\u001b[1;31mKeyError\u001b[0m                                  Traceback (most recent call last)",
      "\u001b[1;32m<ipython-input-15-2e32576ca842>\u001b[0m in \u001b[0;36m<module>\u001b[1;34m\u001b[0m\n\u001b[0;32m      1\u001b[0m \u001b[1;32mfor\u001b[0m \u001b[0mtopic_name\u001b[0m \u001b[1;32min\u001b[0m \u001b[0mmodel_artm\u001b[0m\u001b[1;33m.\u001b[0m\u001b[0mtopic_names\u001b[0m\u001b[1;33m:\u001b[0m\u001b[1;33m\u001b[0m\u001b[1;33m\u001b[0m\u001b[0m\n\u001b[0;32m      2\u001b[0m     \u001b[0mprint\u001b[0m\u001b[1;33m(\u001b[0m\u001b[0mtopic_name\u001b[0m \u001b[1;33m+\u001b[0m \u001b[1;34m': '\u001b[0m\u001b[1;33m)\u001b[0m\u001b[1;33m\u001b[0m\u001b[1;33m\u001b[0m\u001b[0m\n\u001b[1;32m----> 3\u001b[1;33m     \u001b[0mprint\u001b[0m\u001b[1;33m(\u001b[0m\u001b[0mmodel_artm\u001b[0m\u001b[1;33m.\u001b[0m\u001b[0mscore_tracker\u001b[0m\u001b[1;33m[\u001b[0m\u001b[1;34m'TopTokensScore'\u001b[0m\u001b[1;33m]\u001b[0m\u001b[1;33m.\u001b[0m\u001b[0mlast_tokens\u001b[0m\u001b[1;33m[\u001b[0m\u001b[0mtopic_name\u001b[0m\u001b[1;33m]\u001b[0m\u001b[1;33m)\u001b[0m\u001b[1;33m\u001b[0m\u001b[1;33m\u001b[0m\u001b[0m\n\u001b[0m",
      "\u001b[1;31mKeyError\u001b[0m: 'TopTokensScore'"
     ]
    }
   ],
   "source": [
    "for topic_name in model_artm.topic_names:\n",
    "    print(topic_name + ': ')\n",
    "    print(model_artm.score_tracker['TopTokensScore'].last_tokens[topic_name])"
   ]
  },
  {
   "cell_type": "markdown",
   "metadata": {},
   "source": [
    "without noise"
   ]
  },
  {
   "cell_type": "code",
   "execution_count": 40,
   "metadata": {},
   "outputs": [
    {
     "data": {
      "text/plain": [
       "artm.dictionary.Dictionary"
      ]
     },
     "execution_count": 40,
     "metadata": {},
     "output_type": "execute_result"
    }
   ],
   "source": [
    "os.chdir(r'C:\\Users\\vdtri\\Documents\\ВКР\\Программа')\n",
    "data_path = r''\n",
    "batch_vectorizer = artm.BatchVectorizer(data_path='', data_format='bow_uci',\n",
    "                                        collection_name='UCI_dataset_noise', target_folder='kos_batches_noise')\n",
    "dictionary = batch_vectorizer.dictionary\n",
    "type(dictionary)"
   ]
  },
  {
   "cell_type": "code",
   "execution_count": 41,
   "metadata": {},
   "outputs": [
    {
     "name": "stdout",
     "output_type": "stream",
     "text": [
      "307.79754638671875\n"
     ]
    }
   ],
   "source": [
    "dictionary = batch_vectorizer.dictionary\n",
    "T = 90\n",
    "topic_names = ['topic_{}'.format(i) for i in range(T)]\n",
    "model_artm_noise = artm.ARTM(topic_names=topic_names, cache_theta=True, \n",
    "                       scores=[artm.PerplexityScore(name='PerplexityScore', dictionary=dictionary)], \n",
    "                       regularizers=[artm.SmoothSparseThetaRegularizer(name='SparseTheta', tau=-0.15)])\n",
    "model_artm_noise.scores.add(artm.SparsityPhiScore(name='SparsityPhiScore'))\n",
    "model_artm_noise.scores.add(artm.SparsityThetaScore(name='SparsityThetaScore'))\n",
    "model_artm_noise.scores.add(artm.TopTokensScore(name='TopTokensScore', num_tokens=6))\n",
    "model_artm_noise.regularizers.add(artm.SmoothSparsePhiRegularizer(name='SparsePhi', tau=-0.1))\n",
    "model_artm_noise.regularizers.add(artm.DecorrelatorPhiRegularizer(name='DecorrelatorPhi', tau=1.5e+5))\n",
    "model_artm_noise.initialize(dictionary=dictionary)\n",
    "model_artm_noise.num_document_passes = 3\n",
    "model_artm_noise.fit_offline(batch_vectorizer=batch_vectorizer, num_collection_passes=15)\n",
    "#    model_artm.fit_online(batch_vectorizer=batch_vectorizer, asynchronous=True)\n",
    "print(model_artm_noise.score_tracker['PerplexityScore'].last_value)"
   ]
  },
  {
   "cell_type": "code",
   "execution_count": 42,
   "metadata": {},
   "outputs": [],
   "source": [
    "model_artm_noise.save(\"model_artm_noise\")"
   ]
  },
  {
   "cell_type": "code",
   "execution_count": null,
   "metadata": {},
   "outputs": [],
   "source": [
    "os.chdir(r\"C:\\Users\\vdtri\\Documents\\ВКР\\Программа\\models\")model_artm.save(\"model_artm_noise\")\n",
    "model_artm.load(\"model_artm_noise\")\n",
    "os.chdir(r\"C:\\Users\\vdtri\\Documents\\ВКР\\Программа\")"
   ]
  },
  {
   "cell_type": "markdown",
   "metadata": {},
   "source": [
    "# Top2vec"
   ]
  },
  {
   "cell_type": "code",
   "execution_count": 30,
   "metadata": {},
   "outputs": [],
   "source": [
    "import top2vec\n",
    "from top2vec import Top2Vec"
   ]
  },
  {
   "cell_type": "code",
   "execution_count": null,
   "metadata": {},
   "outputs": [],
   "source": [
    "umap_args = {'n_neighbors': 30,\n",
    "             'n_components': 15,\n",
    "             'metric': 'cosine'}\n",
    "model_noise = Top2Vec(documents=all_texts_clean, min_count=0, speed=\"learn\", workers=4)"
   ]
  },
  {
   "cell_type": "code",
   "execution_count": 27,
   "metadata": {},
   "outputs": [],
   "source": [
    "model = Top2Vec.load(model_path + 'top2vec_deep.model')"
   ]
  },
  {
   "cell_type": "code",
   "execution_count": 6,
   "metadata": {},
   "outputs": [],
   "source": [
    "num = 0\n",
    "class_0 = list()\n",
    "class_0_vectors = list()\n",
    "for i in range(len(model._get_document_vectors())):\n",
    "    if (model.get_documents_topics([i])[0][0] == num):\n",
    "        class_0.append(i)\n",
    "\n",
    "for i, val in enumerate(model._get_document_vectors()):\n",
    "    if (i in class_0):\n",
    "        class_0_vectors.append(np.array(val))"
   ]
  },
  {
   "cell_type": "markdown",
   "metadata": {},
   "source": [
    "Without noise"
   ]
  },
  {
   "cell_type": "code",
   "execution_count": 18,
   "metadata": {},
   "outputs": [
    {
     "name": "stderr",
     "output_type": "stream",
     "text": [
      "2021-04-22 09:51:01,763 - top2vec - INFO - Pre-processing documents for training\n",
      "2021-04-22 09:52:00,423 - top2vec - INFO - Creating joint document/word embedding\n",
      "2021-04-22 10:43:44,698 - top2vec - INFO - Creating lower dimension embedding of documents\n",
      "2021-04-22 10:43:54,336 - top2vec - INFO - Finding dense areas of documents\n",
      "2021-04-22 10:43:56,281 - top2vec - INFO - Finding topics\n"
     ]
    }
   ],
   "source": [
    "umap_args = {'n_neighbors': 30,\n",
    "             'n_components': 15,\n",
    "             'metric': 'cosine'}\n",
    "model_noise = Top2Vec(documents=new_doc, min_count=0, speed=\"learn\", workers=4)"
   ]
  },
  {
   "cell_type": "code",
   "execution_count": 19,
   "metadata": {},
   "outputs": [],
   "source": [
    "model_noise.save(\"model_noise\")"
   ]
  },
  {
   "cell_type": "code",
   "execution_count": 33,
   "metadata": {},
   "outputs": [],
   "source": [
    "model_noise= Top2Vec.load(model_path  + \"model_noise\")"
   ]
  },
  {
   "cell_type": "markdown",
   "metadata": {},
   "source": [
    "# Noise"
   ]
  },
  {
   "cell_type": "code",
   "execution_count": 13,
   "metadata": {},
   "outputs": [],
   "source": [
    "doc_vectors = model._get_document_vectors()[:-550]\n",
    "hdbscan_args = {'min_cluster_size': 5,\n",
    "                'metric': 'euclidean',\n",
    "                'cluster_selection_method': 'eom', \n",
    "                'min_samples':1}\n",
    "umap_args = {'n_neighbors': 15,\n",
    "             'n_components': 5,\n",
    "             'metric': 'cosine'}\n",
    "\n",
    "umap_model = UMAP(**umap_args).fit(model._get_document_vectors(norm=False))\n",
    "cluster = hdbscan.HDBSCAN(**hdbscan_args).fit(umap_model.embedding_)"
   ]
  },
  {
   "cell_type": "code",
   "execution_count": 14,
   "metadata": {},
   "outputs": [],
   "source": [
    "doc_without_noise = list(zip(cluster.labels_, sentences_1[:-550]))"
   ]
  },
  {
   "cell_type": "code",
   "execution_count": 17,
   "metadata": {},
   "outputs": [],
   "source": [
    "new_doc = list()\n",
    "for i, j in doc_without_noise:\n",
    "    if i != -1:\n",
    "        new_doc.append(j)"
   ]
  },
  {
   "cell_type": "markdown",
   "metadata": {},
   "source": [
    "# SCDV with ARTM"
   ]
  },
  {
   "cell_type": "code",
   "execution_count": 70,
   "metadata": {},
   "outputs": [],
   "source": [
    "from sklearn.feature_extraction.text import TfidfVectorizer,HashingVectorizer\n",
    "\n",
    "tfv = TfidfVectorizer(min_df = 2)\n",
    "tfidfmatrix_traindata = tfv.fit_transform(sentences_1)\n",
    "featurenames = tfv.get_feature_names()\n",
    "idf = tfv._tfidf.idf_\n",
    "\n",
    "idfs = dict(zip(featurenames, idf))"
   ]
  },
  {
   "cell_type": "code",
   "execution_count": 71,
   "metadata": {},
   "outputs": [],
   "source": [
    "phi = model_artm.get_phi()\n",
    "n_wt = model_artm.get_phi(model_name=model_artm.model_nwt)"
   ]
  },
  {
   "cell_type": "code",
   "execution_count": 72,
   "metadata": {},
   "outputs": [
    {
     "name": "stderr",
     "output_type": "stream",
     "text": [
      "90it [00:00, 133.33it/s]\n",
      "100%|█████████████████████████████████████████████████████████████████████████| 213091/213091 [03:42<00:00, 957.42it/s]\n"
     ]
    }
   ],
   "source": [
    "n = 0\n",
    "n_t = list([0]*90)\n",
    "p_w = list()\n",
    "p_t = list([0]*90)\n",
    "for topic_ind, topic in tqdm(enumerate(['topic_' + str(i) for i in range(90)])):\n",
    "    val = n_wt.iloc[:, topic_ind].sum()\n",
    "    n_t[topic_ind] = val\n",
    "    n = n + val\n",
    "    \n",
    "for i in range(90):\n",
    "    p_t[i] = n_t[i]/n\n",
    "\n",
    "for i in tqdm(range(len(phi.T.keys()))):\n",
    "    val = 0\n",
    "    if phi.iloc[i, :].sum() == 0:\n",
    "        p_w.append(0)\n",
    "        continue\n",
    "    for ind in range(90):\n",
    "        val = val + phi.iloc[i, ind]*p_t[ind]\n",
    "    p_w.append(val)"
   ]
  },
  {
   "cell_type": "code",
   "execution_count": null,
   "metadata": {},
   "outputs": [],
   "source": [
    "# scores = list()\n",
    "# for k in tqdm(range(20, 60, 5)):\n",
    "#     soft_clustersARTM = defaultdict(list)\n",
    "#     for ind, key in enumerate(phi.T.keys()):\n",
    "#         if p_w[ind] == 0:\n",
    "#             continue\n",
    "#         temp_list = list()\n",
    "#         for i in range(90):\n",
    "#             temp_list.append(phi.iloc[ind, i]*p_t[i]/p_w[ind])\n",
    "#         if np.max(temp_list)>k/100:\n",
    "#             soft_clustersARTM[key[1]] = temp_list\n",
    "            \n",
    "#     new_soft = list()\n",
    "#     print(len(soft_clustersARTM.keys()))\n",
    "#     for i, j in soft_clustersARTM.items():\n",
    "#         if i not in idfs.keys():\n",
    "#             new_soft.append(i)\n",
    "\n",
    "#     for i in new_soft:\n",
    "#         soft_clustersARTM.pop(i)\n",
    "#     len(soft_clustersARTM.keys())\n",
    "            \n",
    "#     soft_clustersKD_ARTM = defaultdict(list)\n",
    "#     umap_args = {'n_neighbors': 30,\n",
    "#              'n_components': 15,\n",
    "#              'metric': 'cosine'}\n",
    "#     umap_word = UMAP(**umap_args)\n",
    "#     umap_word.fit([w2v[i] for i in soft_clustersARTM.keys() if i in w2v.vocab.keys()])\n",
    "#     keys = [i for i in soft_clustersARTM.keys() if i in w2v.vocab.keys()]\n",
    "#     embed = umap_word.embedding_\n",
    "#     i=0\n",
    "#     for key in keys:\n",
    "#         new_list = list()\n",
    "#         for k in soft_clustersARTM[key]:\n",
    "#             new_list = new_list + list(np.array(embed[i])*k)\n",
    "#         try:\n",
    "#             soft_clustersKD_ARTM[key] = np.array(new_list)*idfs[key]\n",
    "#         except:\n",
    "#             pass\n",
    "#         i = i + 1\n",
    "        \n",
    "#     big_res = list()\n",
    "#     for s in range(5):\n",
    "#         test_vectores = list()\n",
    "#         for elem in test_data[110*s:110*(s+1)]:\n",
    "#             sum_ = np.array([0]*soft_clustersKD_ARTM['регрессия'])\n",
    "#             counter = 0\n",
    "#             for word in elem.split():\n",
    "#                 try:\n",
    "#                     sum_ = sum_ + np.array(soft_clustersKD_ARTM[word])\n",
    "#                     counter = counter + 1\n",
    "#                 except:\n",
    "#                     pass\n",
    "#             test_vectores.append(sum_/counter)\n",
    "\n",
    "#         results = list()\n",
    "#         for i in [i*11 for i in range(10)]:\n",
    "#             results.append(dist_top10(test_vectores[i], test_vectores))\n",
    "\n",
    "#         leest = list()\n",
    "#         for i in range(10):\n",
    "#             leest.append(prec(list(map(lambda x: x[0], results[i])), 10, i*11))\n",
    "#         big_res.append(sum(leest)/len(leest))\n",
    "#     scores.append(sum(big_res)/len(big_res))\n",
    "#     print(big_res)\n",
    "#     print(sum(big_res)/len(big_res))"
   ]
  },
  {
   "cell_type": "code",
   "execution_count": 49,
   "metadata": {},
   "outputs": [],
   "source": [
    "artm_items = soft_clustersARTM.items()"
   ]
  },
  {
   "cell_type": "code",
   "execution_count": 52,
   "metadata": {},
   "outputs": [
    {
     "data": {
      "text/plain": [
       "212880"
      ]
     },
     "execution_count": 52,
     "metadata": {},
     "output_type": "execute_result"
    }
   ],
   "source": [
    "len(idfs.keys())"
   ]
  },
  {
   "cell_type": "code",
   "execution_count": 73,
   "metadata": {},
   "outputs": [
    {
     "name": "stdout",
     "output_type": "stream",
     "text": [
      "80691\n"
     ]
    },
    {
     "data": {
      "text/plain": [
       "63478"
      ]
     },
     "execution_count": 73,
     "metadata": {},
     "output_type": "execute_result"
    }
   ],
   "source": [
    "soft_clustersARTM = defaultdict(list)\n",
    "for ind, key in enumerate(phi.T.keys()):\n",
    "    if p_w[ind] == 0:\n",
    "        continue\n",
    "    temp_list = list()\n",
    "    for i in range(90):\n",
    "        temp_list.append(phi.iloc[ind, i]*p_t[i]/p_w[ind])\n",
    "    if np.max(temp_list)>50/100:\n",
    "        soft_clustersARTM[key[1]] = temp_list\n",
    "\n",
    "new_soft = list()\n",
    "print(len(soft_clustersARTM.keys()))\n",
    "for i, j in soft_clustersARTM.items():\n",
    "    if i not in idfs.keys():\n",
    "        new_soft.append(i)\n",
    "\n",
    "for i in new_soft:\n",
    "    soft_clustersARTM.pop(i)\n",
    "len(soft_clustersARTM.keys())"
   ]
  },
  {
   "cell_type": "code",
   "execution_count": 250,
   "metadata": {},
   "outputs": [
    {
     "data": {
      "text/plain": [
       "180"
      ]
     },
     "execution_count": 250,
     "metadata": {},
     "output_type": "execute_result"
    }
   ],
   "source": [
    "len(soft_clustersKD_ARTM['регрессия'])"
   ]
  },
  {
   "cell_type": "code",
   "execution_count": 74,
   "metadata": {},
   "outputs": [],
   "source": [
    "soft_clustersKD_ARTM_new = defaultdict(list)\n",
    "umap_args = {'n_neighbors': 30,\n",
    "         'n_components': 2,\n",
    "         'metric': 'cosine'}\n",
    "umap_word = UMAP(**umap_args)\n",
    "keys = [i for i in soft_clustersARTM.keys() if i in w2v.vocab.keys()]\n",
    "i=0\n",
    "for key in keys:\n",
    "    new_list = list()\n",
    "    try:\n",
    "        soft_clustersKD_ARTM_new[key] = np.array(soft_clustersARTM[key])*idfs[key]\n",
    "    except:\n",
    "        pass\n",
    "    i = i + 1"
   ]
  },
  {
   "cell_type": "code",
   "execution_count": 208,
   "metadata": {},
   "outputs": [
    {
     "name": "stderr",
     "output_type": "stream",
     "text": [
      "100%|███████████████████████████████████████████████████████████████████████████| 32121/32121 [01:23<00:00, 383.73it/s]\n"
     ]
    }
   ],
   "source": [
    "text_vectores = list()\n",
    "length = len(soft_clustersKD_ARTM['регрессия'])\n",
    "for elem in tqdm(sentences_1):\n",
    "    sum_ = np.array([0]*length)\n",
    "    counter = 0\n",
    "    for word in elem.split():\n",
    "        try:\n",
    "            sum_ = sum_ + np.array(soft_clustersKD_ARTM[word])\n",
    "            counter = counter + 1\n",
    "        except:\n",
    "            pass\n",
    "    text_vectores.append(sum_/counter)"
   ]
  },
  {
   "cell_type": "code",
   "execution_count": 213,
   "metadata": {},
   "outputs": [],
   "source": [
    "items_dict = defaultdict(list)\n",
    "for elem in text_vectores:\n",
    "    for i in range(90):\n",
    "        items_dict[i].append(elem[2*i:2*(i+1)])"
   ]
  },
  {
   "cell_type": "code",
   "execution_count": 200,
   "metadata": {
    "scrolled": true
   },
   "outputs": [
    {
     "name": "stderr",
     "output_type": "stream",
     "text": [
      "100%|██████████████████████████████████████████████████████████████████████████████████| 90/90 [00:16<00:00,  5.34it/s]\n"
     ]
    }
   ],
   "source": [
    "for i, j in tqdm(items_dict.items()):\n",
    "#     print(\"______________\")\n",
    "    amount = len(items_dict[i])\n",
    "#     print(amount)\n",
    "    for s in np.arange(0, 15, 0.1):\n",
    "        counter = 0\n",
    "        temp = list()\n",
    "        for elem in j:\n",
    "            if (abs(elem[0])<s and abs(elem[1])<s):\n",
    "                counter = counter + 1\n",
    "            if (abs(elem[0])>s and abs(elem[1])>s):\n",
    "                temp.append(elem)\n",
    "        if counter/amount > 0.7:\n",
    "#             print(counter)\n",
    "#             print(s)\n",
    "            items_dict[i] = temp\n",
    "            break"
   ]
  },
  {
   "cell_type": "code",
   "execution_count": 218,
   "metadata": {},
   "outputs": [
    {
     "name": "stderr",
     "output_type": "stream",
     "text": [
      "100%|██████████████████████████████████████████████████████████████████████████████████| 90/90 [00:05<00:00, 17.82it/s]\n"
     ]
    }
   ],
   "source": [
    "centers = list()\n",
    "for i, j in tqdm(items_dict.items()):\n",
    "    temp = zip(range(len(sentences_1)), [abs(t[0]) + abs(t[1]) for t in j])\n",
    "    ind = sorted(temp, key = lambda x: x[1], reverse=True)[5][0]\n",
    "    centers.append(j[ind])"
   ]
  },
  {
   "cell_type": "code",
   "execution_count": 178,
   "metadata": {},
   "outputs": [
    {
     "data": {
      "text/plain": [
       "0"
      ]
     },
     "execution_count": 178,
     "metadata": {},
     "output_type": "execute_result"
    }
   ],
   "source": [
    "len([abs(t[0]) + abs(t[1]) for t in j])"
   ]
  },
  {
   "cell_type": "code",
   "execution_count": 201,
   "metadata": {
    "scrolled": true
   },
   "outputs": [],
   "source": [
    "centers = list()\n",
    "for i, j in items_dict.items():\n",
    "    centers.append(sum(items_dict[i])/len(items_dict[i]))"
   ]
  },
  {
   "cell_type": "code",
   "execution_count": 149,
   "metadata": {},
   "outputs": [
    {
     "data": {
      "image/png": "[encoded data removed]",
      "text/plain": [
       "<Figure size 432x288 with 1 Axes>"
      ]
     },
     "metadata": {
      "needs_background": "light"
     },
     "output_type": "display_data"
    }
   ],
   "source": [
    "# for i in range(90):\n",
    "fig = plt.figure()\n",
    "ax = fig.add_subplot(1, 1, 1)\n",
    "def plot_fn(xpoints=None, ypoints=None):\n",
    "    ax.scatter(xpoints, ypoints)\n",
    "    plt.show()\n",
    "plot_fn([xy[0] for xy in items_dict[i]], [xy[1] for xy in items_dict[i]])"
   ]
  },
  {
   "cell_type": "code",
   "execution_count": 215,
   "metadata": {},
   "outputs": [
    {
     "data": {
      "image/png": "[encoded data removed]",
      "text/plain": [
       "<Figure size 432x288 with 1 Axes>"
      ]
     },
     "metadata": {
      "needs_background": "light"
     },
     "output_type": "display_data"
    }
   ],
   "source": [
    "fig = plt.figure()\n",
    "ax = fig.add_subplot(1, 1, 1)\n",
    "def plot_fn(xpoints=None, ypoints=None):\n",
    "    ax.scatter(xpoints, ypoints)\n",
    "    plt.show()\n",
    "plot_fn([xy[0] for xy in centers], [xy[1] for xy in centers])"
   ]
  },
  {
   "cell_type": "code",
   "execution_count": 203,
   "metadata": {},
   "outputs": [
    {
     "data": {
      "text/plain": [
       "array([1.25354161, 2.27796607])"
      ]
     },
     "execution_count": 203,
     "metadata": {},
     "output_type": "execute_result"
    }
   ],
   "source": [
    "sum(items_dict[1])/len(items_dict[1])"
   ]
  },
  {
   "cell_type": "code",
   "execution_count": 219,
   "metadata": {},
   "outputs": [],
   "source": [
    "def scdv_artm(item, centers):\n",
    "    soft = list()\n",
    "    for s in range(90):\n",
    "        soft.append(1/(distance.euclidean(item[2*s:2*(s+1)], centers[s]) ** 2))\n",
    "    return np.array(soft)/sum(soft)"
   ]
  },
  {
   "cell_type": "code",
   "execution_count": 41,
   "metadata": {},
   "outputs": [
    {
     "data": {
      "text/plain": [
       "(89, 0.23342948642517786)"
      ]
     },
     "execution_count": 41,
     "metadata": {},
     "output_type": "execute_result"
    }
   ],
   "source": [
    "sorted(zip(range(90), test_vectores[8]), key = lambda x: x[1], reverse = True)[0]"
   ]
  },
  {
   "cell_type": "code",
   "execution_count": 237,
   "metadata": {},
   "outputs": [
    {
     "name": "stderr",
     "output_type": "stream",
     "text": [
      "100%|███████████████████████████████████████████████████████████████████████████████| 110/110 [00:00<00:00, 150.25it/s]\n"
     ]
    }
   ],
   "source": [
    "length = len(soft_clustersKD_ARTM_new['регрессия'])\n",
    "\n",
    "for elem in tqdm(test_data[110*0:110*(0+1)]):\n",
    "    sum_ = np.array([0]*length)\n",
    "    counter = 0\n",
    "    for word in elem.split():\n",
    "        try:\n",
    "            sum_ = sum_ + np.array(soft_clustersKD_ARTM_new[word])\n",
    "            counter = counter + 1\n",
    "        except:\n",
    "            pass\n",
    "    if counter != 0:\n",
    "        test_vectores.append(sum_/counter)"
   ]
  },
  {
   "cell_type": "code",
   "execution_count": 241,
   "metadata": {},
   "outputs": [
    {
     "data": {
      "text/plain": [
       "90"
      ]
     },
     "execution_count": 241,
     "metadata": {},
     "output_type": "execute_result"
    }
   ],
   "source": [
    "len(test_vectores[0])"
   ]
  },
  {
   "cell_type": "markdown",
   "metadata": {},
   "source": [
    "# Test"
   ]
  },
  {
   "cell_type": "code",
   "execution_count": 25,
   "metadata": {},
   "outputs": [
    {
     "name": "stderr",
     "output_type": "stream",
     "text": [
      "100%|████████████████████████████████████████████████████████████████████████████████████████| 550/550 [00:00<?, ?it/s]\n",
      "100%|████████████████████████████████████████████████████████████████████████████████| 550/550 [09:25<00:00,  1.03s/it]\n"
     ]
    }
   ],
   "source": [
    "os.chdir(path_to_prog + 'For_test_new')\n",
    "test_data = list()\n",
    "texts_1 = list()\n",
    "texts_2 = list()\n",
    "i = 0\n",
    "for item in sorted(os.listdir(), key = lambda x: int(x.split(sep = '.')[0])):\n",
    "    with open(item, 'r+', encoding='utf-8') as file:\n",
    "        texts_1.append(file.read())\n",
    "\n",
    "def_dict1 = defaultdict(str)\n",
    "for i in tqdm(range(len(texts_1))):\n",
    "    def_dict1[i] += texts_1[i]\n",
    "\n",
    "for text in tqdm(texts_1):\n",
    "    test_data.append(clean_data(text))"
   ]
  },
  {
   "cell_type": "code",
   "execution_count": 75,
   "metadata": {},
   "outputs": [],
   "source": [
    "with open(r'C:\\Users\\vdtri\\Documents\\ВКР\\Программа\\models\\SCDV\\sen_1', 'rb') as f:\n",
    "    sentences_1 = pickle.load(f)"
   ]
  },
  {
   "cell_type": "code",
   "execution_count": 14,
   "metadata": {},
   "outputs": [
    {
     "data": {
      "text/plain": [
       "550"
      ]
     },
     "execution_count": 14,
     "metadata": {},
     "output_type": "execute_result"
    }
   ],
   "source": [
    "test_data = sentences_1[-550:]\n",
    "len(test_data)"
   ]
  },
  {
   "cell_type": "markdown",
   "metadata": {},
   "source": [
    "# SCDV"
   ]
  },
  {
   "cell_type": "code",
   "execution_count": 24,
   "metadata": {},
   "outputs": [
    {
     "name": "stdout",
     "output_type": "stream",
     "text": [
      "0.7433333333333333\n"
     ]
    }
   ],
   "source": [
    "big_res = list()\n",
    "for s in range(3):\n",
    "    test_vectores = scdv.get_vectors(test_data[110*s:110*(s+1)])\n",
    "\n",
    "    results = list()\n",
    "    for i in [i*11 for i in range(10)]:\n",
    "        results.append(dist_top10(test_vectores[i], test_vectores))\n",
    "\n",
    "    leest = list()\n",
    "    for i in range(10):\n",
    "        leest.append(prec(list(map(lambda x: x[0], results[i])), 10, i*11))\n",
    "    big_res.append(sum(leest)/len(leest))\n",
    "#    print(sum(leest)/len(leest))\n",
    "print(sum(big_res)/ len(big_res))"
   ]
  },
  {
   "cell_type": "code",
   "execution_count": 22,
   "metadata": {},
   "outputs": [
    {
     "data": {
      "text/plain": [
       "1.0"
      ]
     },
     "execution_count": 22,
     "metadata": {},
     "output_type": "execute_result"
    }
   ],
   "source": [
    "sum(test_vectores[0])"
   ]
  },
  {
   "cell_type": "markdown",
   "metadata": {},
   "source": [
    "# ARTM"
   ]
  },
  {
   "cell_type": "code",
   "execution_count": 43,
   "metadata": {},
   "outputs": [
    {
     "name": "stderr",
     "output_type": "stream",
     "text": [
      "100%|████████████████████████████████████████████████████████████████████████████████| 550/550 [07:59<00:00,  1.15it/s]\n"
     ]
    }
   ],
   "source": [
    "theta_list_test = list()\n",
    "for i in tqdm(test_data):\n",
    "    theta_list_test.append(get_theta(model_artm, doc2vow(i)))"
   ]
  },
  {
   "cell_type": "code",
   "execution_count": 44,
   "metadata": {},
   "outputs": [
    {
     "name": "stdout",
     "output_type": "stream",
     "text": [
      "0.79\n"
     ]
    }
   ],
   "source": [
    "big_res = list()\n",
    "for s in range(3):\n",
    "    test_vectores = list()\n",
    "    elem = theta_list_test[110*s:110*(s+1)]\n",
    "\n",
    "    results = list()\n",
    "    for i in [i*11 for i in range(10)]:\n",
    "        results.append(dist_top10(elem[i], elem))\n",
    "\n",
    "    leest = list()\n",
    "    for i in range(10):\n",
    "        leest.append(prec(list(map(lambda x: x[0], results[i])), 10, i*11))\n",
    "    big_res.append(sum(leest)/len(leest))\n",
    "print(sum(big_res)/ len(big_res))"
   ]
  },
  {
   "cell_type": "markdown",
   "metadata": {},
   "source": [
    "without noise"
   ]
  },
  {
   "cell_type": "code",
   "execution_count": 45,
   "metadata": {},
   "outputs": [
    {
     "name": "stderr",
     "output_type": "stream",
     "text": [
      "100%|████████████████████████████████████████████████████████████████████████████████| 550/550 [07:52<00:00,  1.16it/s]\n"
     ]
    }
   ],
   "source": [
    "theta_list_test = list()\n",
    "for i in tqdm(test_data):\n",
    "    theta_list_test.append(get_theta(model_artm_noise, doc2vow(i)))"
   ]
  },
  {
   "cell_type": "code",
   "execution_count": 46,
   "metadata": {},
   "outputs": [
    {
     "name": "stdout",
     "output_type": "stream",
     "text": [
      "0.7659999999999999\n"
     ]
    }
   ],
   "source": [
    "big_res = list()\n",
    "for s in range(5):\n",
    "    test_vectores = list()\n",
    "    elem = theta_list_test[110*s:110*(s+1)]\n",
    "\n",
    "    results = list()\n",
    "    for i in [i*11 for i in range(10)]:\n",
    "        results.append(dist_top10(elem[i], elem))\n",
    "\n",
    "    leest = list()\n",
    "    for i in range(10):\n",
    "        leest.append(prec(list(map(lambda x: x[0], results[i])), 10, i*11))\n",
    "    big_res.append(sum(leest)/len(leest))\n",
    "print(sum(big_res)/ len(big_res))"
   ]
  },
  {
   "cell_type": "markdown",
   "metadata": {},
   "source": [
    "# Top2vec"
   ]
  },
  {
   "cell_type": "code",
   "execution_count": 45,
   "metadata": {},
   "outputs": [],
   "source": [
    "test_vecs = list()\n",
    "model.add_documents(test_data)\n",
    "test_vecs = model._get_document_vectors()[-550:]"
   ]
  },
  {
   "cell_type": "code",
   "execution_count": 50,
   "metadata": {},
   "outputs": [
    {
     "name": "stderr",
     "output_type": "stream",
     "text": [
      "15it [00:00, 136.61it/s]"
     ]
    },
    {
     "name": "stdout",
     "output_type": "stream",
     "text": [
      "300\n"
     ]
    },
    {
     "name": "stderr",
     "output_type": "stream",
     "text": [
      "550it [00:01, 349.81it/s]\n"
     ]
    }
   ],
   "source": [
    "topic_vectors = model.topic_vectors\n",
    "doc_vectors = model._get_document_vectors()[-550:]\n",
    "print(len(topic_vectors[0]))\n",
    "new_test_vecs = list()\n",
    "for ind, item in tqdm(enumerate(doc_vectors)):\n",
    "    new_test_vecs.append(topic_probs(doc_vectors[ind], topic_vectors, 2))"
   ]
  },
  {
   "cell_type": "code",
   "execution_count": 51,
   "metadata": {},
   "outputs": [
    {
     "name": "stdout",
     "output_type": "stream",
     "text": [
      "0.79\n"
     ]
    }
   ],
   "source": [
    "big_res = list()\n",
    "for s in range(3):\n",
    "    test_vectores = list()\n",
    "    elem = new_test_vecs[110*s:110*(s+1)]\n",
    "\n",
    "    results = list()\n",
    "    for i in [i*11 for i in range(10)]:\n",
    "        results.append(dist_top10(elem[i], elem))\n",
    "\n",
    "    leest = list()\n",
    "    for i in range(10):\n",
    "        leest.append(prec(list(map(lambda x: x[0], results[i])), 10, i*11))\n",
    "    big_res.append(sum(leest)/len(leest))\n",
    "print(sum(big_res)/ len(big_res))"
   ]
  },
  {
   "cell_type": "markdown",
   "metadata": {},
   "source": [
    "Without noise"
   ]
  },
  {
   "cell_type": "code",
   "execution_count": 22,
   "metadata": {},
   "outputs": [],
   "source": [
    "test_vecs = list()\n",
    "model_noise.add_documents(test_data)\n",
    "test_vecs = model_noise._get_document_vectors()[-550:]"
   ]
  },
  {
   "cell_type": "code",
   "execution_count": 23,
   "metadata": {},
   "outputs": [
    {
     "name": "stderr",
     "output_type": "stream",
     "text": [
      "26it [00:00, 250.17it/s]"
     ]
    },
    {
     "name": "stdout",
     "output_type": "stream",
     "text": [
      "300\n"
     ]
    },
    {
     "name": "stderr",
     "output_type": "stream",
     "text": [
      "550it [00:01, 317.76it/s]\n"
     ]
    }
   ],
   "source": [
    "topic_vectors = model_noise.topic_vectors\n",
    "doc_vectors = model_noise._get_document_vectors()[-550:]\n",
    "print(len(topic_vectors[0]))\n",
    "new_test_vecs = list()\n",
    "for ind, item in tqdm(enumerate(doc_vectors)):\n",
    "    new_test_vecs.append(topic_probs(doc_vectors[ind], topic_vectors, 2))"
   ]
  },
  {
   "cell_type": "code",
   "execution_count": 24,
   "metadata": {},
   "outputs": [
    {
     "name": "stdout",
     "output_type": "stream",
     "text": [
      "0.7833333333333332\n"
     ]
    }
   ],
   "source": [
    "big_res = list()\n",
    "for s in range(3):\n",
    "    test_vectores = list()\n",
    "    elem = new_test_vecs[110*s:110*(s+1)]\n",
    "\n",
    "    results = list()\n",
    "    for i in [i*11 for i in range(10)]:\n",
    "        results.append(dist_top10(elem[i], elem))\n",
    "\n",
    "    leest = list()\n",
    "    for i in range(10):\n",
    "        leest.append(prec(list(map(lambda x: x[0], results[i])), 10, i*11))\n",
    "    big_res.append(sum(leest)/len(leest))\n",
    "print(sum(big_res)/ len(big_res))"
   ]
  },
  {
   "cell_type": "markdown",
   "metadata": {},
   "source": [
    "# SCDV with ARTM"
   ]
  },
  {
   "cell_type": "code",
   "execution_count": 78,
   "metadata": {},
   "outputs": [
    {
     "name": "stdout",
     "output_type": "stream",
     "text": [
      "0.8333333333333334\n"
     ]
    }
   ],
   "source": [
    "big_res = list()\n",
    "for s in range(3):\n",
    "    test_vectores = list()\n",
    "    length = len(soft_clustersKD_ARTM_new['регрессия'])\n",
    "    for elem in test_data[110*s:110*(s+1)]:\n",
    "        sum_ = np.array([0]*length)\n",
    "        counter = 0\n",
    "        for word in elem.split():\n",
    "            try:\n",
    "                sum_ = sum_ + np.array(soft_clustersKD_ARTM_new[word])\n",
    "                counter = counter + 1\n",
    "            except:\n",
    "                pass\n",
    "        test_vectores.append(sum_/counter)\n",
    "        \n",
    "    for ind, elem in enumerate(test_vectores):\n",
    "        test_vectores[ind] = elem/sum(elem)\n",
    "    results = list()\n",
    "    for i in [i*11 for i in range(10)]:\n",
    "        results.append(dist_top10(test_vectores[i], test_vectores))\n",
    "    leest = list()\n",
    "    for i in range(10):\n",
    "        leest.append(prec(list(map(lambda x: x[0], results[i])), 10, i*11))\n",
    "    big_res.append(sum(leest)/len(leest))\n",
    "print(sum(big_res)/ len(big_res))"
   ]
  },
  {
   "cell_type": "code",
   "execution_count": 122,
   "metadata": {},
   "outputs": [
    {
     "data": {
      "text/plain": [
       "1350"
      ]
     },
     "execution_count": 122,
     "metadata": {},
     "output_type": "execute_result"
    }
   ],
   "source": [
    "len(soft_clustersKD_ARTM['регрессия'])"
   ]
  },
  {
   "cell_type": "code",
   "execution_count": 21,
   "metadata": {},
   "outputs": [],
   "source": [
    "data = list()\n",
    "for text in sentences_1:\n",
    "    if len(text.split())<5000:\n",
    "        data.append(len(text.split()))"
   ]
  },
  {
   "cell_type": "code",
   "execution_count": null,
   "metadata": {},
   "outputs": [],
   "source": []
  },
  {
   "cell_type": "code",
   "execution_count": 26,
   "metadata": {},
   "outputs": [
    {
     "data": {
      "image/png": "[encoded data removed]",
      "text/plain": [
       "<Figure size 720x720 with 1 Axes>"
      ]
     },
     "metadata": {
      "needs_background": "light"
     },
     "output_type": "display_data"
    }
   ],
   "source": [
    "import matplotlib.pyplot as plt\n",
    "import numpy as np\n",
    "%matplotlib inline\n",
    "\n",
    "plt.figure(figsize=(10, 10))\n",
    "plt.xticks(np.arange(0, 10000, 500))\n",
    "\n",
    "plt.hist(data, bins=50)  # density=False would make counts\n",
    "plt.ylabel('Кол-во документов')\n",
    "plt.xlabel('Длина документа');"
   ]
  },
  {
   "cell_type": "code",
   "execution_count": 79,
   "metadata": {},
   "outputs": [
    {
     "data": {
      "text/plain": [
       "<BarContainer object of 4 artists>"
      ]
     },
     "execution_count": 79,
     "metadata": {},
     "output_type": "execute_result"
    },
    {
     "data": {
      "image/png": "[encoded data removed]",
      "text/plain": [
       "<Figure size 432x432 with 1 Axes>"
      ]
     },
     "metadata": {
      "needs_background": "light"
     },
     "output_type": "display_data"
    }
   ],
   "source": [
    "groups = [\"ARTM\", \"Top2vec\", \"SCDV\", \"SCDV + ARTM\"]\n",
    "counts = [0.79, 0.79, 0.745, 0.83]\n",
    "plt.figure(figsize=(6, 6))\n",
    "plt.bar(groups, counts)"
   ]
  },
  {
   "cell_type": "code",
   "execution_count": 133,
   "metadata": {},
   "outputs": [
    {
     "data": {
      "text/plain": [
       "<BarContainer object of 3 artists>"
      ]
     },
     "execution_count": 133,
     "metadata": {},
     "output_type": "execute_result"
    },
    {
     "data": {
      "image/png": "[encoded data removed]",
      "text/plain": [
       "<Figure size 432x432 with 1 Axes>"
      ]
     },
     "metadata": {
      "needs_background": "light"
     },
     "output_type": "display_data"
    }
   ],
   "source": [
    "groups = [\"math + cs\", \"гум.\", \"др.\"]\n",
    "counts = [0.92, 0.67, 0.86]\n",
    "plt.figure(figsize=(6, 6))\n",
    "plt.yticks(np.arange(0, 0.9, 0.1))\n",
    "plt.bar(groups, counts)"
   ]
  },
  {
   "cell_type": "code",
   "execution_count": 107,
   "metadata": {},
   "outputs": [
    {
     "data": {
      "text/plain": [
       "<matplotlib.legend.Legend at 0x275a8f2ec70>"
      ]
     },
     "execution_count": 107,
     "metadata": {},
     "output_type": "execute_result"
    },
    {
     "data": {
      "image/png": "[encoded data removed]",
      "text/plain": [
       "<Figure size 432x288 with 1 Axes>"
      ]
     },
     "metadata": {
      "needs_background": "light"
     },
     "output_type": "display_data"
    }
   ],
   "source": [
    "cat_par = [\"ARTM\", \"Top2vec\", \"SCDV\"]\n",
    "g1 = [0.79, 0.79, 0.745]\n",
    "g2 = [0.765, 0.783, 0.725]\n",
    "width = 0.3\n",
    "x = np.arange(len(cat_par))\n",
    "\n",
    "fig, ax = plt.subplots()\n",
    "ax.set_yticks(np.arange(0, 1, 0.1))\n",
    "rects1 = ax.bar(x - width/2, g1, width, label='С шумом')\n",
    "rects2 = ax.bar(x + width/2, g2, width, label='Без шума')\n",
    "ax.set_xticks(x)\n",
    "ax.set_xticklabels(cat_par)\n",
    "ax.legend()"
   ]
  },
  {
   "cell_type": "code",
   "execution_count": 131,
   "metadata": {},
   "outputs": [],
   "source": [
    "test_vectores = list()\n",
    "length = len(soft_clustersKD_ARTM_new['регрессия'])\n",
    "for elem in test_data[110*2:110*(2+1)]:\n",
    "    sum_ = np.array([0]*length)\n",
    "    counter = 0\n",
    "    for word in elem.split():\n",
    "        try:\n",
    "            sum_ = sum_ + np.array(soft_clustersKD_ARTM_new[word])\n",
    "            counter = counter + 1\n",
    "        except:\n",
    "            pass\n",
    "    test_vectores.append(sum_/counter)\n",
    "\n",
    "for ind, elem in enumerate(test_vectores):\n",
    "    test_vectores[ind] = elem/sum(elem)\n",
    "results = list()\n",
    "for i in [i*11 for i in range(10)]:\n",
    "    results.append(dist_top10(test_vectores[i], test_vectores))\n",
    "    \n",
    "leest = list()\n",
    "for i in range(10):\n",
    "    leest.append(prec(list(map(lambda x: x[0], results[i])), 10, i*11))"
   ]
  },
  {
   "cell_type": "code",
   "execution_count": 130,
   "metadata": {},
   "outputs": [
    {
     "data": {
      "text/plain": [
       "[1.0, 1.0, 0.9, 1.0, 0.9, 0.8, 1.0, 1.0, 1.0, 0.9]"
      ]
     },
     "execution_count": 130,
     "metadata": {},
     "output_type": "execute_result"
    }
   ],
   "source": [
    "leest"
   ]
  },
  {
   "cell_type": "code",
   "execution_count": 124,
   "metadata": {},
   "outputs": [
    {
     "data": {
      "text/plain": [
       "[(3, 0.10953356570675676),\n",
       " (5, 0.11873308595437826),\n",
       " (7, 0.15077819595760367),\n",
       " (2, 0.2852403098688534),\n",
       " (6, 0.37847128632793225),\n",
       " (4, 0.6020588696697629),\n",
       " (9, 0.6144910263595542),\n",
       " (8, 0.6615262847841696),\n",
       " (1, 0.6913443467696925),\n",
       " (50, 0.7089510997777836)]"
      ]
     },
     "execution_count": 124,
     "metadata": {},
     "output_type": "execute_result"
    }
   ],
   "source": [
    "results[0]"
   ]
  },
  {
   "cell_type": "code",
   "execution_count": 112,
   "metadata": {
    "scrolled": true
   },
   "outputs": [
    {
     "name": "stdout",
     "output_type": "stream",
     "text": [
      "Рито́рика ( др.-греч. ἡ ῥητορικὴ τέχνη «ораторское искусство» ← ῥήτωρ « оратор ») — филологическая дисциплина, изучающая искусство речи , правила построения художественной речи, ораторское искусство, мировоззрение и красноречие [1] [2] . Первоначальное значение слова риторика — наука об ораторском искусстве — впоследствии расширилось до теории прозы, аргументации . Европейская риторика началась в Древней Греции, в школах софистов , практиковавших обучение красноречию и собиравших стилистические и грамматические правила. Риторика развивалась под влиянием Аристотеля [3] , Цицерона и Квинтилиана . Расцвет христианского красноречия относится к IV−V векам. Западное красноречие было особенно сильным в Италии ( Бембо и Кастильоне ; XVI век), где, благодаря противостоянию латинского (научного) и итальянского (народного) языков получило развитие учение о трёх стилях . В России до Петра I существовало исключительно духовное красноречие [4] , которое преподавали в юго-западных духовных школах с XVII века на латыни и которое изучается гомилетикой . Первые русские научные труды по риторике были изданы М. Ломоносовым («Риторика», 1748; «Рассуждение о пользе книг церковных», 1757). [5] [6] В XX веке слово «риторика» стало пониматься в двух значениях [7] : По словам Диогена Лаэртского , Аристотель приписывал изобретение риторики пифагорейцу Эмпедоклу , сочинение которого неизвестно нам даже по названию. Из текстов самого Аристотеля и из других источников известно, что первый трактат по риторике принадлежал ученику Эмпедокла Кораксу , любимцу сиракузского тирана Гиерона I , политическому оратору и адвокату (судебному оратору). Он сформулировал не лишённое интереса определение красноречия: «красноречие есть работница убеждения ( др.-греч. πειθοῦς δημιουργός )». Он первый делает попытку установить чёткое деление ораторской речи на части: вступление ( προοίμιον ), предложение ( κατάστασις ), изложение ( διήγησις ), доказательство или борьба, падение и заключение. Он же высказал положение, что главная цель оратора — не раскрытие истины, но чёткость и убедительность при помощи вероятного ( εἰκός ), для чего чрезвычайно полезны всякие софизмы . Труд Коракса до нас не дошёл, но древние писатели сообщают нам примеры его софизмов, из которых особенной славой пользовался так называемый крокодилит . Ученик Коракса, Тисий , развивал ту же систему софистических доказательств и главным средством преподавания риторики считал заучивание образцовых речей судебных ораторов . Традиционно учеником Эмпедокла считается и Горгий , который, по словам Платона , «открыл, что вероятное важнее истинного, и умел в своих речах малое представить великим, а великое малым, выдать старое за новое и новое признать старым, об одном и том же предмете высказывать противоречивые мнения» [8] . Метод преподавания у Горгия тоже состоял в изучении образцов; каждый его ученик должен был знать отрывки из произведений лучших ораторов, чтобы уметь дать ответ на чаще всего выставляемые возражения. Горгию принадлежал любопытный трактат «О приличном случаю» ( др.-греч. περὶ τοῦ καιροῦ ), где говорилось о зависимости речи от предмета, от субъективных свойств оратора и аудитории , и давалось наставление, как при помощи насмешки уничтожать серьёзные доводы и, наоборот, на насмешку отвечать с достоинством. Красивое говорение (красивую речь, др.-греч. εὐέπεια ) Горгий противопоставлял утверждению истины (правильной речи, ὀρθοέπεια ). Он приложил много сил к созданию правил относительно фигур : метафор , аллитерации , параллелизма частей фразы. Из школы Горгия вышли многие знаменитые риторы: Ликимний Хиосский [de] , Фрасимах , Эвен Паросский , Феодор Византийский [en] . К тому же стилистическому направлению риторики принадлежали софисты Протагор и Продик , а также знаменитый оратор Исократ , разработавший учение о периоде. Направление этой школы можно назвать практическим, хотя оно и подготовило богатый психологический материал для выработки общих теоретических положений об ораторском искусстве и этим облегчило задачу Аристотелю, который даёт в своей знаменитой «Риторике» научное обоснование прежним догматическим правилам, пользуясь чисто эмпирическими приёмами. Аристотель в своей «Риторике» значительно расширил область риторики, сравнительно с точкой зрения, распространенной на неё в то время. Так как дар речи, по его мнению, имеет характер всеобщности и находит применение при самых разнообразных случаях и так как действие при подаче совета, при всякого рода разъяснениях и убеждениях, приводимых для одного лица или для целых собраний (с которыми имеет дело оратор), по существу одинаково, то риторика так же мало, как и диалектика , имеет дело с какой-нибудь одной определённой областью: она обнимает все сферы человеческой жизни. Риторикой, понимаемой в таком смысле, пользуются все на каждом шагу: она одинаково необходима как в делах, касающихся житейских нужд отдельного человека, так и в делах государственной важности: раз человек начинает склонять к чему-нибудь другого человека или отговаривать его от чего-нибудь, он необходимо прибегает к помощи риторики, сознательно или бессознательно. Понимая риторику таким образом, Аристотель определяет её как способность находить возможные способы убеждения относительно каждого данного предмета [9] . Из определения риторики становится ясна цель, которую преследовал Аристотель в своём трактате: он хотел, на основании наблюдения, дать общие формы ораторского искусства , указать, чем должен руководиться оратор или вообще всякий, желающий убедить кого-либо в чём-либо. Сообразуясь с этим, он разделил свой трактат на три части. Первая часть посвящена анализу тех принципов, на основании которых оратор (то есть всякий говорящий о чём-нибудь) может побуждать к чему-нибудь своих слушателей или отклонять их от чего-нибудь, может хвалить или порицать что-нибудь. Вторая часть говорит о тех личных свойствах и особенностях оратора, с помощью которых он может внушить доверие своим слушателям и таким образом вернее достигнуть своей цели, то есть уговорить или отговорить их. Третья часть касается специальной (технической) стороны риторики: Аристотель говорит здесь о тех способах выражения, которыми должно пользоваться в речи (о стиле ), и о построении ораторской речи . Множество тонких психологических замечаний по вопросу о взаимодействии оратора и аудитории (например, о значении юмора , пафоса , о влиянии на молодых людей и на стариков) и анализ силы используемых в речи доказательств придают работе Аристотеля универсальное значение. Труд Аристотеля оказался менее востребован, чем практические руководства ( др.-греч. τέχναι , их авторов называли «технографами») для ораторов. Первое такое руководство принадлежит Анаксимену Лампсакскому (около 340 г. до н. э.). После македонского завоевания исчезло политическое красноречие демосфеновского типа, пришло в упадок судебное красноречие, зато риторика процветала в школах, где обычным упражнением стало сочинение речей для вымышленных судебных дел. В Древний Рим риторика проникла в I веке до н. э. . Древнейшей латинской риторикой считается анонимная « Риторика для Геренния » (80-е гг. до н. э.). Труды о риторике Цицерона — одна из самых значимых частей его наследия (7 трактактов, датированных между 85 и 44 гг. до н. э.). Трактат Дионисия Галикарнасского (жившего в Риме) «О соединении слов» (2-я половина I в. до н. э.) интересен рассмотрением риторики литературной в связи с риторикой музыкальной (в частности, автор проводит чёткое разграничение между ораторской речью и вокальной музыкой). Все эти труды основаны на греческих (эллинистических) образцах. Наиболее полное выражение римская риторика получила в масштабной работе Квинтилиана «Наставления оратору» в 12 книгах (около 95 года н. э.), автор которой видит в ораторе идеал человека. Красноречие для Квинтилиана стоит выше, чем астрономия, математика и другие науки. Эллинистическая риторика (в Риме сложилась ко времени Цицерона) делилась на 5 частей: В состав учения о словесном выражении входило и учение о трёх стилях : в зависимости от использования стилистических средств — о простом ( низком ), среднем и высоком стиле речи. Эта теория сохраняла своё значение в Средние века и в эпоху Возрождения. После исчезновения демократии античная риторика ориентировалась главным образом на два типа речей: на судебные и парадные речи. Соответственно двум этим целям (утилитарной и эстетической) формируются два направления в теории стиля: аттицизм ( аттикизм , аттическое направление), заботившийся преимущественно о точности выражения, и азианизм (азианство, азиатское направление), ставивший целью занимательность изложения и выработавший особый высокий стиль, основанный на контрастах , изобилующий сравнениями и метафорами . В римской риторике продолжался спор об азианизме и аттицизме. Первым последователем азианизма был Гортензий , а впоследствии к нему примкнул Цицерон, высказывающийся, впрочем, в некоторых сочинениях и в пользу аттицизма. Наиболее изящным представителем аттицизма в римской литературе можно считать Юлия Цезаря . Разработка материала в римской риторике подчинялась особой конечной цели, убеждению, в котором различались три аспекта — docere («учить», «сообщать»), movere («побуждать», «возбуждать страсти»), delectare («развлекать», «доставлять наслаждение»). Каждый из них был неразрывно связан с остальными, но, смотря по обстоятельствам, мог занимать господствующее положение. Было унаследовано и учение о разработке пяти этапов речи. С падением республики красноречие как таковое приходит в упадок (описанный Тацитом в «Диалоге об ораторах»), зато риторические приёмы проникают в поэзию. Пионером здесь выступил Овидий , добавляющий с помощью антитез остроумия своим стихам. Напротив, Сенека и Лукан стремятся достичь трагического эффекта нагнетанием пафоса. В эпоху борьбы христианства с античным язычеством была создана наука о христианском ораторском искусстве, достигшем блистательного развития в IV и V веках н. э. . Выдающийся представитель этого ораторского искусства — Иоанн Златоуст . В теоретическом смысле средневековая риторика почти ничего не прибавляет к античным разработкам, держится правил Аристотеля и поздних теоретиков (на Западе — Цицерона ) и лишь перерабатывает их в расчёте преимущественно на сочинение писем и проповедей . Повсеместно происходит ужесточение требований к соблюдению этих правил. Уже к IV веку сфера действия риторических норм совпала с самим понятием литературы : в латинской литературе средних веков риторика заменяет поэтику , прочно забытую средневековой традицией. Теоретики задавались вопросом: ограничен ли материал, о котором может идти речь в литературном тексте? На сей счет высказывались самые разные мнения. В целом победила максималистская тенденция: в компетенцию риторики по крайней мере до XIII века входил любой материал. Следуя этому искусству, автор, прежде чем создавать произведение, должен был составить себе ясное и рациональное представление ( intellectio ) о предполагаемом материале. В средневековой риторике сохранялось учение об убеждении как об основной задаче и о трёх задачах («учить, побуждать, развлекать» лат. docere, movere, delectare ). Создание произведения, в свою очередь, подразделялось на три части или ступени (три главных элемента из пяти в античном списке). Перенимая идеи античных наставников, создатели риторик XI—XIII веков сосредоточивают основное внимание на амплификации и на учении об украшенном слоге, в котором они видят самую суть письменного слова: их деятельность сводится главным образом к перечислению и упорядочению тех способов выражения, какие в своем первозданном виде уже существуют в обыденном языке; они описывают их в функциональных понятиях, как код типов слога с высокой степенью вероятности. В 1920—1950 гг. многие медиевисты, в том числе и Э. Р. Курциус , полагали, что риторическая модель применима ко всем областям словесности, и делали из этой гипотезы далеко идущие выводы. В Византии приёмы риторики ближе всего подходят к азианизму , и в таком виде эта наука передаётся и Древней Руси , где художественные образцы её влияния мы можем видеть в произведениях митрополита Иллариона и Кирилла Туровского . В эпоху Возрождения и классицизма риторика перерабатывалась в теорию, применимую ко всякой художественной прозе . Литературные герои — яркие представители ораторского искусства. Из реальных персонажей эпохи Возрождения ораторов мало, настоящую яркую речь можно было услышать только в театре. Риторика, как вид искусства, в средние века не развивалась. Жёстко-нормативный характер утверждается за европейской риторикой особенно в Италии , где, благодаря встрече латинского языка учёных и народного итальянского языка , лучше всего находит себе применение теория трёх стилей. В истории итальянской риторики занимают видное место Бембо и Кастильоне , как стилисты . Законодательное направление особенно ярко выражается в деятельности академии делла Круска , задача которой состоит в сохранении чистоты языка. В произведениях, например, Спероне Сперони заметно подражание приёмам Горгия в антитезах , ритмическом строении речи, подборе созвучий, а у флорентийца Даванцати замечается возрождение аттицизма . Только в эпоху Возрождения заново становится известен Квинтилиан , чьё творчество было утрачено в Средние века. Из Италии это направление передаётся Франции и другим европейским странам. Создаётся новый классицизм в риторике, находящий самое лучшее выражение в «Рассуждении о красноречии» Фенелона . Всякая речь , по теории Фенелона, должна или доказывать (обыкновенный стиль), или живописать (средний), или увлекать (высокий). Согласно с Цицероном , ораторское слово должно приближаться к поэтическому; не нужно, однако, нагромождать искусственные украшения. Надо во всём стараться подражать древним; главное — ясность и соответствие речи чувству и мысли. Интересные данные для характеристики французской риторики можно найти и в истории Французской академии и других учреждений, охранявших традиционные правила. Аналогично и развитие риторики в Англии и Германии в течение всего XVIII века . В таком виде риторика оставалась частью гуманитарного образования во всех европейских странах вплоть до XIX века . Развитие политического и других видов красноречия и романтической литературы приводит к упразднению условных правил ораторского искусства. Традиционно наиболее значимая часть — учение о словесном выражении — растворилась в стилистике как части теории литературы , а остальные разделы потеряли практическое значение. Именно тогда слово «риторика» приобрело одиозный оттенок напыщенного пустословия. Слово риторика применялось для вновь создаваемых дисциплин — теории прозы (преимущественно художественной прозы — XIX век, немецкая филология), стилистики (XX век, французская филология), теории аргументации (XX век, бельгийский философ Х. Перельман ) В России, в допетровский период развития литературы, риторика могла иметь применение лишь в области духовного красноречия, и число её памятников совершенно ничтожно: мы имеем некоторые стилистические замечания в Изборнике Святослава (1073 и 1076), трактат XVI века « Речь тонкословия греческого » [10] и «Науку о сложении проповедей» Иоанникия Галятовского. Систематическое преподавание риторики начинается в юго-западных духовных школах с XVII века , причём учебники — всегда латинские, так что оригинальной обработки в них искать не приходится. Первым серьёзным русским трудом является Краткое руководство к красноречию Ломоносова («Риторика» Ломоносова, 1748 ), составленная на основании классических авторов и западноевропейских руководств и дающая в подтверждение общих положений ряд примеров на русском языке — примеров, извлеченных частью из сочинений новых европейских писателей. Ломоносов же, в своём « Рассуждении о пользе книг церковных », применяет к русскому языку западную теорию трёх стилей. Ввиду того, что область красноречия в России ограничивалась почти исключительно церковной проповедью, риторика здесь почти всегда совпадала с гомилетикой . По светской риторике в России было создано очень мало работ, да и те не отличались самостоятельностью, как, например, руководства Н. Ф. Кошанского . Научная разработка риторики в том смысле, как она понимается на Западе, в России не начиналась по крайней мере до XX века . Концепция школьной риторики как учебного предмета реализована в учебных пособиях для 1-11 классов Т. А. Ладыженской [11] . Основная цель школьной риторики — обучение успешному общению . В содержание школьной риторики включаются: Также основы риторики изучают в вузах, в основном на философских, педагогических и других гуманитарных факультетах. Для тех же, кто нуждается в освоении техники публичных выступлений в более старшем возрасте, рынок образовательных услуг России и Украины предлагает большое количество тренинговых программ и курсов по риторике. Обучающие курсы по изучению приемов риторики могут быть государственными: Московский педагогический государственный университет (Москва); государственный университет им. Н. И. Лобачевского (Нижний Новгород); институт подготовки кадров-курсы публичных выступлений (Киев), а также коммерческими (университет риторики и ораторского мастерства, школа красноречия, школа жесткой риторики и т. д. Посещая подобного рода курсы и тренинги по риторике, возможно освоить основные правила и техники публичных выступлений, избавиться от страха перед аудиторией, качественно улучшить дикцию и произношение, отработать основные способы защиты от диверсий и приемов «черной» риторики. Также, на курсах и тренингах обучают аргументировать, убеждать и отстаивать свою позицию, контролировать своё невербальное сообщение, держать смысловые паузы, зажигать и вдохновлять слушателей и т. д. Для известного в Античности ритора Горгия и его учеников главным было выиграть дело любым способом. Поэтому Платон устами Сократа , для которого было важным не грешить против справедливости и добра, противопоставляет риторике этику , ставя этику превыше риторики. В диалоге Платона « Горгий » Сократ остерегается, что он может пострадать от риторов — обвинителей на суде, если обвинителями Сократа окажутся люди непорядочные, «негодяи» [12] [13] . Оценить действия ритора с позиций нравственности и морали позволяет понятие о риторической этике — поведении ритора, основанное на правовых, нравственных, моральных и технических нормах речи [ уточнить ( обс. ) ] [14] . \n",
      "\n"
     ]
    }
   ],
   "source": [
    "print(texts_1[11*9])"
   ]
  },
  {
   "cell_type": "code",
   "execution_count": 114,
   "metadata": {
    "scrolled": false
   },
   "outputs": [
    {
     "name": "stdout",
     "output_type": "stream",
     "text": [
      "' Литература ( лат. lit(t)eratura , — написанное , от lit(t)era — буква) — в широком смысле слова совокупность любых письменных текстов . Чаще всего под литературой понимают художественную литературу , то есть литературу как вид искусства . Однако это понимание, сложившееся в эпоху романтизма , не следует прямо применять к культуре отдалённых от сегодняшнего дня эпох. Древние научные трактаты и религиозно - мифологические сочинения — такие, например, как « Теогония » Гесиода или « О природе вещей » Лукреция — с точки зрения современников не противопоставлялись, например, эпическим поэмам (« Илиаде » Гомера или « Энеиде » Вергилия ) как нехудожественная литература художественной. В России ещё в 1820-е годы критики сходились во мнении, что лучшие образцы русской прозы — « История Государства Российского » Карамзина и « Опыт теории налогов » Николая Тургенева [1] . Отделяя художественную литературу других периодов от литературы религиозной, философской, научной, публицистической, мы проецируем наши современные представления в прошлое. Тем не менее у литературы есть ряд универсальных свойств, неизменных во всех национальных культурах и на всем протяжении человеческой истории, хотя каждое из таких свойств связано с определёнными проблемами и оговорками. Всем трём названным критериям не вполне удовлетворяют некоторые древние тексты, традиционно понимаемые как литературные, — например, « Илиада » и « Одиссея »: вполне вероятно [2] , что Гомер как единый автор этих двух поэм никогда не существовал, а тексты этих двух поэм сложились из древнегреческого фольклора, исполнявшегося сказителями в виде песен. Однако письменная фиксация этих текстов в их окончательном варианте состоялась настолько давно, что такой традиционный подход можно считать оправданным. Следует добавить ещё один критерий, относящийся уже не к структуре литературных текстов, а к их функции. Виды литературы могут выделяться как по содержанию текстов, так и по их предназначению, и полностью соблюсти принцип единства основания при классификации литературы затруднительно. К тому же такая классификация способна вводить в заблуждение, объединяя непохожие и абсолютно различные явления. Зачастую типологически различные тексты одной и той же эпохи гораздо ближе друг к другу, чем типологически одинаковые тексты разных эпох и культур: у лежащих в основе европейской философской литературы «Диалогов» Платона куда больше общего с другими памятниками древнегреческой словесности (скажем, с драмами Эсхила ), чем с трудами таких философов Нового времени, как Гегель или Рассел . Судьба некоторых текстов складывается таким образом, что во время своего создания они тяготеют к одному виду литературы, а впоследствии движутся в сторону другого: так, например, « Приключения Робинзона Крузо », написанные Даниэлем Дефо , прочитываются сегодня скорее как произведение детской литературы , а между тем писались они даже не просто как произведение художественной литературы для взрослых, а как памфлет с существенной ролью публицистического начала. Поэтому общий список основных видов литературы может носить только приблизительно-ориентировочный характер, а конкретная структура литературного пространства может быть установлена только применительно к данной культуре и данному периоду времени. Для прикладных целей, однако, эти сложности не имеют принципиального значения, так что практическим нуждам книжной торговли и библиотек удовлетворяют довольно разветвлённые, хотя и поверхностные по подходу системы библиотечно-библиографической классификации . Художественная литература — вид искусства , использующий в качестве единственного материала слова и конструкции естественного (письменного человеческого) языка . Специфика художественной литературы выявляется в сопоставлении, с одной стороны, с видами искусства, использующими иной материал вместо словесно-языкового ( музыка , изобразительное искусство ) или наряду с ним ( театр , кино , песня ), с другой стороны — с иными типами словесного текста : философским , публицистическим , научным и др. Кроме того, художественная литература, как и другие виды искусства, объединяет авторские (включая и анонимные) произведения в отличие от принципиально не имеющих автора произведений фольклора . Документальная проза — вид литературы, для которого характерно построение сюжетной линии исключительно на реальных событиях, с редкими вкраплениями художественного вымысла. Документальная проза включает биографии чем-либо выдающихся людей, истории каких-либо событий, страноведческие описания, расследования громких преступлений. Мемуары — записки современников, повествующие о событиях, в которых автор мемуаров принимал участие или которые известны ему от очевидцев. Важная особенность мемуаров заключается в установке на «документальный» характер текста, претендующего на достоверность воссоздаваемого прошлого. Научная литература — совокупность письменных трудов, которые созданы в результате исследований, теоретических обобщений, сделанных в рамках научного метода. Научная литература предназначена для информирования учёных и специалистов о последних достижениях науки, а также для закрепления приоритета на научные открытия. Как правило, научная работа не считается завершённой, если она не была опубликована. Первые научные произведения создавались в различных жанрах: в виде трактатов, рассуждений, поучений, диалогов, путешествий, жизнеописаний и даже в стихотворных формах. В настоящее время формы научной литературы стандартизованы и состоят из монографий, обзоров, статей, докладов (в том числе их тезисов), авторефератов, рефератов и рецензий. В настоящее время во многих странах действует механизм аттестации научной литературы, поддерживаемый правительством или общественными научными организациями. В России, например, такую аттестацию проводит ВАК (Высшая аттестационная комиссия). В числе основных требований к изданию научной литературы — обязательное её рецензирование. В рамках этого процесса издательство или редакция научного журнала перед публикацией новой научной работы направляет её нескольким (обычно двум) рецензентам, считающимися специалистами в данной области. Процесс рецензирования призван исключить публикации в рамках научной литературы тех материалов, которые содержат грубые методологические ошибки или прямые фальсификации. С начала XX века наблюдается регулярное экспоненциальное увеличение объёма публикуемой научной литературы. В связи с этим, одним из самых главных носителей научной литературы в настоящее время являются периодические издания, главным образом, рецензируемые научные журналы. С конца XX века наблюдается тенденция по переходу этих журналов с бумажных носителей на электронные, в частности в Интернет. Научно-популярная литература — литературные произведения о науке, научных достижениях и об учёных, предназначенные для широкого круга читателей. Научно-популярная литература направлена как на специалистов из других областей знания, так и на малоподготовленных читателей, включая детей и подростков. В отличие от научной литературы, произведения научно-популярной литературы не рецензируются и не аттестуются. Научно-популярная литература включает произведения об основах и отдельных проблемах фундаментальных и прикладных наук, биографии деятелей науки, описание путешествий и т. д., написанные в различных жанрах. Лучшие популярные сочинения пропагандируют достижения передовой науки в форме, наиболее доступной читателям, которым они предназначены. В поэтической форме были написаны первое в Европе популярное произведение о науке — «О природе вещей» Лукреция Кара и «Письмо о пользе стекла» М. В. Ломоносова. Из бесед возникли «История свечи» М. Фарадея и «Жизнь растения» К. А. Тимирязева. Известны популярные сочинения, написанные в форме календаря природы, этюдов, очерков, «интеллектуальных» приключений и т. п. Литература вспомогательного содержания, используемая для получения наиболее общей, не вызывающей сомнений информации по тому или иному вопросу. Основные виды справочной литературы: В идеале справочные издания должны содержать только считающиеся объективно установленными факты и адекватно отражать существующий в данный момент уровень человеческих знаний. Однако на практике невозможно полностью отделить факты от интерпретаций и неявных, подразумеваемых допущений, поэтому та или иная доля тенденциозности в любом справочном издании присутствует. В некоторых случаях эта доля довольно велика и привносится в справочное издание целенаправленно: таковы, в частности, большинство справочных изданий советской эпохи, особенно в том, что касается гуманитарного знания, — даже короткие словарные статьи оказываются в них идеологически окрашены. Касается это и отбора материала: так, в литературных энциклопедиях, выпущенных в СССР, находилось место для сугубо второстепенных писателей социалистической и коммунистической ориентации, но отсутствовали весьма значительные авторы, известные своим негативным отношением к советскому строю. Даже спустя короткое время пользоваться такими изданиями как справочными становится невозможно: слишком много усилий приходится затрачивать на то, чтобы отделить факты от интерпретаций; однако именно эта идеологическая окраска делает справочные издания особенно интересными как историческое свидетельство, памятник своей эпохи. Учебная литература, делящаяся в основном на собственно учебники и сборники задач (упражнений), имеет немало общего со справочной: как и справочная литература, учебная имеет дело с той частью знаний по тому или иному вопросу, которая считается более или менее общепризнанной. Однако назначение учебной литературы иное: изложить эту часть знаний системно и последовательно с тем, чтобы адресат текста составил о ней достаточно полное и отчётливое представление и овладел рядом востребованных в этой части знаний навыков, будь то умение решать уравнения или правильно расставлять знаки препинания . Эта прагматическая задача определяет особенности строения учебных текстов: повторы, подхваты, проверочные вопросы и задания, и т. п. Техническая литература — это литература, относящаяся к области техники и производства (каталоги изделий, инструкции по эксплуатации, обслуживанию и ремонту, каталоги деталей, патенты и т. п.). Литература по психологии и саморазвитию — это литература, которая даёт советы по развитию способностей и навыков, достижению успеха в личной жизни и работе, выстраиванию отношений с окружающими, воспитанию детей и т.п. Также существуют и другие виды литературы: духовная, религиозная литература, рекламная литература, выделенная в отдельный вид (листовка, брошюра, рекламный проспект и т. д.), и другие виды, а также отраслевые массивы. Литературный текст остаётся самим собой независимо от того, каково его материальное воплощение: рукопись , книга , компьютерный файл на мониторе . Не следует, однако, думать, что эволюция носителей текста никак не влияет на саму литературу. Напротив, состояние литературы в обозримом прошлом полностью определяется цивилизационной революцией, совершённой изобретшим книгопечатание Гутенбергом : до этого воспроизведение любого сколько-нибудь длинного текста требовало значительных затрат времени и сил писца, и это накладывало существенные ограничения на количество и характер текстов, фиксируемых письменно и распространяющихся за пределы непосредственного круга общения автора . На исходе XX века новая цивилизационная революция вызвала к жизни два качественно новых носителя текста: это аудиокнига и компьютерный файл. Вполне возможно, что повсеместное распространение этих носителей в самом скором будущем приведёт к новым серьёзным изменениям в структуре литературного пространства. Список статей, названия которых начинаются с «Литература» \n",
      "\n"
     ]
    }
   ],
   "source": [
    "print(texts_1[75])"
   ]
  },
  {
   "cell_type": "code",
   "execution_count": null,
   "metadata": {},
   "outputs": [],
   "source": []
  }
 ],
 "metadata": {
  "kernelspec": {
   "display_name": "Python 3",
   "language": "python",
   "name": "python3"
  },
  "language_info": {
   "codemirror_mode": {
    "name": "ipython",
    "version": 3
   },
   "file_extension": ".py",
   "mimetype": "text/x-python",
   "name": "python",
   "nbconvert_exporter": "python",
   "pygments_lexer": "ipython3",
   "version": "3.8.5"
  }
 },
 "nbformat": 4,
 "nbformat_minor": 4
}
