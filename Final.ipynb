{
 "cells": [
  {
   "cell_type": "code",
   "execution_count": 19,
   "metadata": {},
   "outputs": [],
   "source": [
    "import pymorphy2\n",
    "import re\n",
    "import os\n",
    "import string\n",
    "import glob\n",
    "from tqdm import tqdm\n",
    "from sklearn.base import BaseEstimator\n",
    "from sklearn.metrics import f1_score\n",
    "from sklearn.model_selection import cross_val_score\n",
    "from nltk.corpus import stopwords\n",
    "morph = pymorphy2.MorphAnalyzer()"
   ]
  },
  {
   "cell_type": "code",
   "execution_count": 20,
   "metadata": {},
   "outputs": [],
   "source": [
    "import numpy as np\n",
    "import matplotlib.pyplot as plt\n",
    "from sklearn.neighbors import KNeighborsClassifier\n",
    "from sklearn.linear_model import SGDClassifier\n",
    "from sklearn.metrics import make_scorer\n",
    "import pandas as pd\n",
    "from sklearn.model_selection import train_test_split\n",
    "import sklearn.utils as utils\n",
    "from sklearn.metrics import accuracy_score, pairwise_distances\n",
    "from sklearn.tree import DecisionTreeClassifier"
   ]
  },
  {
   "cell_type": "code",
   "execution_count": 3,
   "metadata": {},
   "outputs": [],
   "source": [
    "os.chdir(r\"C:\\Users\\etrib\\Documents\\Diploma\\Diploma\\factRuEval-2016-practice-master\\train_test\")\n",
    "data_list = os.listdir(r\"C:\\Users\\etrib\\Documents\\Diploma\\Diploma\\factRuEval-2016-practice-master\\train_test\") \n",
    "docs = list(filter(lambda x: x.endswith('.txt'), data_list))\n",
    "docs.sort()\n",
    "docs.sort(key = lambda x: len(x))"
   ]
  },
  {
   "cell_type": "code",
   "execution_count": 4,
   "metadata": {},
   "outputs": [],
   "source": [
    "docs1 =[]\n",
    "for doc in docs:\n",
    "    docs1.append(open(doc, encoding='utf-8').read())"
   ]
  },
  {
   "cell_type": "code",
   "execution_count": 5,
   "metadata": {},
   "outputs": [],
   "source": [
    "def word(w, pos):\n",
    "    feat = [0 for i in range(13)]\n",
    "    if w == \"qwert\":\n",
    "        return tuple(feat)\n",
    "    if not(w.isdigit()):\n",
    "        if len(w) != 0:\n",
    "            if w[0].isupper():\n",
    "                feat[0] = 1\n",
    "        t = morph.parse(w)\n",
    "        if t[0].tag.POS == \"NOUN\":\n",
    "            feat[1] = 1\n",
    "        if t[0].tag.POS == \"ADJF\":\n",
    "            feat[2] = 1\n",
    "        if t[0].tag.case == \"nomn\":\n",
    "            feat[3] = 1\n",
    "        if t[0].tag.case == \"gent\":\n",
    "            feat[4] = 1\n",
    "        if t[0].tag.case == \"datv\":\n",
    "            feat[5] = 1\n",
    "        if t[0].tag.case == \"accs\":\n",
    "            feat[6] = 1\n",
    "        if t[0].tag.case == \"ablt\":\n",
    "            feat[7] = 1\n",
    "        if t[0].tag.case == \"loct\":\n",
    "            feat[8] = 1\n",
    "        if t[0].tag.gender == \"masc\":\n",
    "            feat[9] = 1\n",
    "        if t[0].tag.number == \"plur\":\n",
    "            feat[10] = 1\n",
    "        feat[11] = 1 if pos == 0 else 0\n",
    "        feat[12] = int(w.isupper())\n",
    "    return tuple(feat)"
   ]
  },
  {
   "cell_type": "code",
   "execution_count": 6,
   "metadata": {},
   "outputs": [
    {
     "name": "stderr",
     "output_type": "stream",
     "text": [
      "100%|████████████████████████████████████████████████████████████████████████████████| 254/254 [03:00<00:00,  1.41it/s]\n"
     ]
    }
   ],
   "source": [
    "list_of_res = []\n",
    "stop_words = stopwords.words('russian')\n",
    "for d in tqdm(docs1):\n",
    "    d = d.split()\n",
    "    c = []\n",
    "    flag = 0\n",
    "    for j, i in enumerate(d):\n",
    "        if morph.parse(i)[0].normal_form in stop_words:\n",
    "            i = \"qwert\"\n",
    "        if flag:\n",
    "            c.append(word(i.rstrip(string.punctuation), 0))\n",
    "        else:\n",
    "            c.append(word(i.rstrip(string.punctuation), 1))\n",
    "        if '.' in i:\n",
    "            flag = 1\n",
    "        else:\n",
    "            flag = 0\n",
    "    list_of_res.append(c)"
   ]
  },
  {
   "cell_type": "code",
   "execution_count": 7,
   "metadata": {},
   "outputs": [],
   "source": [
    "docs = list(filter(lambda x: x.endswith('.spans'), data_list))\n",
    "docs.sort()\n",
    "docs.sort(key = lambda x: len(x))\n",
    "j = 0\n",
    "#for i in docs:\n",
    "#    print(j, \" \", i)\n",
    "#    j +=1"
   ]
  },
  {
   "cell_type": "code",
   "execution_count": 8,
   "metadata": {},
   "outputs": [],
   "source": [
    "list_of_df = []\n",
    "i = 0\n",
    "for my_str in docs:\n",
    "#    print(i)\n",
    "    if os.stat(my_str).st_size != 0:\n",
    "        d = pd.read_csv(my_str, sep = ' ', encoding='utf-8')\n",
    "        list_of_df.append(d)\n",
    "    i+=1"
   ]
  },
  {
   "cell_type": "code",
   "execution_count": 9,
   "metadata": {},
   "outputs": [],
   "source": [
    "list_pos = []\n",
    "for i in list_of_df:\n",
    "    temp = []\n",
    "    p = i\n",
    "    k = p[(p.type_of_span == 'surname')  | (p.type_of_span == 'name')]\n",
    "    for i in range(k.shape[0]):\n",
    "        temp.append(k.iloc[[i], [2]].values[0][0])\n",
    "    list_pos.append(temp)"
   ]
  },
  {
   "cell_type": "code",
   "execution_count": 10,
   "metadata": {},
   "outputs": [],
   "source": [
    "docs = list(filter(lambda x: x.endswith('.txt'), data_list))\n",
    "docs.sort()\n",
    "docs.sort(key = lambda x: len(x))\n",
    "target_list = []\n",
    "list_of_res1 = []\n",
    "crot = 0\n",
    "for d in docs[:len(docs)-1:]:\n",
    "    temp = []\n",
    "    count = 0\n",
    "    f = open(d, 'r', encoding = 'utf-8')\n",
    "    p = f.read().split('\\n')\n",
    "#    print(crot, \" \",len(p))\n",
    "    for r in p:\n",
    "        if len(r) == 0:\n",
    "            count += 1\n",
    "        for c in r.split():\n",
    "            if count in list_pos[crot]:\n",
    "                temp.append(1)\n",
    "                list_of_res1.append(c)\n",
    "            else:\n",
    "                temp.append(0)                \n",
    "            count += len(c)+1\n",
    "    crot += 1\n",
    "    target_list.append(temp)"
   ]
  },
  {
   "cell_type": "code",
   "execution_count": 11,
   "metadata": {},
   "outputs": [
    {
     "name": "stdout",
     "output_type": "stream",
     "text": [
      "253\n",
      "254\n"
     ]
    }
   ],
   "source": [
    "print(len(target_list))\n",
    "print(len(list_of_res))"
   ]
  },
  {
   "cell_type": "code",
   "execution_count": 12,
   "metadata": {},
   "outputs": [],
   "source": [
    "list_of_res = list_of_res[:-1]"
   ]
  },
  {
   "cell_type": "code",
   "execution_count": 13,
   "metadata": {},
   "outputs": [],
   "source": [
    "for i in range(len(target_list)):\n",
    "    assert(len(target_list[i]) == len(list_of_res[i]))"
   ]
  },
  {
   "cell_type": "code",
   "execution_count": 98,
   "metadata": {},
   "outputs": [],
   "source": [
    "import numpy as np\n",
    "import matplotlib.pyplot as plt\n",
    "\n",
    "import seaborn as sns\n",
    "from sklearn import datasets\n",
    "from sklearn.base import BaseEstimator\n",
    "from sklearn.datasets import  fetch_20newsgroups\n",
    "\n",
    "from sklearn.feature_extraction.text import CountVectorizer, TfidfVectorizer, ENGLISH_STOP_WORDS\n",
    "from sklearn.model_selection import train_test_split, StratifiedKFold, KFold, cross_val_score\n",
    "from sklearn.neighbors import KNeighborsClassifier, KDTree, DistanceMetric\n",
    "from sklearn.metrics import accuracy_score, pairwise_distances\n",
    "\n",
    "from scipy.spatial.distance import cdist"
   ]
  },
  {
   "cell_type": "code",
   "execution_count": 99,
   "metadata": {},
   "outputs": [],
   "source": [
    "class MyKNeighborsClassifier(BaseEstimator):\n",
    "    \n",
    "    def __init__(self, n_neighbors, algorithm = 'brute', metric = 'euclidean'):\n",
    "        self.n_neighbors = n_neighbors\n",
    "        self.algorithm = algorithm\n",
    "        self.metric = metric\n",
    "        \n",
    "    def fit(self, X, y):\n",
    "        self.minlen = len(np.unique(y))\n",
    "        self.Y_train = y\n",
    "        if self.algorithm == 'brute':\n",
    "            self.X_train = X\n",
    "        elif self.algorithm == 'kd_tree':\n",
    "            self.X_tree = KDTree(X)    \n",
    "        \n",
    "    def predict(self, X):\n",
    "        if self.algorithm == 'brute':\n",
    "            distances = pairwise_distances(X, self.X_train, metric = self.metric)\n",
    "            indexes = np.argpartition(distances, self.n_neighbors, axis = 1)[:,:self.n_neighbors]\n",
    "            return np.apply_along_axis(np.bincount,1,self.Y_train[indexes], minlength = self.minlen).argmax(axis=1)\n",
    "        elif self.algorithm == 'kd_tree':\n",
    "            t = self.X_tree.query(X, k = self.n_neighbors)\n",
    "            return np.apply_along_axis(np.bincount, 1, self.Y_train[t[1]], minlength = self.minlen).argmax(axis = 1)\n",
    "        \n",
    "    def score(self,X,y):\n",
    "        return accuracy_score(y,self.predict(X))"
   ]
  },
  {
   "cell_type": "code",
   "execution_count": 100,
   "metadata": {},
   "outputs": [],
   "source": [
    "\n",
    "import sklearn.utils as utils\n",
    "def batch_generator(X, y, shuffle=True, batch_size=1):\n",
    "    \"\"\"\n",
    "    Гератор новых батчей для обучения\n",
    "    X          - матрица объекты-признаки\n",
    "    y_batch    - вектор ответов\n",
    "    shuffle    - нужно ли случайно перемешивать выборку\n",
    "    batch_size - размер батча ( 1 это SGD, > 1 mini-batch GD)\n",
    "    Генерирует подвыборку для итерации спуска (X_batch, y_batch)\n",
    "    \"\"\"\n",
    "    \n",
    "    if shuffle:\n",
    "        X_temp, y_temp = utils.shuffle(X, y)\n",
    "    else:\n",
    "        X_temp, y_temp = X, y\n",
    "    for i in np.arange(0, len(y), batch_size):\n",
    "        X_batch = X_temp[i:i+batch_size]\n",
    "        y_batch = y_temp[i:i+batch_size]\n",
    "        yield (X_batch, y_batch)\n",
    "\n",
    "from sklearn.base import BaseEstimator, ClassifierMixin\n",
    "from math import exp, log2, log\n",
    "\n",
    "def sigmoid(x):\n",
    "    \"\"\"\n",
    "    Вычисляем значение сигмоида.\n",
    "    X - выход линейной модели\n",
    "    \"\"\"\n",
    "    \n",
    "    try:\n",
    "        sigm_value_x = 1/(1 + exp(-x))\n",
    "        return sigm_value_x\n",
    "    except OverflowError:\n",
    "        return 1e-50\n",
    "\n",
    "def mylog2(x):\n",
    "    if x == 0.0:\n",
    "        return -1.3131231e+70\n",
    "    return log2(x)\n",
    "\n",
    "class MySGDClassifier(BaseEstimator, ClassifierMixin):\n",
    "    \n",
    "    def __init__(self, batch_generator, C = 1, alpha = 0.01, max_epoch = 10, model_type = 'lin_reg',\n",
    "                 batch_size = 1, border = 0.5):\n",
    "        \"\"\"\n",
    "        batch_generator -- функция генератор, которой будем создавать батчи\n",
    "        C - коэф. регуляризации\n",
    "        alpha - скорость спуска\n",
    "        max_epoch - максимальное количество эпох\n",
    "        model_type - тип модели, lin_reg или log_reg\n",
    "        \"\"\"\n",
    "        self.C = C\n",
    "        self.alpha = alpha\n",
    "        self.max_epoch = max_epoch\n",
    "        self.batch_generator = batch_generator\n",
    "        self.loss_values = []\n",
    "        self.type = model_type\n",
    "        self.batch_size = batch_size\n",
    "        self.border = border\n",
    "        if model_type == 'lin_reg':\n",
    "            self.C1 = 1\n",
    "        else:\n",
    "            self.C1 = 1 / (2 * log(2))\n",
    "        \n",
    "    def calc_loss(self, X_batch, y_batch):\n",
    "        \"\"\"\n",
    "        Считаем функцию потерь по батчу \n",
    "        X_batch - матрица объекты-признаки по батчу\n",
    "        y_batch - вектор ответов по батчу\n",
    "        Не забудте тип модели (линейная или логистическая регрессия)!\n",
    "        \"\"\"\n",
    "        \n",
    "        X = np.array(X_batch)\n",
    "        add = np.array([1] * (X.shape[0]))\n",
    "        add = add.reshape(-1, 1)\n",
    "        X = np.hstack((add, X))\n",
    "        y = np.array(y_batch)\n",
    "        \n",
    "        w = np.array(self.weights)\n",
    "        loss = X * w\n",
    "        loss = loss.sum(axis = 1).ravel()\n",
    "        \n",
    "        if self.type == 'lin_reg':\n",
    "            loss = (loss - y) ** 2\n",
    "            loss = loss.sum()\n",
    "        elif self.type == 'log_reg':\n",
    "            loss = np.array(list(map(sigmoid, loss)))\n",
    "            ones = loss[np.where(y == 1)]\n",
    "            ones = np.array(list(map(mylog2, ones)))\n",
    "            zeros = -loss[np.where(y == 0)]\n",
    "            zeros += 1\n",
    "            zeros = np.array(list(map(mylog2, zeros)))\n",
    "            loss = -zeros.sum() - ones.sum()\n",
    "        \n",
    "        loss /= np.size(y)\n",
    "        \n",
    "        reg = w ** 2\n",
    "        reg = reg.sum() / self.C\n",
    "        \n",
    "        return loss + reg\n",
    "    \n",
    "    def calc_loss_grad(self, X_batch, y_batch):\n",
    "        \"\"\"\n",
    "        Считаем  градиент функции потерь по батчу (то что Вы вывели в задании 1)\n",
    "        X_batch - матрица объекты-признаки по батчу\n",
    "        y_batch - вектор ответов по батчу\n",
    "        Не забудте тип модели (линейная или логистическая регрессия)!\n",
    "        \"\"\"\n",
    "        X = np.array(X_batch)\n",
    "        ones = np.array([1] * (X.shape[0])).reshape(-1, 1)\n",
    "        X = np.hstack((ones, X))\n",
    "        \n",
    "        y = np.array(y_batch).reshape(1, -1)\n",
    "        w = np.array(self.weights).reshape(1, -1)\n",
    "        a = X * w\n",
    "        a = a.sum(axis = 1).ravel()\n",
    "        \n",
    "        if self.type == 'log_reg':\n",
    "            a = np.array(list(map(sigmoid, a)))\n",
    "            \n",
    "        a = a - y\n",
    "        a = a.reshape(-1, 1)\n",
    "        loss_grad = X * a\n",
    "        loss_grad = loss_grad.mean(axis = 0) * self.C1\n",
    "        reg = w / self.C\n",
    "        \n",
    "        return 2 * (loss_grad + reg)[0]\n",
    "    \n",
    "    def update_weights(self, new_grad):\n",
    "        \"\"\"\n",
    "        Обновляем вектор весов\n",
    "        new_grad - градиент по батчу\n",
    "        \"\"\"\n",
    "        self.weights = self.weights - self.alpha * new_grad\n",
    "    \n",
    "    def fit(self, X, y):\n",
    "        '''\n",
    "        Обучение модели\n",
    "        X - матрица объекты-признаки\n",
    "        y - вектор ответов\n",
    "        '''\n",
    "        # Нужно инициализировать случайно веса\n",
    "        X = np.array(X)\n",
    "        y = np.array(y)\n",
    "        np.random.seed(20)\n",
    "        self.weights = np.random.randint(1, 10, size = X.shape[1] + 1)\n",
    "        self.weights = self.weights.astype(float)\n",
    "        for i in range(0, self.max_epoch):\n",
    "            new_gen = self.batch_generator(X, y, shuffle = True, batch_size = self.batch_size)\n",
    "            for batch in new_gen:\n",
    "                X_batch, y_batch = batch[0], batch[1]\n",
    "                loss = self.calc_loss(X_batch, y_batch)\n",
    "                self.loss_values.append(loss)\n",
    "                \n",
    "                grad = self.calc_loss_grad(X_batch, y_batch)\n",
    "                self.update_weights(grad)\n",
    "            self.alpha /= 2\n",
    "                \n",
    "        self.loss_values.append(self.calc_loss(X, y))\n",
    "        return self\n",
    "        \n",
    "    def predict(self, X):\n",
    "        '''\n",
    "        Предсказание класса\n",
    "        X - матрица объекты-признаки\n",
    "        Не забудте тип модели (линейная или логистическая регрессия)!\n",
    "        '''\n",
    "        X = np.array(X)\n",
    "        add = np.array([1] * X.shape[0])\n",
    "        add = add.reshape(-1, 1)\n",
    "        X = np.hstack((add, X))\n",
    "        \n",
    "        w = np.array(self.weights)\n",
    "        y_pred = X * w\n",
    "        y_pred = y_pred.sum(axis = 1).ravel()\n",
    "        if self.type == 'log_reg':\n",
    "            y_pred = np.array(list(map(sigmoid, y_pred)))\n",
    "            y_pred = (y_pred >= self.border).astype(int)\n",
    "        return y_pred"
   ]
  },
  {
   "cell_type": "code",
   "execution_count": 101,
   "metadata": {},
   "outputs": [],
   "source": [
    "\n",
    "import sklearn.utils as utils\n",
    "def batch_generator(X, y, shuffle=True, batch_size=1):\n",
    "    \"\"\"\n",
    "    Гератор новых батчей для обучения\n",
    "    X          - матрица объекты-признаки\n",
    "    y_batch    - вектор ответов\n",
    "    shuffle    - нужно ли случайно перемешивать выборку\n",
    "    batch_size - размер батча ( 1 это SGD, > 1 mini-batch GD)\n",
    "    Генерирует подвыборку для итерации спуска (X_batch, y_batch)\n",
    "    \"\"\"\n",
    "    \n",
    "    if shuffle:\n",
    "        X_temp, y_temp = utils.shuffle(X, y)\n",
    "    else:\n",
    "        X_temp, y_temp = X, y\n",
    "    for i in np.arange(0, len(y), batch_size):\n",
    "        X_batch = X_temp[i:i+batch_size]\n",
    "        y_batch = y_temp[i:i+batch_size]\n",
    "        yield (X_batch, y_batch)\n",
    "\n",
    "def sigmoid(x):\n",
    "    \"\"\"\n",
    "    Вычисляем значение сигмоида.\n",
    "    X - выход линейной модели\n",
    "    \"\"\"\n",
    "    sigm_value = 1/(1+np.exp(-x))\n",
    "\n",
    "    return sigm_value\n",
    "\n",
    "from sklearn.base import BaseEstimator, ClassifierMixin\n",
    "\n",
    "class MySGDClassifier(BaseEstimator, ClassifierMixin):\n",
    "    \n",
    "    def __init__(self, batch_generator, C=1, alpha=0.01, max_epoch=10, model_type='lin_reg',batch_size=10,threshold = 0.5):\n",
    "        \"\"\"\n",
    "        batch_generator -- функция генератор, которой будем создавать батчи\n",
    "        C - коэф. регуляризации\n",
    "        alpha - скорость спуска\n",
    "        max_epoch - максимальное количество эпох\n",
    "        model_type - тим модели, lin_reg или log_reg\n",
    "        \"\"\"\n",
    "        \n",
    "        self.C = C\n",
    "        self.alpha = alpha\n",
    "        self.max_epoch = max_epoch\n",
    "        self.batch_generator = batch_generator\n",
    "        self.batch_size = batch_size\n",
    "        self.errors_log = {'iter' : [], 'loss' : []}  \n",
    "        self.model_type = model_type\n",
    "        self.threshold = threshold\n",
    "        \n",
    "    def calc_loss(self, X_batch, y_batch):\n",
    "        \"\"\"\n",
    "        Считаем функцию потерь по батчу \n",
    "        X_batch - матрица объекты-признаки по батчу\n",
    "        y_batch - вектор ответов по батчу\n",
    "        Не забудте тип модели (линейная или логистическая регрессия)!\n",
    "        \"\"\"\n",
    "        N = len(y)\n",
    "        if(self.model_type == 'lin_reg'):            \n",
    "            loss = 1/N*(y_batch - np.dot(X_batch, self.weights)) ** 2         \n",
    "        if(self.model_type == 'log_reg'):            \n",
    "            p = sigmoid(np.dot(X_batch, self.weights))\n",
    "            loss = -1/N*(y_batch * np.log(p) + (1-y_batch) * np.log(1-p))\n",
    "        loss += np.sum(self.weights ** 2)/ self.C\n",
    "        return loss\n",
    "    \n",
    "    def calc_loss_grad(self, X_batch, y_batch):\n",
    "        \"\"\"\n",
    "        Считаем  градиент функции потерь по батчу (то что Вы вывели в задании 1)\n",
    "        X_batch - матрица объекты-признаки по батчу\n",
    "        y_batch - вектор ответов по батчу\n",
    "        Не забудте тип модели (линейная или логистическая регрессия)!\n",
    "        \"\"\"\n",
    "        N=len(y) \n",
    "        Xw = np.dot(X_batch, self.weights)\n",
    "        if(self.model_type == 'lin_reg'):\n",
    "            lossgr = 2/N*np.dot(Xw - y_batch, X_batch)\n",
    "        if(self.model_type == 'log_reg'):\n",
    "            Xw = sigmoid(Xw)\n",
    "            lossgr = 1/N*np.dot(Xw - y_batch, X_batch)\n",
    "        lossgr += 2*self.weights/self.C\n",
    "        return lossgr\n",
    "    \n",
    "    def update_weights(self, new_grad):\n",
    "        \"\"\"\n",
    "        Обновляем вектор весов\n",
    "        new_grad - градиент по батчу\n",
    "        \"\"\"\n",
    "        self.weights -= self.alpha*new_grad\n",
    "    \n",
    "    def fit(self, X, y):\n",
    "        '''\n",
    "        Обучение модели\n",
    "        X - матрица объекты-признаки\n",
    "        y - вектор ответов\n",
    "        '''\n",
    "        # Нужно инициализровать случайно веса\n",
    "        self.weights = np.random.uniform(0,2,X.shape[1])\n",
    "        for n in range(0, self.max_epoch):\n",
    "            new_epoch_generator = self.batch_generator(X, y, batch_size=self.batch_size)\n",
    "            for num, batch in enumerate(new_epoch_generator):\n",
    "                X_batch, y_batch = batch\n",
    "                grad = self.calc_loss_grad(X_batch, y_batch)\n",
    "                self.update_weights(grad)\n",
    "                # Подумайте в каком месте стоит посчитать ошибку для отладки модели\n",
    "                # До градиентного шага или после\n",
    "                loss = self.calc_loss(X_batch, y_batch)          \n",
    "                self.errors_log['iter'].append(num)\n",
    "                self.errors_log['loss'].append(loss)     \n",
    "        return self\n",
    "        \n",
    "    def predict(self, X):\n",
    "        '''\n",
    "        Предсказание класса\n",
    "        X - матрица объекты-признаки\n",
    "        Не забудте тип модели (линейная или логистическая регрессия)!\n",
    "        '''\n",
    "        if(self.model_type == 'lin_reg'):\n",
    "            y_hat = np.dot(X, self.weights)\n",
    "            y_hat=np.array(list(map(int, np.dot(X, self.weights) > self.threshold)))\n",
    "        if(self.model_type == 'log_reg'):\n",
    "            temp = sigmoid(np.dot(X, self.weights))\n",
    "            y_hat=np.array(list(map(int, temp > self.threshold)))\n",
    "        # Желательно здесь использовать матричные операции между X и весами, например, numpy.dot \n",
    "        return y_hat"
   ]
  },
  {
   "cell_type": "code",
   "execution_count": 36,
   "metadata": {},
   "outputs": [],
   "source": [
    "knn, sgd, tree = KNeighborsClassifier(n_neighbors = 8), SGDClassifier(), DecisionTreeClassifier(max_depth = 8)"
   ]
  },
  {
   "cell_type": "code",
   "execution_count": 15,
   "metadata": {},
   "outputs": [],
   "source": [
    "X_new = []\n",
    "for i in list_of_res:\n",
    "    for x in i:\n",
    "        X_new.append(x)\n",
    "y_new = []\n",
    "for i in target_list:\n",
    "    for x in i:\n",
    "        y_new.append(x)"
   ]
  },
  {
   "cell_type": "code",
   "execution_count": 16,
   "metadata": {},
   "outputs": [
    {
     "data": {
      "text/plain": [
       "((66422, 13), (66422,))"
      ]
     },
     "execution_count": 16,
     "metadata": {},
     "output_type": "execute_result"
    }
   ],
   "source": [
    "X, y = np.array(X_new), np.array(y_new)\n",
    "X_train, X_test, y_train, y_test = train_test_split(X, y, test_size = 0.1,  random_state=0)\n",
    "X_train.shape, y_train.shape"
   ]
  },
  {
   "cell_type": "code",
   "execution_count": 34,
   "metadata": {},
   "outputs": [
    {
     "name": "stdout",
     "output_type": "stream",
     "text": [
      "8\n"
     ]
    },
    {
     "data": {
      "image/png": "[encoded data removed]",
      "text/plain": [
       "<Figure size 432x288 with 1 Axes>"
      ]
     },
     "metadata": {
      "needs_background": "light"
     },
     "output_type": "display_data"
    }
   ],
   "source": [
    "temp = []\n",
    "for i in range(1, 12):\n",
    "    k = KNeighborsClassifier(n_neighbors = i)\n",
    "    k.fit(X_train, y_train)\n",
    "    temp.append(f1_score(k.predict(X_test), y_test))\n",
    "plt.plot(temp)\n",
    "best_param = np.argmax(temp)\n",
    "print(best_param+1)"
   ]
  },
  {
   "cell_type": "code",
   "execution_count": 24,
   "metadata": {},
   "outputs": [
    {
     "name": "stderr",
     "output_type": "stream",
     "text": [
      "C:\\Users\\etrib\\Anaconda3\\lib\\site-packages\\sklearn\\metrics\\classification.py:1439: UndefinedMetricWarning: F-score is ill-defined and being set to 0.0 due to no true samples.\n",
      "  'recall', 'true', average, warn_for)\n"
     ]
    },
    {
     "name": "stdout",
     "output_type": "stream",
     "text": [
      "7\n"
     ]
    },
    {
     "data": {
      "image/png": "[encoded data removed]",
      "text/plain": [
       "<Figure size 432x288 with 1 Axes>"
      ]
     },
     "metadata": {
      "needs_background": "light"
     },
     "output_type": "display_data"
    }
   ],
   "source": [
    "temp = []\n",
    "for i in range(1, 12):\n",
    "    t = DecisionTreeClassifier(max_depth = i)\n",
    "    t.fit(X_train, y_train)\n",
    "    temp.append(f1_score(t.predict(X_test), y_test))\n",
    "plt.plot(temp)\n",
    "best_param = np.argmax(temp)\n",
    "print(best_param)"
   ]
  },
  {
   "cell_type": "code",
   "execution_count": 39,
   "metadata": {},
   "outputs": [
    {
     "data": {
      "text/plain": [
       "DecisionTreeClassifier(class_weight=None, criterion='gini', max_depth=8,\n",
       "                       max_features=None, max_leaf_nodes=None,\n",
       "                       min_impurity_decrease=0.0, min_impurity_split=None,\n",
       "                       min_samples_leaf=1, min_samples_split=2,\n",
       "                       min_weight_fraction_leaf=0.0, presort=False,\n",
       "                       random_state=None, splitter='best')"
      ]
     },
     "execution_count": 39,
     "metadata": {},
     "output_type": "execute_result"
    }
   ],
   "source": [
    "sgd.fit(X_train, y_train)\n",
    "knn.fit(X_train, y_train)\n",
    "tree.fit(X_train, y_train)"
   ]
  },
  {
   "cell_type": "code",
   "execution_count": 277,
   "metadata": {},
   "outputs": [
    {
     "name": "stdout",
     "output_type": "stream",
     "text": [
      "0.6912751677852349\n",
      "0.6959459459459459\n",
      "0.7371601208459213\n"
     ]
    }
   ],
   "source": [
    "#old result\n",
    "print(f1_score(sgd.predict(X_test), y_test))\n",
    "print(f1_score(knn.predict(X_test), y_test))\n",
    "print(f1_score(tree.predict(X_test), y_test))"
   ]
  },
  {
   "cell_type": "code",
   "execution_count": 40,
   "metadata": {},
   "outputs": [
    {
     "name": "stdout",
     "output_type": "stream",
     "text": [
      "0.7083969465648855\n",
      "0.7336244541484715\n",
      "0.7500000000000001\n"
     ]
    }
   ],
   "source": [
    "#new_result\n",
    "print(f1_score(sgd.predict(X_test), y_test))\n",
    "print(f1_score(knn.predict(X_test), y_test))\n",
    "print(f1_score(tree.predict(X_test), y_test))"
   ]
  },
  {
   "cell_type": "code",
   "execution_count": 224,
   "metadata": {},
   "outputs": [
    {
     "data": {
      "text/plain": [
       "[('Первая буква заглавная', 0.4706088574386281),\n",
       " ('Сущ.', 0.02834114415656145),\n",
       " ('Прилаг.', 0.010407587322207909),\n",
       " ('Глагол', 0.001668846632141924),\n",
       " ('Союз', 0.0008870097911468075),\n",
       " ('Именит.', 0.023164670476140417),\n",
       " ('Род.', 0.008215572812489186),\n",
       " ('Дат.', 0.007215233460930916),\n",
       " ('Винит.', 0.006487551955772331),\n",
       " ('Твор.', 0.004374433180325929),\n",
       " ('Предлож.', 0.046235679951058185),\n",
       " ('Муж.', 0.24120390900216543),\n",
       " ('Жен.', 0.018138022725477005),\n",
       " ('Первое слово в предложении', 0.07308089442971791),\n",
       " ('Все буквы заглавные', 0.05801479198518237),\n",
       " ('Одушевленный', 0.0019557946800542216)]"
      ]
     },
     "execution_count": 224,
     "metadata": {},
     "output_type": "execute_result"
    }
   ],
   "source": [
    "features = ['Первая буква заглавная','Сущ.','Прилаг.','Глагол','Союз','Именит.','Род.','Дат.','Винит.','Твор.','Предлож.','Муж.','Жен.','Первое слово в предложении','Все буквы заглавные','Одушевленный']\n",
    "p = list(zip(features,tree.feature_importances_))\n",
    "p.sort(key = lambda x: x[1], reverse = True)\n",
    "p"
   ]
  },
  {
   "cell_type": "code",
   "execution_count": 41,
   "metadata": {},
   "outputs": [],
   "source": [
    "def func(my_str):\n",
    "    temp = []\n",
    "    new_str = []\n",
    "    for j, i in enumerate(my_str.split()):\n",
    "        if i.rstrip(string.punctuation) in stop_words:\n",
    "            i = \"qwert\"\n",
    "        new_str.append(word(i.rstrip(string.punctuation), j))\n",
    "    #    print(word(i.rstrip(string.punctuation), j))\n",
    "    p = sgd.predict(new_str)\n",
    "    new_str = \"\"\n",
    "    for j, i in enumerate(my_str.split()):\n",
    "        if p[j] == 1:\n",
    "            i = \"[ PER \" + i + \" ]\"\n",
    "        new_str += \" \" + i\n",
    "    print(new_str)"
   ]
  },
  {
   "cell_type": "code",
   "execution_count": 42,
   "metadata": {},
   "outputs": [],
   "source": [
    "examp = []\n",
    "examp.append(\"Однажды весною, в час небывало жаркого заката, в Москве, на Патриарших прудах, появились два гражданина. Первый был не кто иной, как Михаил Александрович Берлиоз, председатель правления одной из крупнейших московских литературных ассоциаций, сокращенно именуемой МАССОЛИТ.\")\n",
    "examp.append(\"Президент РФ Владимир Путин выступит с заявлением на встрече с губернаторами во вторник, 28 апреля, заявил губернатор Вологодской области Олег Кувшинников. Ранее обращение президента анонсировал пресс-секретарь главы государства Дмитрий Песков.\")\n",
    "examp.append(\"В разное время обладателями «Хрустального компаса» становились Фёдор Конюхов и Фредерик Паулсен, National geographic society и МГУ им. Ломоносова, Северный флот и подразделения РАН и др. Премия проводится под эгидой Русского географического общества и ПАО «Газпром».\")\n",
    "examp.append(\"Пантеле́й Деми́дович Пя́нда роидлся в 1587 году. Им была открыта река Cысола в 1623.\")\n",
    "examp.append(\"18 августа 2008 года на пекинской Олимпиаде Елена Исинбаева установила мировой рекорд — 5,05 м.\")"
   ]
  },
  {
   "cell_type": "code",
   "execution_count": 48,
   "metadata": {
    "scrolled": true
   },
   "outputs": [
    {
     "name": "stdout",
     "output_type": "stream",
     "text": [
      " Однажды весною, в час небывало жаркого заката, в Москве, на Патриарших прудах, появились два гражданина. Первый был не кто иной, как [ PER Михаил ] [ PER Александрович ] [ PER Берлиоз, ] председатель правления одной из крупнейших московских литературных ассоциаций, сокращенно именуемой МАССОЛИТ.\n",
      "\n",
      "\n",
      " Президент РФ [ PER Владимир ] [ PER Путин ] выступит с заявлением на встрече с губернаторами во вторник, 28 апреля, заявил губернатор Вологодской области [ PER Олег ] [ PER Кувшинников. ] Ранее обращение президента анонсировал пресс-секретарь главы государства [ PER Дмитрий ] [ PER Песков. ]\n",
      "\n",
      "\n",
      " В разное время обладателями «Хрустального компаса» становились [ PER Фёдор ] [ PER Конюхов ] и [ PER Фредерик ] [ PER Паулсен, ] National geographic society и МГУ им. [ PER Ломоносова, ] Северный флот и подразделения РАН и др. Премия проводится под эгидой Русского географического общества и ПАО «Газпром».\n",
      "\n",
      "\n",
      " Пантеле́й [ PER Деми́дович ] [ PER Пя́нда ] роидлся в 1587 году. Им была открыта река [ PER Cысола ] в 1623.\n",
      "\n",
      "\n",
      " 18 августа 2008 года на пекинской Олимпиаде Елена [ PER Исинбаева ] установила мировой рекорд — 5,05 м.\n",
      "\n",
      "\n"
     ]
    }
   ],
   "source": [
    "for i in range(5):\n",
    "    func(examp[i])\n",
    "    print(\"\\n\")"
   ]
  },
  {
   "cell_type": "code",
   "execution_count": null,
   "metadata": {},
   "outputs": [],
   "source": []
  }
 ],
 "metadata": {
  "kernelspec": {
   "display_name": "Python 3",
   "language": "python",
   "name": "python3"
  },
  "language_info": {
   "codemirror_mode": {
    "name": "ipython",
    "version": 3
   },
   "file_extension": ".py",
   "mimetype": "text/x-python",
   "name": "python",
   "nbconvert_exporter": "python",
   "pygments_lexer": "ipython3",
   "version": "3.7.4"
  }
 },
 "nbformat": 4,
 "nbformat_minor": 2
}
